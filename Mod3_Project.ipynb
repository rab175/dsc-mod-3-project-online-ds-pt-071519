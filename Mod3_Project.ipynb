{
 "cells": [
  {
   "cell_type": "markdown",
   "metadata": {},
   "source": [
    "<img src=\"files/Northwind_ERD_updated.png\">"
   ]
  },
  {
   "cell_type": "markdown",
   "metadata": {},
   "source": [
    "## Question 1"
   ]
  },
  {
   "cell_type": "markdown",
   "metadata": {},
   "source": [
    "**Research question 1:** Does discount amount have a statistically significant effect on the quantity of a product in an order? If so, at what level(s) of discount?"
   ]
  },
  {
   "cell_type": "code",
   "execution_count": 1,
   "metadata": {},
   "outputs": [],
   "source": [
    "import pandas as pd\n",
    "import sqlite3\n",
    "import numpy as np\n",
    "from functions import *\n",
    "import matplotlib.pyplot as plt\n",
    "import seaborn as sns\n",
    "import scipy.stats as stats\n",
    "import math\n",
    "sns.set_style('darkgrid')\n",
    "%matplotlib inline"
   ]
  },
  {
   "cell_type": "code",
   "execution_count": 2,
   "metadata": {},
   "outputs": [],
   "source": [
    "conn = sqlite3.Connection('Northwind_small.sqlite')\n",
    "cur = conn.cursor()"
   ]
  },
  {
   "cell_type": "code",
   "execution_count": 3,
   "metadata": {},
   "outputs": [
    {
     "data": {
      "text/plain": [
       "[('Employee',),\n",
       " ('Category',),\n",
       " ('Customer',),\n",
       " ('Shipper',),\n",
       " ('Supplier',),\n",
       " ('Order',),\n",
       " ('Product',),\n",
       " ('OrderDetail',),\n",
       " ('CustomerCustomerDemo',),\n",
       " ('CustomerDemographic',),\n",
       " ('Region',),\n",
       " ('Territory',),\n",
       " ('EmployeeTerritory',)]"
      ]
     },
     "execution_count": 3,
     "metadata": {},
     "output_type": "execute_result"
    }
   ],
   "source": [
    "cursor.execute('select name from sqlite_master where type =\"table\"').fetchall()"
   ]
  },
  {
   "cell_type": "code",
   "execution_count": 4,
   "metadata": {},
   "outputs": [],
   "source": [
    "df = get_table(table='OrderDetail')"
   ]
  },
  {
   "cell_type": "code",
   "execution_count": 5,
   "metadata": {},
   "outputs": [
    {
     "data": {
      "text/html": [
       "<div>\n",
       "<style scoped>\n",
       "    .dataframe tbody tr th:only-of-type {\n",
       "        vertical-align: middle;\n",
       "    }\n",
       "\n",
       "    .dataframe tbody tr th {\n",
       "        vertical-align: top;\n",
       "    }\n",
       "\n",
       "    .dataframe thead th {\n",
       "        text-align: right;\n",
       "    }\n",
       "</style>\n",
       "<table border=\"1\" class=\"dataframe\">\n",
       "  <thead>\n",
       "    <tr style=\"text-align: right;\">\n",
       "      <th></th>\n",
       "      <th>Id</th>\n",
       "      <th>OrderId</th>\n",
       "      <th>ProductId</th>\n",
       "      <th>UnitPrice</th>\n",
       "      <th>Quantity</th>\n",
       "      <th>Discount</th>\n",
       "    </tr>\n",
       "  </thead>\n",
       "  <tbody>\n",
       "    <tr>\n",
       "      <th>0</th>\n",
       "      <td>10248/11</td>\n",
       "      <td>10248</td>\n",
       "      <td>11</td>\n",
       "      <td>14.0</td>\n",
       "      <td>12</td>\n",
       "      <td>0.0</td>\n",
       "    </tr>\n",
       "    <tr>\n",
       "      <th>1</th>\n",
       "      <td>10248/42</td>\n",
       "      <td>10248</td>\n",
       "      <td>42</td>\n",
       "      <td>9.8</td>\n",
       "      <td>10</td>\n",
       "      <td>0.0</td>\n",
       "    </tr>\n",
       "    <tr>\n",
       "      <th>2</th>\n",
       "      <td>10248/72</td>\n",
       "      <td>10248</td>\n",
       "      <td>72</td>\n",
       "      <td>34.8</td>\n",
       "      <td>5</td>\n",
       "      <td>0.0</td>\n",
       "    </tr>\n",
       "    <tr>\n",
       "      <th>3</th>\n",
       "      <td>10249/14</td>\n",
       "      <td>10249</td>\n",
       "      <td>14</td>\n",
       "      <td>18.6</td>\n",
       "      <td>9</td>\n",
       "      <td>0.0</td>\n",
       "    </tr>\n",
       "    <tr>\n",
       "      <th>4</th>\n",
       "      <td>10249/51</td>\n",
       "      <td>10249</td>\n",
       "      <td>51</td>\n",
       "      <td>42.4</td>\n",
       "      <td>40</td>\n",
       "      <td>0.0</td>\n",
       "    </tr>\n",
       "  </tbody>\n",
       "</table>\n",
       "</div>"
      ],
      "text/plain": [
       "         Id  OrderId  ProductId  UnitPrice  Quantity  Discount\n",
       "0  10248/11    10248         11       14.0        12       0.0\n",
       "1  10248/42    10248         42        9.8        10       0.0\n",
       "2  10248/72    10248         72       34.8         5       0.0\n",
       "3  10249/14    10249         14       18.6         9       0.0\n",
       "4  10249/51    10249         51       42.4        40       0.0"
      ]
     },
     "metadata": {},
     "output_type": "display_data"
    },
    {
     "name": "stdout",
     "output_type": "stream",
     "text": [
      "<class 'pandas.core.frame.DataFrame'>\n",
      "RangeIndex: 2155 entries, 0 to 2154\n",
      "Data columns (total 6 columns):\n",
      "Id           2155 non-null object\n",
      "OrderId      2155 non-null int64\n",
      "ProductId    2155 non-null int64\n",
      "UnitPrice    2155 non-null float64\n",
      "Quantity     2155 non-null int64\n",
      "Discount     2155 non-null float64\n",
      "dtypes: float64(2), int64(3), object(1)\n",
      "memory usage: 101.1+ KB\n"
     ]
    },
    {
     "data": {
      "text/plain": [
       "None"
      ]
     },
     "metadata": {},
     "output_type": "display_data"
    },
    {
     "data": {
      "text/html": [
       "<div>\n",
       "<style scoped>\n",
       "    .dataframe tbody tr th:only-of-type {\n",
       "        vertical-align: middle;\n",
       "    }\n",
       "\n",
       "    .dataframe tbody tr th {\n",
       "        vertical-align: top;\n",
       "    }\n",
       "\n",
       "    .dataframe thead th {\n",
       "        text-align: right;\n",
       "    }\n",
       "</style>\n",
       "<table border=\"1\" class=\"dataframe\">\n",
       "  <thead>\n",
       "    <tr style=\"text-align: right;\">\n",
       "      <th></th>\n",
       "      <th>OrderId</th>\n",
       "      <th>ProductId</th>\n",
       "      <th>UnitPrice</th>\n",
       "      <th>Quantity</th>\n",
       "      <th>Discount</th>\n",
       "    </tr>\n",
       "  </thead>\n",
       "  <tbody>\n",
       "    <tr>\n",
       "      <th>count</th>\n",
       "      <td>2155.000000</td>\n",
       "      <td>2155.000000</td>\n",
       "      <td>2155.000000</td>\n",
       "      <td>2155.000000</td>\n",
       "      <td>2155.000000</td>\n",
       "    </tr>\n",
       "    <tr>\n",
       "      <th>mean</th>\n",
       "      <td>10659.375870</td>\n",
       "      <td>40.793039</td>\n",
       "      <td>26.218520</td>\n",
       "      <td>23.812993</td>\n",
       "      <td>0.056167</td>\n",
       "    </tr>\n",
       "    <tr>\n",
       "      <th>std</th>\n",
       "      <td>241.378032</td>\n",
       "      <td>22.159019</td>\n",
       "      <td>29.827418</td>\n",
       "      <td>19.022047</td>\n",
       "      <td>0.083450</td>\n",
       "    </tr>\n",
       "    <tr>\n",
       "      <th>min</th>\n",
       "      <td>10248.000000</td>\n",
       "      <td>1.000000</td>\n",
       "      <td>2.000000</td>\n",
       "      <td>1.000000</td>\n",
       "      <td>0.000000</td>\n",
       "    </tr>\n",
       "    <tr>\n",
       "      <th>25%</th>\n",
       "      <td>10451.000000</td>\n",
       "      <td>22.000000</td>\n",
       "      <td>12.000000</td>\n",
       "      <td>10.000000</td>\n",
       "      <td>0.000000</td>\n",
       "    </tr>\n",
       "    <tr>\n",
       "      <th>50%</th>\n",
       "      <td>10657.000000</td>\n",
       "      <td>41.000000</td>\n",
       "      <td>18.400000</td>\n",
       "      <td>20.000000</td>\n",
       "      <td>0.000000</td>\n",
       "    </tr>\n",
       "    <tr>\n",
       "      <th>75%</th>\n",
       "      <td>10862.500000</td>\n",
       "      <td>60.000000</td>\n",
       "      <td>32.000000</td>\n",
       "      <td>30.000000</td>\n",
       "      <td>0.100000</td>\n",
       "    </tr>\n",
       "    <tr>\n",
       "      <th>max</th>\n",
       "      <td>11077.000000</td>\n",
       "      <td>77.000000</td>\n",
       "      <td>263.500000</td>\n",
       "      <td>130.000000</td>\n",
       "      <td>0.250000</td>\n",
       "    </tr>\n",
       "  </tbody>\n",
       "</table>\n",
       "</div>"
      ],
      "text/plain": [
       "            OrderId    ProductId    UnitPrice     Quantity     Discount\n",
       "count   2155.000000  2155.000000  2155.000000  2155.000000  2155.000000\n",
       "mean   10659.375870    40.793039    26.218520    23.812993     0.056167\n",
       "std      241.378032    22.159019    29.827418    19.022047     0.083450\n",
       "min    10248.000000     1.000000     2.000000     1.000000     0.000000\n",
       "25%    10451.000000    22.000000    12.000000    10.000000     0.000000\n",
       "50%    10657.000000    41.000000    18.400000    20.000000     0.000000\n",
       "75%    10862.500000    60.000000    32.000000    30.000000     0.100000\n",
       "max    11077.000000    77.000000   263.500000   130.000000     0.250000"
      ]
     },
     "metadata": {},
     "output_type": "display_data"
    }
   ],
   "source": [
    "inspect_dataframe(df)"
   ]
  },
  {
   "cell_type": "code",
   "execution_count": 6,
   "metadata": {},
   "outputs": [
    {
     "data": {
      "text/plain": [
       "0.00    1317\n",
       "0.05     185\n",
       "0.10     173\n",
       "0.20     161\n",
       "0.15     157\n",
       "0.25     154\n",
       "0.03       3\n",
       "0.02       2\n",
       "0.01       1\n",
       "0.04       1\n",
       "0.06       1\n",
       "Name: Discount, dtype: int64"
      ]
     },
     "execution_count": 6,
     "metadata": {},
     "output_type": "execute_result"
    }
   ],
   "source": [
    "df.Discount.value_counts()"
   ]
  },
  {
   "cell_type": "code",
   "execution_count": 7,
   "metadata": {},
   "outputs": [],
   "source": [
    "# cur.execute(\"\"\"SELECT * from OrderDetail\"\"\")\n",
    "\n",
    "# df = pd.DataFrame(cur.fetchall())\n",
    "# df.columns = [x[0] for x in cur.description]\n",
    "\n",
    "# print(len(df))\n",
    "# df.head()"
   ]
  },
  {
   "cell_type": "code",
   "execution_count": 8,
   "metadata": {},
   "outputs": [],
   "source": [
    "discount_rates = set(df.Discount.values)"
   ]
  },
  {
   "cell_type": "code",
   "execution_count": 9,
   "metadata": {},
   "outputs": [],
   "source": [
    "# avg_order_size = []\n",
    "# for d in discount_rates:\n",
    "#     mu = df[df['Discount'] == d]['Quantity'].mean()\n",
    "#     avg_order_size.append(mu)\n",
    "    \n",
    "# avg_order_size"
   ]
  },
  {
   "cell_type": "code",
   "execution_count": 10,
   "metadata": {},
   "outputs": [
    {
     "data": {
      "text/plain": [
       "{0.0: 21.715261958997722,\n",
       " 0.25: 28.24025974025974,\n",
       " 0.2: 27.024844720496894,\n",
       " 0.05: 28.01081081081081,\n",
       " 0.15: 28.38216560509554,\n",
       " 0.1: 25.23699421965318,\n",
       " 0.03: 1.6666666666666667,\n",
       " 0.06: 2.0,\n",
       " 0.01: 2.0,\n",
       " 0.04: 1.0,\n",
       " 0.02: 2.0}"
      ]
     },
     "execution_count": 10,
     "metadata": {},
     "output_type": "execute_result"
    }
   ],
   "source": [
    "avg_discount_order_size = {}\n",
    "\n",
    "for d in discount_rates: \n",
    "    avg_discount_order_size[d] = df[df['Discount'] == d]['Quantity'].mean()\n",
    "    \n",
    "avg_discount_order_size"
   ]
  },
  {
   "cell_type": "code",
   "execution_count": 11,
   "metadata": {},
   "outputs": [
    {
     "data": {
      "image/png": "[encoded data removed]",
      "text/plain": [
       "<Figure size 864x432 with 2 Axes>"
      ]
     },
     "metadata": {
      "needs_background": "light"
     },
     "output_type": "display_data"
    }
   ],
   "source": [
    "plt.figure(figsize=(12,6))\n",
    "ax1 = plt.subplot(1,2,1)\n",
    "ax2 = plt.subplot(1,2,2)\n",
    "\n",
    "sns.barplot(x=list(avg_discount_order_size.keys()), y=list(avg_discount_order_size.values()), ax=ax1)\n",
    "sns.boxplot(x=df.Discount, y=df.Quantity, data=df, ax=ax2)\n",
    "plt.show()"
   ]
  },
  {
   "cell_type": "markdown",
   "metadata": {},
   "source": [
    "**Record initial observations**"
   ]
  },
  {
   "cell_type": "code",
   "execution_count": 12,
   "metadata": {},
   "outputs": [],
   "source": [
    "# df.ProductId.nunique()"
   ]
  },
  {
   "cell_type": "code",
   "execution_count": 13,
   "metadata": {},
   "outputs": [],
   "source": [
    "# df.OrderId.nunique()"
   ]
  },
  {
   "cell_type": "code",
   "execution_count": 14,
   "metadata": {},
   "outputs": [],
   "source": [
    "# len(df.OrderId)"
   ]
  },
  {
   "cell_type": "markdown",
   "metadata": {},
   "source": [
    "**Does discount have an effect on order size? Break data into 2 groups: discount and no-discount**"
   ]
  },
  {
   "cell_type": "code",
   "execution_count": 15,
   "metadata": {},
   "outputs": [],
   "source": [
    "no_d = np.array(df[df['Discount'] == 0.0]['Quantity'])\n",
    "d = np.array(df[df['Discount'] != 0.0]['Quantity'])"
   ]
  },
  {
   "cell_type": "code",
   "execution_count": 16,
   "metadata": {},
   "outputs": [
    {
     "name": "stdout",
     "output_type": "stream",
     "text": [
      "The size of group1 is: 1317  \t  The size of group2 is 838\n",
      "The mean of group1 is: 21.715261958997722 \t  The mean of group2 is: 27.10978520286396\n",
      "The std of group1 is: 17.500845477669806 \t  The std of group2 is: 20.759042075141373\n"
     ]
    }
   ],
   "source": [
    "compare_2(no_d,d)"
   ]
  },
  {
   "cell_type": "markdown",
   "metadata": {},
   "source": [
    "* record some observations"
   ]
  },
  {
   "cell_type": "markdown",
   "metadata": {},
   "source": [
    "visually inspect"
   ]
  },
  {
   "cell_type": "code",
   "execution_count": 17,
   "metadata": {},
   "outputs": [
    {
     "name": "stderr",
     "output_type": "stream",
     "text": [
      "/Users/rab/anaconda3/envs/learn-env/lib/python3.6/site-packages/scipy/stats/stats.py:1713: FutureWarning: Using a non-tuple sequence for multidimensional indexing is deprecated; use `arr[tuple(seq)]` instead of `arr[seq]`. In the future this will be interpreted as an array index, `arr[np.array(seq)]`, which will result either in an error or a different result.\n",
      "  return np.add.reduce(sorted[indexer] * weights, axis=axis) / sumval\n"
     ]
    },
    {
     "data": {
      "text/plain": [
       "<matplotlib.legend.Legend at 0x1a15717f60>"
      ]
     },
     "execution_count": 17,
     "metadata": {},
     "output_type": "execute_result"
    },
    {
     "data": {
      "image/png": "[encoded data removed]",
      "text/plain": [
       "<Figure size 432x288 with 1 Axes>"
      ]
     },
     "metadata": {
      "needs_background": "light"
     },
     "output_type": "display_data"
    }
   ],
   "source": [
    "sns.distplot(no_d, label='no discount')\n",
    "sns.distplot(d, label='discount')\n",
    "plt.legend()"
   ]
  },
  {
   "cell_type": "markdown",
   "metadata": {},
   "source": [
    "We've given it a good look, reiterate observations and make some hypotheses\n",
    "\n",
    "**Null Hypothesis (H0): There is no relationship between discount and quantity ordered**\n",
    "\n",
    "**Alternative Hypothesis (Ha): There is a positive relationship between discount and quantity ordered - a discount is likely to result in a larger order**\n",
    "\n",
    "To ensure we have a stisitcally significant effect we'll get for a 95% level of confidence, and set **alpha to .05**"
   ]
  },
  {
   "cell_type": "code",
   "execution_count": 18,
   "metadata": {},
   "outputs": [],
   "source": [
    "alpha=.05"
   ]
  },
  {
   "cell_type": "markdown",
   "metadata": {},
   "source": [
    "In order to accept or reject H0 we will conduct a statistical test to see if the quantities ordered with a discount are statistically significantly greater than our baseline orders, or, orders with no discount. \n",
    "\n",
    "We can test our hypothesis with a one-sided t-test. Both of our groups of data are independent of one another, that is to say that quantity ordered per order in one group should not be affected by quantity ordered in the other. Therefore we will do an independent t-test with. \n",
    "\n",
    "But, first we must check our assumptions of normality for each group to determine if we need to sample. We'll do this with the shapiro-wilke test for normality. "
   ]
  },
  {
   "cell_type": "code",
   "execution_count": 19,
   "metadata": {},
   "outputs": [
    {
     "name": "stdout",
     "output_type": "stream",
     "text": [
      "p = 6.88120409395894e-26 \t Therefore the data is not normal\n",
      "p = 3.803856556577728e-34 \t Therefore the data is not normal\n"
     ]
    },
    {
     "data": {
      "text/plain": [
       "False"
      ]
     },
     "execution_count": 19,
     "metadata": {},
     "output_type": "execute_result"
    }
   ],
   "source": [
    "test_normality(d)\n",
    "test_normality(no_d)"
   ]
  },
  {
   "cell_type": "markdown",
   "metadata": {},
   "source": [
    "It looks like our data are not normally distributed. We'll need to sample from them to see if we can arrive at a more normal distribution to run our tests on. Let's draw those samples and test for normality again. "
   ]
  },
  {
   "cell_type": "code",
   "execution_count": 20,
   "metadata": {},
   "outputs": [
    {
     "name": "stdout",
     "output_type": "stream",
     "text": [
      "p = 0.17676477134227753 \t Therefore the data is normal\n",
      "p = 0.33313870429992676 \t Therefore the data is normal\n"
     ]
    },
    {
     "data": {
      "text/plain": [
       "True"
      ]
     },
     "execution_count": 20,
     "metadata": {},
     "output_type": "execute_result"
    }
   ],
   "source": [
    "no_discount_sample = random_sample(no_d)\n",
    "discount_sample = random_sample(d)\n",
    "\n",
    "test_normality(no_discount_sample)\n",
    "test_normality(discount_sample)"
   ]
  },
  {
   "cell_type": "markdown",
   "metadata": {},
   "source": [
    "Awesome, it looks like the Central Limit Theorem wins again! By drawing a series of random samples and obtaining their means we have identified a more normally distributed set of data. We can now move forward and check our variance assumption next, but first let's get a quick visual representation of our data now.   "
   ]
  },
  {
   "cell_type": "code",
   "execution_count": 21,
   "metadata": {},
   "outputs": [
    {
     "name": "stderr",
     "output_type": "stream",
     "text": [
      "/Users/rab/anaconda3/envs/learn-env/lib/python3.6/site-packages/scipy/stats/stats.py:1713: FutureWarning: Using a non-tuple sequence for multidimensional indexing is deprecated; use `arr[tuple(seq)]` instead of `arr[seq]`. In the future this will be interpreted as an array index, `arr[np.array(seq)]`, which will result either in an error or a different result.\n",
      "  return np.add.reduce(sorted[indexer] * weights, axis=axis) / sumval\n"
     ]
    },
    {
     "data": {
      "text/plain": [
       "<matplotlib.legend.Legend at 0x1a158d0a90>"
      ]
     },
     "execution_count": 21,
     "metadata": {},
     "output_type": "execute_result"
    },
    {
     "data": {
      "image/png": "[encoded data removed]",
      "text/plain": [
       "<Figure size 432x288 with 1 Axes>"
      ]
     },
     "metadata": {
      "needs_background": "light"
     },
     "output_type": "display_data"
    }
   ],
   "source": [
    "sns.distplot(no_discount_sample, label='No Discount Sample')\n",
    "sns.distplot(discount_sample, label='Discount Sample')\n",
    "plt.legend()"
   ]
  },
  {
   "cell_type": "markdown",
   "metadata": {},
   "source": [
    "Now let's check to see if we have equal variance among our sample groups, that will determine which type of t-test we should perform. We'll do this using Levene's test for equal variance. "
   ]
  },
  {
   "cell_type": "code",
   "execution_count": 22,
   "metadata": {},
   "outputs": [
    {
     "name": "stdout",
     "output_type": "stream",
     "text": [
      "p = 0.45557195862775246 \t Therefore the data has equal variances\n"
     ]
    },
    {
     "data": {
      "text/plain": [
       "True"
      ]
     },
     "execution_count": 22,
     "metadata": {},
     "output_type": "execute_result"
    }
   ],
   "source": [
    "test_variance(no_discount_sample, discount_sample)"
   ]
  },
  {
   "cell_type": "markdown",
   "metadata": {},
   "source": [
    "Our samples have sufficiently equal variance, we'll therefore use the Student's T-Test to compare the two groups. We'll be looking for a p-value of less than .05 if we want to reject our null hypothesis.  "
   ]
  },
  {
   "cell_type": "code",
   "execution_count": 23,
   "metadata": {},
   "outputs": [
    {
     "name": "stdout",
     "output_type": "stream",
     "text": [
      "With a p-value of 2.702034573181609e-07, which is less than 0.05 we can reject the H0 and accept Ha\n"
     ]
    },
    {
     "data": {
      "text/plain": [
       "False"
      ]
     },
     "execution_count": 23,
     "metadata": {},
     "output_type": "execute_result"
    }
   ],
   "source": [
    "p = stats.ttest_ind(no_discount_sample, discount_sample, axis=0, equal_var=True)[1]\n",
    "\n",
    "check_null_hypothesis(p,alpha=alpha)"
   ]
  },
  {
   "cell_type": "markdown",
   "metadata": {},
   "source": [
    "It appears that for now we can reject the null hypothesis and conclude that there is a statistically significant and positive difference between quantities ordered with a discount than without a discount. There is a very low probability of a type 1 error, meaning that our results are due to random chance and that there is in fact not a positive effect on order size with a discount. \n",
    "\n",
    "In order to ensure that our results are as accurate as possible we can check the effect and power of our conclusions."
   ]
  },
  {
   "cell_type": "code",
   "execution_count": 24,
   "metadata": {},
   "outputs": [
    {
     "data": {
      "text/plain": [
       "1.5282048629314349"
      ]
     },
     "execution_count": 24,
     "metadata": {},
     "output_type": "execute_result"
    }
   ],
   "source": [
    "# check effect size with cohen's d\n",
    "discount_effect = cohen_d(no_discount_sample, discount_sample)\n",
    "discount_effect"
   ]
  },
  {
   "cell_type": "markdown",
   "metadata": {},
   "source": [
    "This is a fairly large effect size, reinforcing our conclusion to reject H0. We can use effect size to check the statistical power of our results as well. Here we will be looking for a power larger than .8, which tells us that our number of observations were large enough to draw our conclusions from at this level of alpha. "
   ]
  },
  {
   "cell_type": "code",
   "execution_count": 25,
   "metadata": {},
   "outputs": [],
   "source": [
    "from statsmodels.stats.power import TTestIndPower\n",
    "power = TTestIndPower()"
   ]
  },
  {
   "cell_type": "code",
   "execution_count": 26,
   "metadata": {},
   "outputs": [
    {
     "data": {
      "text/plain": [
       "0.999999998377637"
      ]
     },
     "execution_count": 26,
     "metadata": {},
     "output_type": "execute_result"
    }
   ],
   "source": [
    "power.solve_power(effect_size=discount_effect, nobs1=len(discount_sample), alpha=alpha, alternative='larger')"
   ]
  },
  {
   "cell_type": "markdown",
   "metadata": {},
   "source": [
    "We have the power! It looks like our sample size is sufficiently big enough to detect an effect given our degree of confidence as set by alpha. \n",
    "\n",
    "With this, we can again affirm our conclusion to reject H0 and determine that discounts do indeed have a positive effect on quantity ordered. "
   ]
  },
  {
   "cell_type": "markdown",
   "metadata": {},
   "source": [
    "We can now move on to answering the second part of our question, which discount rates in fact have and effect on quantities ordered? First we can check to see if there is a significant difference among rates by conducting an ANOVA analysis. "
   ]
  },
  {
   "cell_type": "code",
   "execution_count": 27,
   "metadata": {},
   "outputs": [
    {
     "data": {
      "text/html": [
       "<div>\n",
       "<style scoped>\n",
       "    .dataframe tbody tr th:only-of-type {\n",
       "        vertical-align: middle;\n",
       "    }\n",
       "\n",
       "    .dataframe tbody tr th {\n",
       "        vertical-align: top;\n",
       "    }\n",
       "\n",
       "    .dataframe thead th {\n",
       "        text-align: right;\n",
       "    }\n",
       "</style>\n",
       "<table border=\"1\" class=\"dataframe\">\n",
       "  <thead>\n",
       "    <tr style=\"text-align: right;\">\n",
       "      <th></th>\n",
       "      <th>sum_sq</th>\n",
       "      <th>df</th>\n",
       "      <th>F</th>\n",
       "      <th>PR(&gt;F)</th>\n",
       "    </tr>\n",
       "  </thead>\n",
       "  <tbody>\n",
       "    <tr>\n",
       "      <th>C(Discount)</th>\n",
       "      <td>21258.403604</td>\n",
       "      <td>10.0</td>\n",
       "      <td>6.011811</td>\n",
       "      <td>4.704231e-09</td>\n",
       "    </tr>\n",
       "    <tr>\n",
       "      <th>Residual</th>\n",
       "      <td>758141.232591</td>\n",
       "      <td>2144.0</td>\n",
       "      <td>NaN</td>\n",
       "      <td>NaN</td>\n",
       "    </tr>\n",
       "  </tbody>\n",
       "</table>\n",
       "</div>"
      ],
      "text/plain": [
       "                    sum_sq      df         F        PR(>F)\n",
       "C(Discount)   21258.403604    10.0  6.011811  4.704231e-09\n",
       "Residual     758141.232591  2144.0       NaN           NaN"
      ]
     },
     "execution_count": 27,
     "metadata": {},
     "output_type": "execute_result"
    }
   ],
   "source": [
    "import statsmodels.api as sm\n",
    "from statsmodels.formula.api import ols\n",
    "\n",
    "formula = 'Quantity ~ C(Discount)'\n",
    "lm = ols(formula, df).fit()\n",
    "table = sm.stats.anova_lm(lm, typ=2)\n",
    "table"
   ]
  },
  {
   "cell_type": "markdown",
   "metadata": {},
   "source": [
    "With a very low p-value (4.7 e-09) we can conclude that there is in fact a difference among discount rates. Let's check the levels of significance for each category of discount. "
   ]
  },
  {
   "cell_type": "code",
   "execution_count": 28,
   "metadata": {},
   "outputs": [
    {
     "data": {
      "text/plain": [
       "Intercept              6.746766e-281\n",
       "C(Discount)[T.0.01]     2.947414e-01\n",
       "C(Discount)[T.0.02]     1.385988e-01\n",
       "C(Discount)[T.0.03]     6.524250e-02\n",
       "C(Discount)[T.0.04]     2.709368e-01\n",
       "C(Discount)[T.0.05]     2.095341e-05\n",
       "C(Discount)[T.0.06]     2.947414e-01\n",
       "C(Discount)[T.0.1]      2.065861e-02\n",
       "C(Discount)[T.0.15]     2.789428e-05\n",
       "C(Discount)[T.0.2]      7.326710e-04\n",
       "C(Discount)[T.0.25]     4.781032e-05\n",
       "dtype: float64"
      ]
     },
     "execution_count": 28,
     "metadata": {},
     "output_type": "execute_result"
    }
   ],
   "source": [
    "lm.pvalues"
   ]
  },
  {
   "cell_type": "markdown",
   "metadata": {},
   "source": [
    "Recalling from our earlier value counts that there were very few observations for rates from 0.01-0.04, and only one for 0.06, we can disregard those as we do not have a large enough sample to determine statistical significance.\n",
    "\n",
    "That leaves us with .05, .1, .15, .2 and .25. each of which appear to have a low enough p-value to suggest further analysis. \n",
    "\n",
    "To do this we will do post hoc t-tests with the Bonferroni correction. We will sample each group as before and compare them to the control sample (no discount). \n",
    "\n",
    "First, lets establish our new level of alpha by applying Bonferroni. "
   ]
  },
  {
   "cell_type": "code",
   "execution_count": 29,
   "metadata": {},
   "outputs": [
    {
     "data": {
      "text/plain": [
       "0.01"
      ]
     },
     "execution_count": 29,
     "metadata": {},
     "output_type": "execute_result"
    }
   ],
   "source": [
    "b_alpha = bonferroni_alpha(obs=5, alpha=alpha)\n",
    "b_alpha"
   ]
  },
  {
   "cell_type": "markdown",
   "metadata": {},
   "source": [
    "Now we will need to create sample for each of our discount levels and test for normality and variance"
   ]
  },
  {
   "cell_type": "code",
   "execution_count": 30,
   "metadata": {},
   "outputs": [
    {
     "name": "stdout",
     "output_type": "stream",
     "text": [
      "p = 0.41059958934783936 \t Therefore the data is normal\n",
      "5% Discount: True\n",
      "p = 0.652406050233501 \t Therefore the data has equal variances\n",
      "5% Discount: True\n",
      "\n",
      "p = 0.8815193176269531 \t Therefore the data is normal\n",
      "10% Discount: True\n",
      "p = 0.9970978349416025 \t Therefore the data has equal variances\n",
      "10% Discount: True\n",
      "\n",
      "p = 0.3587958514690399 \t Therefore the data is normal\n",
      "15% Discount: True\n",
      "p = 0.5354049688270899 \t Therefore the data has equal variances\n",
      "15% Discount: True\n",
      "\n",
      "p = 0.31754830479621887 \t Therefore the data is normal\n",
      "20% Discount: True\n",
      "p = 0.8256956675283352 \t Therefore the data has equal variances\n",
      "20% Discount: True\n",
      "\n",
      "p = 0.7198901772499084 \t Therefore the data is normal\n",
      "25% Discount: True\n",
      "p = 0.4694799811225695 \t Therefore the data has equal variances\n",
      "25% Discount: True\n",
      "\n"
     ]
    }
   ],
   "source": [
    "five_sample = random_sample(df[df['Discount'] == .05]['Quantity'])\n",
    "ten_sample = random_sample(df[df['Discount'] == .1]['Quantity'])\n",
    "fifteen_sample = random_sample(df[df['Discount'] == .15]['Quantity'])\n",
    "twenty_sample = random_sample(df[df['Discount'] == .2]['Quantity'])\n",
    "twentyfive_sample = random_sample(df[df['Discount'] == .25]['Quantity'])\n",
    "\n",
    "discount_samples = {'5% Discount':five_sample, \n",
    "                    '10% Discount':ten_sample, \n",
    "                    '15% Discount':fifteen_sample, \n",
    "                    '20% Discount':twenty_sample, \n",
    "                    '25% Discount':twentyfive_sample}\n",
    "# sample_names = ['5% Discount', '10% Discount', '15% Discount', '20% Discount', '25% Discount']\n",
    "\n",
    "# for s,n in samples,sample_names:\n",
    "#     print(n)\n",
    "#     test_normality(s)\n",
    "for s in discount_samples:\n",
    "    print(f'{s}: {test_normality(discount_samples[s])}')\n",
    "    print(f'{s}: {test_variance(discount_samples[s], no_discount_sample)}\\n')"
   ]
  },
  {
   "cell_type": "markdown",
   "metadata": {},
   "source": [
    "By sampling for each discount level we've satisfied our normality and variance assumptions, now we can conduct t-tests with our new confidence level set by the Bonferroni Correction, and check for effect sizes and power levels as well. "
   ]
  },
  {
   "cell_type": "code",
   "execution_count": 31,
   "metadata": {},
   "outputs": [
    {
     "name": "stdout",
     "output_type": "stream",
     "text": [
      "With a p-value of 9.217604953337244e-12, which is less than 0.01 we can reject the H0 and accept Ha\n",
      "5% Discount: False\n",
      "With a p-value of 0.004004228162288465, which is less than 0.01 we can reject the H0 and accept Ha\n",
      "10% Discount: False\n",
      "With a p-value of 4.0796928624062356e-11, which is less than 0.01 we can reject the H0 and accept Ha\n",
      "15% Discount: False\n",
      "With a p-value of 2.94807415951583e-06, which is less than 0.01 we can reject the H0 and accept Ha\n",
      "20% Discount: False\n",
      "With a p-value of 2.044199082736009e-09, which is less than 0.01 we can reject the H0 and accept Ha\n",
      "25% Discount: False\n"
     ]
    }
   ],
   "source": [
    "for s in discount_samples:\n",
    "    p = stats.ttest_ind(no_discount_sample, discount_samples[s], axis=0, equal_var=True)[1]\n",
    "    print(f'{s}: {check_null_hypothesis(p, alpha=b_alpha)}')"
   ]
  },
  {
   "cell_type": "code",
   "execution_count": 32,
   "metadata": {},
   "outputs": [
    {
     "data": {
      "text/plain": [
       "{'5% Discount': 2.230148246759387,\n",
       " '10% Discount': 0.7871431047925743,\n",
       " '15% Discount': 2.128566433732904,\n",
       " '20% Discount': 1.3595770938960852,\n",
       " '25% Discount': 1.862759213743562}"
      ]
     },
     "execution_count": 32,
     "metadata": {},
     "output_type": "execute_result"
    }
   ],
   "source": [
    "effect = {}\n",
    "for s in discount_samples:\n",
    "    effect[s] = cohen_d(no_discount_sample,discount_samples[s])\n",
    "effect"
   ]
  },
  {
   "cell_type": "code",
   "execution_count": 33,
   "metadata": {},
   "outputs": [
    {
     "name": "stdout",
     "output_type": "stream",
     "text": [
      "5% Discount: 1.0\n",
      "10% Discount: 0.6500257340658221\n",
      "15% Discount: 1.0\n",
      "20% Discount: 0.9944018276283494\n",
      "25% Discount: 1.0\n"
     ]
    }
   ],
   "source": [
    "for e in effect: \n",
    "    print(f'{e}: {power.solve_power(effect_size=effect[e], nobs1=30, alpha=b_alpha)}')"
   ]
  },
  {
   "cell_type": "markdown",
   "metadata": {},
   "source": [
    "**Conclusions for question 1**"
   ]
  },
  {
   "cell_type": "markdown",
   "metadata": {},
   "source": [
    "## Question 2"
   ]
  },
  {
   "cell_type": "markdown",
   "metadata": {},
   "source": [
    "**Research question 2:** Do different employees sell a statistically significantly different quantity of items per order? If so, which ones? "
   ]
  },
  {
   "cell_type": "markdown",
   "metadata": {},
   "source": [
    "To get this we'll combine two tables from our dataset, the 'Order' table and the 'OrderDetail' table, and extract the values we need to make our assessment. "
   ]
  },
  {
   "cell_type": "code",
   "execution_count": 34,
   "metadata": {},
   "outputs": [
    {
     "data": {
      "text/html": [
       "<div>\n",
       "<style scoped>\n",
       "    .dataframe tbody tr th:only-of-type {\n",
       "        vertical-align: middle;\n",
       "    }\n",
       "\n",
       "    .dataframe tbody tr th {\n",
       "        vertical-align: top;\n",
       "    }\n",
       "\n",
       "    .dataframe thead th {\n",
       "        text-align: right;\n",
       "    }\n",
       "</style>\n",
       "<table border=\"1\" class=\"dataframe\">\n",
       "  <thead>\n",
       "    <tr style=\"text-align: right;\">\n",
       "      <th></th>\n",
       "      <th>Id</th>\n",
       "      <th>OrderId</th>\n",
       "      <th>ProductId</th>\n",
       "      <th>UnitPrice</th>\n",
       "      <th>Quantity</th>\n",
       "      <th>Discount</th>\n",
       "    </tr>\n",
       "  </thead>\n",
       "  <tbody>\n",
       "    <tr>\n",
       "      <th>0</th>\n",
       "      <td>10248/11</td>\n",
       "      <td>10248</td>\n",
       "      <td>11</td>\n",
       "      <td>14.0</td>\n",
       "      <td>12</td>\n",
       "      <td>0.0</td>\n",
       "    </tr>\n",
       "    <tr>\n",
       "      <th>1</th>\n",
       "      <td>10248/42</td>\n",
       "      <td>10248</td>\n",
       "      <td>42</td>\n",
       "      <td>9.8</td>\n",
       "      <td>10</td>\n",
       "      <td>0.0</td>\n",
       "    </tr>\n",
       "    <tr>\n",
       "      <th>2</th>\n",
       "      <td>10248/72</td>\n",
       "      <td>10248</td>\n",
       "      <td>72</td>\n",
       "      <td>34.8</td>\n",
       "      <td>5</td>\n",
       "      <td>0.0</td>\n",
       "    </tr>\n",
       "    <tr>\n",
       "      <th>3</th>\n",
       "      <td>10249/14</td>\n",
       "      <td>10249</td>\n",
       "      <td>14</td>\n",
       "      <td>18.6</td>\n",
       "      <td>9</td>\n",
       "      <td>0.0</td>\n",
       "    </tr>\n",
       "    <tr>\n",
       "      <th>4</th>\n",
       "      <td>10249/51</td>\n",
       "      <td>10249</td>\n",
       "      <td>51</td>\n",
       "      <td>42.4</td>\n",
       "      <td>40</td>\n",
       "      <td>0.0</td>\n",
       "    </tr>\n",
       "  </tbody>\n",
       "</table>\n",
       "</div>"
      ],
      "text/plain": [
       "         Id  OrderId  ProductId  UnitPrice  Quantity  Discount\n",
       "0  10248/11    10248         11       14.0        12       0.0\n",
       "1  10248/42    10248         42        9.8        10       0.0\n",
       "2  10248/72    10248         72       34.8         5       0.0\n",
       "3  10249/14    10249         14       18.6         9       0.0\n",
       "4  10249/51    10249         51       42.4        40       0.0"
      ]
     },
     "execution_count": 34,
     "metadata": {},
     "output_type": "execute_result"
    }
   ],
   "source": [
    "OrderDetail = get_table(table = 'OrderDetail')\n",
    "OrderDetail.head ()"
   ]
  },
  {
   "cell_type": "code",
   "execution_count": 35,
   "metadata": {},
   "outputs": [
    {
     "name": "stdout",
     "output_type": "stream",
     "text": [
      "830\n"
     ]
    },
    {
     "data": {
      "text/html": [
       "<div>\n",
       "<style scoped>\n",
       "    .dataframe tbody tr th:only-of-type {\n",
       "        vertical-align: middle;\n",
       "    }\n",
       "\n",
       "    .dataframe tbody tr th {\n",
       "        vertical-align: top;\n",
       "    }\n",
       "\n",
       "    .dataframe thead th {\n",
       "        text-align: right;\n",
       "    }\n",
       "</style>\n",
       "<table border=\"1\" class=\"dataframe\">\n",
       "  <thead>\n",
       "    <tr style=\"text-align: right;\">\n",
       "      <th></th>\n",
       "      <th>Id</th>\n",
       "      <th>EmployeeId</th>\n",
       "    </tr>\n",
       "  </thead>\n",
       "  <tbody>\n",
       "    <tr>\n",
       "      <th>0</th>\n",
       "      <td>10248</td>\n",
       "      <td>5</td>\n",
       "    </tr>\n",
       "    <tr>\n",
       "      <th>1</th>\n",
       "      <td>10249</td>\n",
       "      <td>6</td>\n",
       "    </tr>\n",
       "    <tr>\n",
       "      <th>2</th>\n",
       "      <td>10250</td>\n",
       "      <td>4</td>\n",
       "    </tr>\n",
       "    <tr>\n",
       "      <th>3</th>\n",
       "      <td>10251</td>\n",
       "      <td>3</td>\n",
       "    </tr>\n",
       "    <tr>\n",
       "      <th>4</th>\n",
       "      <td>10252</td>\n",
       "      <td>4</td>\n",
       "    </tr>\n",
       "  </tbody>\n",
       "</table>\n",
       "</div>"
      ],
      "text/plain": [
       "      Id  EmployeeId\n",
       "0  10248           5\n",
       "1  10249           6\n",
       "2  10250           4\n",
       "3  10251           3\n",
       "4  10252           4"
      ]
     },
     "execution_count": 35,
     "metadata": {},
     "output_type": "execute_result"
    }
   ],
   "source": [
    "cur.execute(\"\"\"SELECT Id, EmployeeId\n",
    "               FROM 'Order' \"\"\")\n",
    "\n",
    "Order = pd.DataFrame(cur.fetchall())\n",
    "Order.columns = [x[0] for x in cur.description]\n",
    "\n",
    "print(len(Order))\n",
    "Order.head()"
   ]
  },
  {
   "cell_type": "markdown",
   "metadata": {},
   "source": [
    "We can see that 'OrderId' and 'Id' have the same values, so we can join the 'EmployeeId' information from 'Order' to our 'OrderDetail' table so we know which employee made which sale. \n",
    "\n",
    "Although all we really need is the discount information at this point, we'll keep all the values from the combined table for now in case we want to do further analysis on those later. "
   ]
  },
  {
   "cell_type": "code",
   "execution_count": 36,
   "metadata": {},
   "outputs": [
    {
     "data": {
      "text/html": [
       "<div>\n",
       "<style scoped>\n",
       "    .dataframe tbody tr th:only-of-type {\n",
       "        vertical-align: middle;\n",
       "    }\n",
       "\n",
       "    .dataframe tbody tr th {\n",
       "        vertical-align: top;\n",
       "    }\n",
       "\n",
       "    .dataframe thead th {\n",
       "        text-align: right;\n",
       "    }\n",
       "</style>\n",
       "<table border=\"1\" class=\"dataframe\">\n",
       "  <thead>\n",
       "    <tr style=\"text-align: right;\">\n",
       "      <th></th>\n",
       "      <th>Id_x</th>\n",
       "      <th>OrderId</th>\n",
       "      <th>ProductId</th>\n",
       "      <th>UnitPrice</th>\n",
       "      <th>Quantity</th>\n",
       "      <th>Discount</th>\n",
       "      <th>Id_y</th>\n",
       "      <th>EmployeeId</th>\n",
       "    </tr>\n",
       "  </thead>\n",
       "  <tbody>\n",
       "    <tr>\n",
       "      <th>0</th>\n",
       "      <td>10248/11</td>\n",
       "      <td>10248</td>\n",
       "      <td>11</td>\n",
       "      <td>14.0</td>\n",
       "      <td>12</td>\n",
       "      <td>0.0</td>\n",
       "      <td>10248</td>\n",
       "      <td>5</td>\n",
       "    </tr>\n",
       "    <tr>\n",
       "      <th>1</th>\n",
       "      <td>10248/42</td>\n",
       "      <td>10248</td>\n",
       "      <td>42</td>\n",
       "      <td>9.8</td>\n",
       "      <td>10</td>\n",
       "      <td>0.0</td>\n",
       "      <td>10248</td>\n",
       "      <td>5</td>\n",
       "    </tr>\n",
       "    <tr>\n",
       "      <th>2</th>\n",
       "      <td>10248/72</td>\n",
       "      <td>10248</td>\n",
       "      <td>72</td>\n",
       "      <td>34.8</td>\n",
       "      <td>5</td>\n",
       "      <td>0.0</td>\n",
       "      <td>10248</td>\n",
       "      <td>5</td>\n",
       "    </tr>\n",
       "    <tr>\n",
       "      <th>3</th>\n",
       "      <td>10249/14</td>\n",
       "      <td>10249</td>\n",
       "      <td>14</td>\n",
       "      <td>18.6</td>\n",
       "      <td>9</td>\n",
       "      <td>0.0</td>\n",
       "      <td>10249</td>\n",
       "      <td>6</td>\n",
       "    </tr>\n",
       "    <tr>\n",
       "      <th>4</th>\n",
       "      <td>10249/51</td>\n",
       "      <td>10249</td>\n",
       "      <td>51</td>\n",
       "      <td>42.4</td>\n",
       "      <td>40</td>\n",
       "      <td>0.0</td>\n",
       "      <td>10249</td>\n",
       "      <td>6</td>\n",
       "    </tr>\n",
       "  </tbody>\n",
       "</table>\n",
       "</div>"
      ],
      "text/plain": [
       "       Id_x  OrderId  ProductId  UnitPrice  Quantity  Discount   Id_y  \\\n",
       "0  10248/11    10248         11       14.0        12       0.0  10248   \n",
       "1  10248/42    10248         42        9.8        10       0.0  10248   \n",
       "2  10248/72    10248         72       34.8         5       0.0  10248   \n",
       "3  10249/14    10249         14       18.6         9       0.0  10249   \n",
       "4  10249/51    10249         51       42.4        40       0.0  10249   \n",
       "\n",
       "   EmployeeId  \n",
       "0           5  \n",
       "1           5  \n",
       "2           5  \n",
       "3           6  \n",
       "4           6  "
      ]
     },
     "metadata": {},
     "output_type": "display_data"
    },
    {
     "name": "stdout",
     "output_type": "stream",
     "text": [
      "<class 'pandas.core.frame.DataFrame'>\n",
      "Int64Index: 2155 entries, 0 to 2154\n",
      "Data columns (total 8 columns):\n",
      "Id_x          2155 non-null object\n",
      "OrderId       2155 non-null int64\n",
      "ProductId     2155 non-null int64\n",
      "UnitPrice     2155 non-null float64\n",
      "Quantity      2155 non-null int64\n",
      "Discount      2155 non-null float64\n",
      "Id_y          2155 non-null int64\n",
      "EmployeeId    2155 non-null int64\n",
      "dtypes: float64(2), int64(5), object(1)\n",
      "memory usage: 151.5+ KB\n"
     ]
    },
    {
     "data": {
      "text/plain": [
       "None"
      ]
     },
     "metadata": {},
     "output_type": "display_data"
    },
    {
     "data": {
      "text/html": [
       "<div>\n",
       "<style scoped>\n",
       "    .dataframe tbody tr th:only-of-type {\n",
       "        vertical-align: middle;\n",
       "    }\n",
       "\n",
       "    .dataframe tbody tr th {\n",
       "        vertical-align: top;\n",
       "    }\n",
       "\n",
       "    .dataframe thead th {\n",
       "        text-align: right;\n",
       "    }\n",
       "</style>\n",
       "<table border=\"1\" class=\"dataframe\">\n",
       "  <thead>\n",
       "    <tr style=\"text-align: right;\">\n",
       "      <th></th>\n",
       "      <th>OrderId</th>\n",
       "      <th>ProductId</th>\n",
       "      <th>UnitPrice</th>\n",
       "      <th>Quantity</th>\n",
       "      <th>Discount</th>\n",
       "      <th>Id_y</th>\n",
       "      <th>EmployeeId</th>\n",
       "    </tr>\n",
       "  </thead>\n",
       "  <tbody>\n",
       "    <tr>\n",
       "      <th>count</th>\n",
       "      <td>2155.000000</td>\n",
       "      <td>2155.000000</td>\n",
       "      <td>2155.000000</td>\n",
       "      <td>2155.000000</td>\n",
       "      <td>2155.000000</td>\n",
       "      <td>2155.000000</td>\n",
       "      <td>2155.000000</td>\n",
       "    </tr>\n",
       "    <tr>\n",
       "      <th>mean</th>\n",
       "      <td>10659.375870</td>\n",
       "      <td>40.793039</td>\n",
       "      <td>26.218520</td>\n",
       "      <td>23.812993</td>\n",
       "      <td>0.056167</td>\n",
       "      <td>10659.375870</td>\n",
       "      <td>4.333179</td>\n",
       "    </tr>\n",
       "    <tr>\n",
       "      <th>std</th>\n",
       "      <td>241.378032</td>\n",
       "      <td>22.159019</td>\n",
       "      <td>29.827418</td>\n",
       "      <td>19.022047</td>\n",
       "      <td>0.083450</td>\n",
       "      <td>241.378032</td>\n",
       "      <td>2.490351</td>\n",
       "    </tr>\n",
       "    <tr>\n",
       "      <th>min</th>\n",
       "      <td>10248.000000</td>\n",
       "      <td>1.000000</td>\n",
       "      <td>2.000000</td>\n",
       "      <td>1.000000</td>\n",
       "      <td>0.000000</td>\n",
       "      <td>10248.000000</td>\n",
       "      <td>1.000000</td>\n",
       "    </tr>\n",
       "    <tr>\n",
       "      <th>25%</th>\n",
       "      <td>10451.000000</td>\n",
       "      <td>22.000000</td>\n",
       "      <td>12.000000</td>\n",
       "      <td>10.000000</td>\n",
       "      <td>0.000000</td>\n",
       "      <td>10451.000000</td>\n",
       "      <td>2.000000</td>\n",
       "    </tr>\n",
       "    <tr>\n",
       "      <th>50%</th>\n",
       "      <td>10657.000000</td>\n",
       "      <td>41.000000</td>\n",
       "      <td>18.400000</td>\n",
       "      <td>20.000000</td>\n",
       "      <td>0.000000</td>\n",
       "      <td>10657.000000</td>\n",
       "      <td>4.000000</td>\n",
       "    </tr>\n",
       "    <tr>\n",
       "      <th>75%</th>\n",
       "      <td>10862.500000</td>\n",
       "      <td>60.000000</td>\n",
       "      <td>32.000000</td>\n",
       "      <td>30.000000</td>\n",
       "      <td>0.100000</td>\n",
       "      <td>10862.500000</td>\n",
       "      <td>7.000000</td>\n",
       "    </tr>\n",
       "    <tr>\n",
       "      <th>max</th>\n",
       "      <td>11077.000000</td>\n",
       "      <td>77.000000</td>\n",
       "      <td>263.500000</td>\n",
       "      <td>130.000000</td>\n",
       "      <td>0.250000</td>\n",
       "      <td>11077.000000</td>\n",
       "      <td>9.000000</td>\n",
       "    </tr>\n",
       "  </tbody>\n",
       "</table>\n",
       "</div>"
      ],
      "text/plain": [
       "            OrderId    ProductId    UnitPrice     Quantity     Discount  \\\n",
       "count   2155.000000  2155.000000  2155.000000  2155.000000  2155.000000   \n",
       "mean   10659.375870    40.793039    26.218520    23.812993     0.056167   \n",
       "std      241.378032    22.159019    29.827418    19.022047     0.083450   \n",
       "min    10248.000000     1.000000     2.000000     1.000000     0.000000   \n",
       "25%    10451.000000    22.000000    12.000000    10.000000     0.000000   \n",
       "50%    10657.000000    41.000000    18.400000    20.000000     0.000000   \n",
       "75%    10862.500000    60.000000    32.000000    30.000000     0.100000   \n",
       "max    11077.000000    77.000000   263.500000   130.000000     0.250000   \n",
       "\n",
       "               Id_y   EmployeeId  \n",
       "count   2155.000000  2155.000000  \n",
       "mean   10659.375870     4.333179  \n",
       "std      241.378032     2.490351  \n",
       "min    10248.000000     1.000000  \n",
       "25%    10451.000000     2.000000  \n",
       "50%    10657.000000     4.000000  \n",
       "75%    10862.500000     7.000000  \n",
       "max    11077.000000     9.000000  "
      ]
     },
     "metadata": {},
     "output_type": "display_data"
    }
   ],
   "source": [
    "df2 = pd.merge(OrderDetail, Order, left_on='OrderId', right_on='Id', how='left')\n",
    "inspect_dataframe(df2)"
   ]
  },
  {
   "cell_type": "markdown",
   "metadata": {},
   "source": [
    "**Observations:** We are still working with 2155 unique combinations of 'OrderId' and 'ProductId', of which there are no null values. Quantity does seem to have a few high outliers, but the mean and median are fairly close so we can leave them for now and come back to them if we see problematic skewness later. "
   ]
  },
  {
   "cell_type": "markdown",
   "metadata": {},
   "source": [
    "Let's also get a rough idea of what our employee sales look like. We can make a pivot table to see how many sales they have made, the total quantity of items sold, and the average quantity per order. "
   ]
  },
  {
   "cell_type": "code",
   "execution_count": 37,
   "metadata": {},
   "outputs": [
    {
     "data": {
      "text/html": [
       "<div>\n",
       "<style scoped>\n",
       "    .dataframe tbody tr th:only-of-type {\n",
       "        vertical-align: middle;\n",
       "    }\n",
       "\n",
       "    .dataframe tbody tr th {\n",
       "        vertical-align: top;\n",
       "    }\n",
       "\n",
       "    .dataframe thead tr th {\n",
       "        text-align: left;\n",
       "    }\n",
       "\n",
       "    .dataframe thead tr:last-of-type th {\n",
       "        text-align: right;\n",
       "    }\n",
       "</style>\n",
       "<table border=\"1\" class=\"dataframe\">\n",
       "  <thead>\n",
       "    <tr>\n",
       "      <th></th>\n",
       "      <th>count_nonzero</th>\n",
       "      <th>sum</th>\n",
       "      <th>mean</th>\n",
       "      <th>std</th>\n",
       "    </tr>\n",
       "    <tr>\n",
       "      <th></th>\n",
       "      <th>Quantity</th>\n",
       "      <th>Quantity</th>\n",
       "      <th>Quantity</th>\n",
       "      <th>Quantity</th>\n",
       "    </tr>\n",
       "    <tr>\n",
       "      <th>EmployeeId</th>\n",
       "      <th></th>\n",
       "      <th></th>\n",
       "      <th></th>\n",
       "      <th></th>\n",
       "    </tr>\n",
       "  </thead>\n",
       "  <tbody>\n",
       "    <tr>\n",
       "      <th>1</th>\n",
       "      <td>345</td>\n",
       "      <td>7812</td>\n",
       "      <td>22.643478</td>\n",
       "      <td>19.658357</td>\n",
       "    </tr>\n",
       "    <tr>\n",
       "      <th>2</th>\n",
       "      <td>241</td>\n",
       "      <td>6055</td>\n",
       "      <td>25.124481</td>\n",
       "      <td>21.164068</td>\n",
       "    </tr>\n",
       "    <tr>\n",
       "      <th>3</th>\n",
       "      <td>321</td>\n",
       "      <td>7852</td>\n",
       "      <td>24.461059</td>\n",
       "      <td>18.396651</td>\n",
       "    </tr>\n",
       "    <tr>\n",
       "      <th>4</th>\n",
       "      <td>420</td>\n",
       "      <td>9798</td>\n",
       "      <td>23.328571</td>\n",
       "      <td>18.105542</td>\n",
       "    </tr>\n",
       "    <tr>\n",
       "      <th>5</th>\n",
       "      <td>117</td>\n",
       "      <td>3036</td>\n",
       "      <td>25.948718</td>\n",
       "      <td>20.755907</td>\n",
       "    </tr>\n",
       "    <tr>\n",
       "      <th>6</th>\n",
       "      <td>168</td>\n",
       "      <td>3527</td>\n",
       "      <td>20.994048</td>\n",
       "      <td>16.694686</td>\n",
       "    </tr>\n",
       "    <tr>\n",
       "      <th>7</th>\n",
       "      <td>176</td>\n",
       "      <td>4654</td>\n",
       "      <td>26.443182</td>\n",
       "      <td>21.185093</td>\n",
       "    </tr>\n",
       "    <tr>\n",
       "      <th>8</th>\n",
       "      <td>260</td>\n",
       "      <td>5913</td>\n",
       "      <td>22.742308</td>\n",
       "      <td>17.480462</td>\n",
       "    </tr>\n",
       "    <tr>\n",
       "      <th>9</th>\n",
       "      <td>107</td>\n",
       "      <td>2670</td>\n",
       "      <td>24.953271</td>\n",
       "      <td>18.031096</td>\n",
       "    </tr>\n",
       "  </tbody>\n",
       "</table>\n",
       "</div>"
      ],
      "text/plain": [
       "           count_nonzero      sum       mean        std\n",
       "                Quantity Quantity   Quantity   Quantity\n",
       "EmployeeId                                             \n",
       "1                    345     7812  22.643478  19.658357\n",
       "2                    241     6055  25.124481  21.164068\n",
       "3                    321     7852  24.461059  18.396651\n",
       "4                    420     9798  23.328571  18.105542\n",
       "5                    117     3036  25.948718  20.755907\n",
       "6                    168     3527  20.994048  16.694686\n",
       "7                    176     4654  26.443182  21.185093\n",
       "8                    260     5913  22.742308  17.480462\n",
       "9                    107     2670  24.953271  18.031096"
      ]
     },
     "execution_count": 37,
     "metadata": {},
     "output_type": "execute_result"
    }
   ],
   "source": [
    "df2_pivot = pd.pivot_table(df2, values='Quantity', \n",
    "                           index= 'EmployeeId', \n",
    "                           aggfunc= [np.count_nonzero, np.sum, np.mean, np.std])\n",
    "df2_pivot"
   ]
  },
  {
   "cell_type": "markdown",
   "metadata": {},
   "source": [
    "We can check quickly to make sure that we have all of our rows accounted for (and not over counted) by summing the count column. "
   ]
  },
  {
   "cell_type": "code",
   "execution_count": 38,
   "metadata": {},
   "outputs": [
    {
     "data": {
      "text/plain": [
       "2155"
      ]
     },
     "execution_count": 38,
     "metadata": {},
     "output_type": "execute_result"
    }
   ],
   "source": [
    "df2_pivot['count_nonzero']['Quantity'].sum()"
   ]
  },
  {
   "cell_type": "markdown",
   "metadata": {},
   "source": [
    "Looks like we're in good shape, all rows are accounted for.\n",
    "**Other observations:**\n",
    "* There appears to be some variance in number of sales made by each employee, which also effect total quantity sold\n",
    "* Although some employees have made many more sales than others, the average quantity sold appears fairly equal\n",
    "\n",
    "Let's see how it looks visually"
   ]
  },
  {
   "cell_type": "code",
   "execution_count": 115,
   "metadata": {},
   "outputs": [
    {
     "data": {
      "image/png": "[encoded data removed]",
      "text/plain": [
       "<Figure size 1080x360 with 3 Axes>"
      ]
     },
     "metadata": {
      "needs_background": "light"
     },
     "output_type": "display_data"
    }
   ],
   "source": [
    "plt.figure(figsize=(15,5))\n",
    "ax1 = plt.subplot(1,3,1)\n",
    "ax2 = plt.subplot(1,3,2)\n",
    "ax3 = plt.subplot(1,3,3)\n",
    "\n",
    "a = sns.barplot(x=df2_pivot.index, y=df2_pivot['sum']['Quantity'], ax=ax1)\n",
    "a.axes.set_title('Total Quantity Sold by Employee')\n",
    "\n",
    "b = sns.countplot(x='EmployeeId', data=df2, ax=ax2)\n",
    "b.axes.set_title('Count of Orders per Employee')\n",
    "\n",
    "c = sns.barplot(x=df2_pivot.index, y=df2_pivot['mean']['Quantity'], ax=ax3)\n",
    "c.axes.set_title('Avg Quantity per Order by Employee');"
   ]
  },
  {
   "cell_type": "markdown",
   "metadata": {},
   "source": [
    "**Observations:** \n",
    "* Very interestingly total quantity ordered and number of orders are very similar\n",
    "* In naturally follows that that average order size is very similar as well \n",
    "\n",
    "To check and see if there truly is any variability between quantity per order per employee we can do an ANOVA test. For this test:\n",
    "1. Our **null hypothesis (H0)** will be that there is no difference is order sizes for each employee\n",
    "2. Our **alternative hypothesis (Ha)** will then be that there is some variance in quantity ordered per employee per order\n",
    "3. We will look for a p-value that gives us a 95% confidence level of avoiding a type 1 error, and therefor set alpha to .05"
   ]
  },
  {
   "cell_type": "code",
   "execution_count": 40,
   "metadata": {},
   "outputs": [
    {
     "data": {
      "text/html": [
       "<div>\n",
       "<style scoped>\n",
       "    .dataframe tbody tr th:only-of-type {\n",
       "        vertical-align: middle;\n",
       "    }\n",
       "\n",
       "    .dataframe tbody tr th {\n",
       "        vertical-align: top;\n",
       "    }\n",
       "\n",
       "    .dataframe thead th {\n",
       "        text-align: right;\n",
       "    }\n",
       "</style>\n",
       "<table border=\"1\" class=\"dataframe\">\n",
       "  <thead>\n",
       "    <tr style=\"text-align: right;\">\n",
       "      <th></th>\n",
       "      <th>sum_sq</th>\n",
       "      <th>df</th>\n",
       "      <th>F</th>\n",
       "      <th>PR(&gt;F)</th>\n",
       "    </tr>\n",
       "  </thead>\n",
       "  <tbody>\n",
       "    <tr>\n",
       "      <th>C(EmployeeId)</th>\n",
       "      <td>4643.183282</td>\n",
       "      <td>8.0</td>\n",
       "      <td>1.607646</td>\n",
       "      <td>0.11745</td>\n",
       "    </tr>\n",
       "    <tr>\n",
       "      <th>Residual</th>\n",
       "      <td>774756.452913</td>\n",
       "      <td>2146.0</td>\n",
       "      <td>NaN</td>\n",
       "      <td>NaN</td>\n",
       "    </tr>\n",
       "  </tbody>\n",
       "</table>\n",
       "</div>"
      ],
      "text/plain": [
       "                      sum_sq      df         F   PR(>F)\n",
       "C(EmployeeId)    4643.183282     8.0  1.607646  0.11745\n",
       "Residual       774756.452913  2146.0       NaN      NaN"
      ]
     },
     "execution_count": 40,
     "metadata": {},
     "output_type": "execute_result"
    }
   ],
   "source": [
    "formula = 'Quantity ~ C(EmployeeId)'\n",
    "lm = ols(formula, df2).fit()\n",
    "table = sm.stats.anova_lm(lm, typ=2)\n",
    "table"
   ]
  },
  {
   "cell_type": "markdown",
   "metadata": {},
   "source": [
    "**Conclusion:** With a p-value above our level of alpha (0.117 > .05) we **fail to reject** the null hypothesis. We cannot conclude at this time that any employee sells a statistically significantly different quantity of items per sale. "
   ]
  },
  {
   "cell_type": "markdown",
   "metadata": {},
   "source": [
    "**Next Steps:** We now know from question 1 that discounts do tend to result in a larger quantity sold per order with significant effect, and we now know that while some employees do sell a much larger overall quantity, they all sell about the same quantity per order itself. \n",
    "\n",
    "A question that follows is: \"Why do some employees sell more than others?\" \n",
    "\n",
    "One hypothesis is that some employees may be more likely to use a discount than others. We'll explore that in our next question. "
   ]
  },
  {
   "cell_type": "markdown",
   "metadata": {},
   "source": [
    "## Question 3 "
   ]
  },
  {
   "cell_type": "markdown",
   "metadata": {},
   "source": [
    "**Research question 3:** Do different employees use discounts at a rate that is statistically significantly different than the overall average rate of discount use? If so, which employees are more likely to employ a discount? Do those employees sell a larger overall quantity? "
   ]
  },
  {
   "cell_type": "code",
   "execution_count": 41,
   "metadata": {},
   "outputs": [
    {
     "data": {
      "text/html": [
       "<div>\n",
       "<style scoped>\n",
       "    .dataframe tbody tr th:only-of-type {\n",
       "        vertical-align: middle;\n",
       "    }\n",
       "\n",
       "    .dataframe tbody tr th {\n",
       "        vertical-align: top;\n",
       "    }\n",
       "\n",
       "    .dataframe thead th {\n",
       "        text-align: right;\n",
       "    }\n",
       "</style>\n",
       "<table border=\"1\" class=\"dataframe\">\n",
       "  <thead>\n",
       "    <tr style=\"text-align: right;\">\n",
       "      <th></th>\n",
       "      <th>sum_sq</th>\n",
       "      <th>df</th>\n",
       "      <th>F</th>\n",
       "      <th>PR(&gt;F)</th>\n",
       "    </tr>\n",
       "  </thead>\n",
       "  <tbody>\n",
       "    <tr>\n",
       "      <th>C(EmployeeId)</th>\n",
       "      <td>0.16041</td>\n",
       "      <td>8.0</td>\n",
       "      <td>2.899611</td>\n",
       "      <td>0.003232</td>\n",
       "    </tr>\n",
       "    <tr>\n",
       "      <th>Residual</th>\n",
       "      <td>14.83993</td>\n",
       "      <td>2146.0</td>\n",
       "      <td>NaN</td>\n",
       "      <td>NaN</td>\n",
       "    </tr>\n",
       "  </tbody>\n",
       "</table>\n",
       "</div>"
      ],
      "text/plain": [
       "                 sum_sq      df         F    PR(>F)\n",
       "C(EmployeeId)   0.16041     8.0  2.899611  0.003232\n",
       "Residual       14.83993  2146.0       NaN       NaN"
      ]
     },
     "execution_count": 41,
     "metadata": {},
     "output_type": "execute_result"
    }
   ],
   "source": [
    "formula = 'Discount ~ C(EmployeeId)'\n",
    "lm = ols(formula, df2).fit()\n",
    "table = sm.stats.anova_lm(lm, typ=2)\n",
    "table"
   ]
  },
  {
   "cell_type": "code",
   "execution_count": 42,
   "metadata": {},
   "outputs": [
    {
     "data": {
      "text/html": [
       "<div>\n",
       "<style scoped>\n",
       "    .dataframe tbody tr th:only-of-type {\n",
       "        vertical-align: middle;\n",
       "    }\n",
       "\n",
       "    .dataframe tbody tr th {\n",
       "        vertical-align: top;\n",
       "    }\n",
       "\n",
       "    .dataframe thead th {\n",
       "        text-align: right;\n",
       "    }\n",
       "</style>\n",
       "<table border=\"1\" class=\"dataframe\">\n",
       "  <thead>\n",
       "    <tr style=\"text-align: right;\">\n",
       "      <th></th>\n",
       "      <th>Id_x</th>\n",
       "      <th>OrderId</th>\n",
       "      <th>ProductId</th>\n",
       "      <th>UnitPrice</th>\n",
       "      <th>Quantity</th>\n",
       "      <th>Discount</th>\n",
       "      <th>Id_y</th>\n",
       "      <th>EmployeeId</th>\n",
       "      <th>y_discount</th>\n",
       "    </tr>\n",
       "  </thead>\n",
       "  <tbody>\n",
       "    <tr>\n",
       "      <th>0</th>\n",
       "      <td>10248/11</td>\n",
       "      <td>10248</td>\n",
       "      <td>11</td>\n",
       "      <td>14.0</td>\n",
       "      <td>12</td>\n",
       "      <td>0.0</td>\n",
       "      <td>10248</td>\n",
       "      <td>5</td>\n",
       "      <td>0</td>\n",
       "    </tr>\n",
       "    <tr>\n",
       "      <th>1</th>\n",
       "      <td>10248/42</td>\n",
       "      <td>10248</td>\n",
       "      <td>42</td>\n",
       "      <td>9.8</td>\n",
       "      <td>10</td>\n",
       "      <td>0.0</td>\n",
       "      <td>10248</td>\n",
       "      <td>5</td>\n",
       "      <td>0</td>\n",
       "    </tr>\n",
       "    <tr>\n",
       "      <th>2</th>\n",
       "      <td>10248/72</td>\n",
       "      <td>10248</td>\n",
       "      <td>72</td>\n",
       "      <td>34.8</td>\n",
       "      <td>5</td>\n",
       "      <td>0.0</td>\n",
       "      <td>10248</td>\n",
       "      <td>5</td>\n",
       "      <td>0</td>\n",
       "    </tr>\n",
       "    <tr>\n",
       "      <th>3</th>\n",
       "      <td>10249/14</td>\n",
       "      <td>10249</td>\n",
       "      <td>14</td>\n",
       "      <td>18.6</td>\n",
       "      <td>9</td>\n",
       "      <td>0.0</td>\n",
       "      <td>10249</td>\n",
       "      <td>6</td>\n",
       "      <td>0</td>\n",
       "    </tr>\n",
       "    <tr>\n",
       "      <th>4</th>\n",
       "      <td>10249/51</td>\n",
       "      <td>10249</td>\n",
       "      <td>51</td>\n",
       "      <td>42.4</td>\n",
       "      <td>40</td>\n",
       "      <td>0.0</td>\n",
       "      <td>10249</td>\n",
       "      <td>6</td>\n",
       "      <td>0</td>\n",
       "    </tr>\n",
       "  </tbody>\n",
       "</table>\n",
       "</div>"
      ],
      "text/plain": [
       "       Id_x  OrderId  ProductId  UnitPrice  Quantity  Discount   Id_y  \\\n",
       "0  10248/11    10248         11       14.0        12       0.0  10248   \n",
       "1  10248/42    10248         42        9.8        10       0.0  10248   \n",
       "2  10248/72    10248         72       34.8         5       0.0  10248   \n",
       "3  10249/14    10249         14       18.6         9       0.0  10249   \n",
       "4  10249/51    10249         51       42.4        40       0.0  10249   \n",
       "\n",
       "   EmployeeId  y_discount  \n",
       "0           5           0  \n",
       "1           5           0  \n",
       "2           5           0  \n",
       "3           6           0  \n",
       "4           6           0  "
      ]
     },
     "execution_count": 42,
     "metadata": {},
     "output_type": "execute_result"
    }
   ],
   "source": [
    "# Create a new column called y_discount where the value is 1\n",
    "# if Discount is greater than 0.0 and 0 if not\n",
    "df2['y_discount'] = np.where(df2['Discount'] > 0.0, 1, 0)\n",
    "df2.head()"
   ]
  },
  {
   "cell_type": "code",
   "execution_count": 43,
   "metadata": {},
   "outputs": [
    {
     "data": {
      "text/plain": [
       "0    1317\n",
       "1     838\n",
       "Name: y_discount, dtype: int64"
      ]
     },
     "execution_count": 43,
     "metadata": {},
     "output_type": "execute_result"
    }
   ],
   "source": [
    "df2.y_discount.value_counts()"
   ]
  },
  {
   "cell_type": "code",
   "execution_count": 44,
   "metadata": {},
   "outputs": [
    {
     "data": {
      "text/html": [
       "<div>\n",
       "<style scoped>\n",
       "    .dataframe tbody tr th:only-of-type {\n",
       "        vertical-align: middle;\n",
       "    }\n",
       "\n",
       "    .dataframe tbody tr th {\n",
       "        vertical-align: top;\n",
       "    }\n",
       "\n",
       "    .dataframe thead th {\n",
       "        text-align: right;\n",
       "    }\n",
       "</style>\n",
       "<table border=\"1\" class=\"dataframe\">\n",
       "  <thead>\n",
       "    <tr style=\"text-align: right;\">\n",
       "      <th></th>\n",
       "      <th>sum_sq</th>\n",
       "      <th>df</th>\n",
       "      <th>F</th>\n",
       "      <th>PR(&gt;F)</th>\n",
       "    </tr>\n",
       "  </thead>\n",
       "  <tbody>\n",
       "    <tr>\n",
       "      <th>C(EmployeeId)</th>\n",
       "      <td>6.241641</td>\n",
       "      <td>8.0</td>\n",
       "      <td>3.309646</td>\n",
       "      <td>0.000914</td>\n",
       "    </tr>\n",
       "    <tr>\n",
       "      <th>Residual</th>\n",
       "      <td>505.891073</td>\n",
       "      <td>2146.0</td>\n",
       "      <td>NaN</td>\n",
       "      <td>NaN</td>\n",
       "    </tr>\n",
       "  </tbody>\n",
       "</table>\n",
       "</div>"
      ],
      "text/plain": [
       "                   sum_sq      df         F    PR(>F)\n",
       "C(EmployeeId)    6.241641     8.0  3.309646  0.000914\n",
       "Residual       505.891073  2146.0       NaN       NaN"
      ]
     },
     "execution_count": 44,
     "metadata": {},
     "output_type": "execute_result"
    }
   ],
   "source": [
    "formula = 'y_discount ~ C(EmployeeId)'\n",
    "lm = ols(formula, df2).fit()\n",
    "table = sm.stats.anova_lm(lm, typ=2)\n",
    "table"
   ]
  },
  {
   "cell_type": "code",
   "execution_count": 45,
   "metadata": {},
   "outputs": [
    {
     "name": "stdout",
     "output_type": "stream",
     "text": [
      "p = 0.23684264719486237 \t Therefore the data is normal\n"
     ]
    },
    {
     "name": "stderr",
     "output_type": "stream",
     "text": [
      "/Users/rab/anaconda3/envs/learn-env/lib/python3.6/site-packages/scipy/stats/stats.py:1713: FutureWarning: Using a non-tuple sequence for multidimensional indexing is deprecated; use `arr[tuple(seq)]` instead of `arr[seq]`. In the future this will be interpreted as an array index, `arr[np.array(seq)]`, which will result either in an error or a different result.\n",
      "  return np.add.reduce(sorted[indexer] * weights, axis=axis) / sumval\n"
     ]
    },
    {
     "data": {
      "text/plain": [
       "True"
      ]
     },
     "execution_count": 45,
     "metadata": {},
     "output_type": "execute_result"
    },
    {
     "data": {
      "image/png": "[encoded data removed]",
      "text/plain": [
       "<Figure size 432x288 with 1 Axes>"
      ]
     },
     "metadata": {
      "needs_background": "light"
     },
     "output_type": "display_data"
    }
   ],
   "source": [
    "pop_sample = random_sample(df2.y_discount)\n",
    "sns.distplot(pop_sample)\n",
    "test_normality(pop_sample)"
   ]
  },
  {
   "cell_type": "code",
   "execution_count": 120,
   "metadata": {},
   "outputs": [
    {
     "name": "stdout",
     "output_type": "stream",
     "text": [
      "0.36444444444444457\n"
     ]
    }
   ],
   "source": [
    "xu = mean(pop_sample)\n",
    "print(f'{xu}')"
   ]
  },
  {
   "cell_type": "code",
   "execution_count": 125,
   "metadata": {},
   "outputs": [
    {
     "name": "stdout",
     "output_type": "stream",
     "text": [
      "Employee 1 uses a discount 0.391% of the time.\n",
      "Employee 2 uses a discount 0.315% of the time.\n",
      "Employee 3 uses a discount 0.324% of the time.\n",
      "Employee 4 uses a discount 0.405% of the time.\n",
      "Employee 5 uses a discount 0.504% of the time.\n",
      "Employee 6 uses a discount 0.411% of the time.\n",
      "Employee 7 uses a discount 0.477% of the time.\n",
      "Employee 8 uses a discount 0.362% of the time.\n",
      "Employee 9 uses a discount 0.439% of the time.\n"
     ]
    }
   ],
   "source": [
    "employees = list(range(1,10))\n",
    "discount_usage = {}\n",
    "for e in employees:\n",
    "    discount_usage[e] = round(df2[df2['EmployeeId'] == e]['y_discount'].mean(), 3)\n",
    "    print(f'Employee {e} uses a discount {discount_usage[e]}% of the time.')"
   ]
  },
  {
   "cell_type": "code",
   "execution_count": 149,
   "metadata": {},
   "outputs": [
    {
     "data": {
      "image/png": "[encoded data removed]",
      "text/plain": [
       "<Figure size 576x432 with 1 Axes>"
      ]
     },
     "metadata": {
      "needs_background": "light"
     },
     "output_type": "display_data"
    }
   ],
   "source": [
    "plt.figure(figsize=(8,6))\n",
    "plt.bar(x=employees, height=discount_usage.values(), label='Employee')\n",
    "plt.hlines(y=xu, xmin=1, xmax=9, label='Overall Avg', colors='yellow')\n",
    "plt.xticks(ticks=employees)\n",
    "plt.xlabel('Employees')\n",
    "plt.ylabel('Discount Usage Rate')\n",
    "plt.title('Employee Discount Usage Rates')\n",
    "plt.legend();"
   ]
  },
  {
   "cell_type": "code",
   "execution_count": 151,
   "metadata": {},
   "outputs": [
    {
     "name": "stdout",
     "output_type": "stream",
     "text": [
      "p = 0.041698042303323746 \t Therefore the data is not normal\n",
      "Employee 1: False\n",
      "p = 0.6214357891041357 \t Therefore the data has equal variances\n",
      "Employee 1: True\n",
      "\n",
      "p = 0.1495928019285202 \t Therefore the data is normal\n",
      "Employee 2: True\n",
      "p = 1.0 \t Therefore the data has equal variances\n",
      "Employee 2: True\n",
      "\n",
      "p = 0.1588650494813919 \t Therefore the data is normal\n",
      "Employee 3: True\n",
      "p = 0.9362152370261434 \t Therefore the data has equal variances\n",
      "Employee 3: True\n",
      "\n",
      "p = 0.10414385050535202 \t Therefore the data is normal\n",
      "Employee 4: True\n",
      "p = 0.5517350155489746 \t Therefore the data has equal variances\n",
      "Employee 4: True\n",
      "\n",
      "p = 0.11839097738265991 \t Therefore the data is normal\n",
      "Employee 5: True\n",
      "p = 0.946162349645181 \t Therefore the data has equal variances\n",
      "Employee 5: True\n",
      "\n",
      "p = 0.16019822657108307 \t Therefore the data is normal\n",
      "Employee 6: True\n",
      "p = 0.8419410239992972 \t Therefore the data has equal variances\n",
      "Employee 6: True\n",
      "\n",
      "p = 0.3153058886528015 \t Therefore the data is normal\n",
      "Employee 7: True\n",
      "p = 0.49958720743362606 \t Therefore the data has equal variances\n",
      "Employee 7: True\n",
      "\n",
      "p = 0.26827970147132874 \t Therefore the data is normal\n",
      "Employee 8: True\n",
      "p = 1.0 \t Therefore the data has equal variances\n",
      "Employee 8: True\n",
      "\n",
      "p = 0.3197620213031769 \t Therefore the data is normal\n",
      "Employee 9: True\n",
      "p = 0.16434260522243088 \t Therefore the data has equal variances\n",
      "Employee 9: True\n",
      "\n"
     ]
    }
   ],
   "source": [
    "emp_samples = {}\n",
    "for e in employees:\n",
    "    emp_samples[e] = random_sample(df2[df2['EmployeeId'] == e]['y_discount'])\n",
    "\n",
    "for k in emp_samples:\n",
    "    print(f'Employee {k}: {test_normality(emp_samples[k])}')\n",
    "    print(f'Employee {k}: {test_variance(pop_sample, emp_samples[k])}\\n')"
   ]
  },
  {
   "cell_type": "code",
   "execution_count": 153,
   "metadata": {},
   "outputs": [
    {
     "data": {
      "text/html": [
       "<div>\n",
       "<style scoped>\n",
       "    .dataframe tbody tr th:only-of-type {\n",
       "        vertical-align: middle;\n",
       "    }\n",
       "\n",
       "    .dataframe tbody tr th {\n",
       "        vertical-align: top;\n",
       "    }\n",
       "\n",
       "    .dataframe thead th {\n",
       "        text-align: right;\n",
       "    }\n",
       "</style>\n",
       "<table border=\"1\" class=\"dataframe\">\n",
       "  <thead>\n",
       "    <tr style=\"text-align: right;\">\n",
       "      <th></th>\n",
       "      <th>1</th>\n",
       "      <th>2</th>\n",
       "      <th>3</th>\n",
       "      <th>4</th>\n",
       "      <th>5</th>\n",
       "      <th>6</th>\n",
       "      <th>7</th>\n",
       "      <th>8</th>\n",
       "      <th>9</th>\n",
       "    </tr>\n",
       "  </thead>\n",
       "  <tbody>\n",
       "    <tr>\n",
       "      <th>0</th>\n",
       "      <td>0.566667</td>\n",
       "      <td>0.300000</td>\n",
       "      <td>0.300000</td>\n",
       "      <td>0.333333</td>\n",
       "      <td>0.433333</td>\n",
       "      <td>0.466667</td>\n",
       "      <td>0.433333</td>\n",
       "      <td>0.400000</td>\n",
       "      <td>0.366667</td>\n",
       "    </tr>\n",
       "    <tr>\n",
       "      <th>1</th>\n",
       "      <td>0.366667</td>\n",
       "      <td>0.233333</td>\n",
       "      <td>0.433333</td>\n",
       "      <td>0.533333</td>\n",
       "      <td>0.500000</td>\n",
       "      <td>0.500000</td>\n",
       "      <td>0.366667</td>\n",
       "      <td>0.400000</td>\n",
       "      <td>0.433333</td>\n",
       "    </tr>\n",
       "    <tr>\n",
       "      <th>2</th>\n",
       "      <td>0.400000</td>\n",
       "      <td>0.366667</td>\n",
       "      <td>0.200000</td>\n",
       "      <td>0.366667</td>\n",
       "      <td>0.466667</td>\n",
       "      <td>0.466667</td>\n",
       "      <td>0.566667</td>\n",
       "      <td>0.166667</td>\n",
       "      <td>0.466667</td>\n",
       "    </tr>\n",
       "    <tr>\n",
       "      <th>3</th>\n",
       "      <td>0.400000</td>\n",
       "      <td>0.466667</td>\n",
       "      <td>0.233333</td>\n",
       "      <td>0.366667</td>\n",
       "      <td>0.633333</td>\n",
       "      <td>0.266667</td>\n",
       "      <td>0.433333</td>\n",
       "      <td>0.400000</td>\n",
       "      <td>0.600000</td>\n",
       "    </tr>\n",
       "    <tr>\n",
       "      <th>4</th>\n",
       "      <td>0.366667</td>\n",
       "      <td>0.400000</td>\n",
       "      <td>0.366667</td>\n",
       "      <td>0.333333</td>\n",
       "      <td>0.533333</td>\n",
       "      <td>0.466667</td>\n",
       "      <td>0.600000</td>\n",
       "      <td>0.333333</td>\n",
       "      <td>0.433333</td>\n",
       "    </tr>\n",
       "  </tbody>\n",
       "</table>\n",
       "</div>"
      ],
      "text/plain": [
       "          1         2         3         4         5         6         7  \\\n",
       "0  0.566667  0.300000  0.300000  0.333333  0.433333  0.466667  0.433333   \n",
       "1  0.366667  0.233333  0.433333  0.533333  0.500000  0.500000  0.366667   \n",
       "2  0.400000  0.366667  0.200000  0.366667  0.466667  0.466667  0.566667   \n",
       "3  0.400000  0.466667  0.233333  0.366667  0.633333  0.266667  0.433333   \n",
       "4  0.366667  0.400000  0.366667  0.333333  0.533333  0.466667  0.600000   \n",
       "\n",
       "          8         9  \n",
       "0  0.400000  0.366667  \n",
       "1  0.400000  0.433333  \n",
       "2  0.166667  0.466667  \n",
       "3  0.400000  0.600000  \n",
       "4  0.333333  0.433333  "
      ]
     },
     "execution_count": 153,
     "metadata": {},
     "output_type": "execute_result"
    }
   ],
   "source": [
    "emp_discount_sample_df = pd.DataFrame.from_dict(emp_samples)\n",
    "emp_discount_sample_df.head()"
   ]
  },
  {
   "cell_type": "code",
   "execution_count": 157,
   "metadata": {},
   "outputs": [],
   "source": [
    "def get_distplots(df, comparison, cols=1):\n",
    "    rows = math.ceil(len(df.columns)/cols)\n",
    "    figwidth = 5 * cols\n",
    "    figheight = 4 * rows\n",
    "    \n",
    "    fig, ax = plt.subplots(nrows = rows,\n",
    "                           ncols = cols,\n",
    "                           figsize = (figwidth, figheight))\n",
    "    \n",
    "    ax = ax.ravel()\n",
    "    \n",
    "    for i, column in enumerate(df.columns):\n",
    "        sns.distplot(df[column], ax=ax[i], label='Emp Sample')\n",
    "        sns.distplot(comparison, ax=ax[i], label='Pop Sample')\n",
    "        \n",
    "    \n",
    "    plt.legend()\n",
    "    plt.show()\n",
    "    \n",
    "    "
   ]
  },
  {
   "cell_type": "code",
   "execution_count": 158,
   "metadata": {},
   "outputs": [
    {
     "name": "stderr",
     "output_type": "stream",
     "text": [
      "/Users/rab/anaconda3/envs/learn-env/lib/python3.6/site-packages/scipy/stats/stats.py:1713: FutureWarning: Using a non-tuple sequence for multidimensional indexing is deprecated; use `arr[tuple(seq)]` instead of `arr[seq]`. In the future this will be interpreted as an array index, `arr[np.array(seq)]`, which will result either in an error or a different result.\n",
      "  return np.add.reduce(sorted[indexer] * weights, axis=axis) / sumval\n"
     ]
    },
    {
     "data": {
      "image/png": "[encoded data removed]",
      "text/plain": [
       "<Figure size 1080x864 with 9 Axes>"
      ]
     },
     "metadata": {
      "needs_background": "light"
     },
     "output_type": "display_data"
    }
   ],
   "source": [
    "get_distplots(emp_discount_sample_df, pop_sample, cols=3)"
   ]
  },
  {
   "cell_type": "code",
   "execution_count": 169,
   "metadata": {},
   "outputs": [
    {
     "name": "stdout",
     "output_type": "stream",
     "text": [
      "With a p-value of 0.07870871738716408, which is greater than 0.0056, at this time we fail to reject the H0\n",
      "Employee 1: True\n",
      "\n",
      "With a p-value of 0.00022444279174810037, which is less than 0.0056 we can reject the H0 and accept Ha\n",
      "Employee 2: False\n",
      "\n",
      "With a p-value of 0.1225843041028568, which is greater than 0.0056, at this time we fail to reject the H0\n",
      "Employee 3: True\n",
      "\n",
      "With a p-value of 0.01373785099829609, which is greater than 0.0056, at this time we fail to reject the H0\n",
      "Employee 4: True\n",
      "\n",
      "With a p-value of 6.88303608068519e-08, which is less than 0.0056 we can reject the H0 and accept Ha\n",
      "Employee 5: False\n",
      "\n",
      "With a p-value of 0.002942606161916561, which is less than 0.0056 we can reject the H0 and accept Ha\n",
      "Employee 6: False\n",
      "\n",
      "With a p-value of 4.093632968670231e-07, which is less than 0.0056 we can reject the H0 and accept Ha\n",
      "Employee 7: False\n",
      "\n",
      "With a p-value of 0.40083840293498163, which is greater than 0.0056, at this time we fail to reject the H0\n",
      "Employee 8: True\n",
      "\n",
      "With a p-value of 7.798173739080913e-07, which is less than 0.0056 we can reject the H0 and accept Ha\n",
      "Employee 9: False\n",
      "\n",
      "Employees [2, 5, 6, 7, 9] use discounts at a higher rate\n"
     ]
    }
   ],
   "source": [
    "employee_bonferroni = round(bonferroni_alpha(obs=9),4)\n",
    "high_discount_employees = []\n",
    "for k in emp_samples:\n",
    "    p = stats.ttest_1samp(emp_samples[k], xu)[1]\n",
    "    results = check_null_hypothesis(p, alpha=employee_bonferroni)\n",
    "    print(f'Employee {k}: {results}\\n')\n",
    "    if results == False:\n",
    "        high_discount_employees.append(k)\n",
    "print(f'Employees {high_discount_employees} use discounts at a higher rate')"
   ]
  },
  {
   "cell_type": "code",
   "execution_count": 170,
   "metadata": {},
   "outputs": [
    {
     "data": {
      "text/plain": [
       "{2: 0.7690153544530938,\n",
       " 5: 1.354240630029073,\n",
       " 6: 0.6343034703241425,\n",
       " 7: 1.112418706670321,\n",
       " 9: 0.9824696073873851}"
      ]
     },
     "execution_count": 170,
     "metadata": {},
     "output_type": "execute_result"
    }
   ],
   "source": [
    "emp_discount_effects = {}\n",
    "for e in high_discount_employees:\n",
    "    emp_discount_effects[e] = cohen_d(emp_samples[e], pop_sample)\n",
    "emp_discount_effects"
   ]
  },
  {
   "cell_type": "code",
   "execution_count": 173,
   "metadata": {},
   "outputs": [
    {
     "data": {
      "text/plain": [
       "{2: 1.0, 5: 1.0, 6: 1.0, 7: 1.0, 9: 1.0}"
      ]
     },
     "execution_count": 173,
     "metadata": {},
     "output_type": "execute_result"
    }
   ],
   "source": [
    "discount_powers = {}\n",
    "for e in emp_discount_effects:\n",
    "    discount_powers[e] = power.solve_power(effect_size=e, nobs1=30, alpha=employee_bonferroni)\n",
    "\n",
    "discount_powers"
   ]
  },
  {
   "cell_type": "code",
   "execution_count": 174,
   "metadata": {},
   "outputs": [
    {
     "data": {
      "text/html": [
       "<div>\n",
       "<style scoped>\n",
       "    .dataframe tbody tr th:only-of-type {\n",
       "        vertical-align: middle;\n",
       "    }\n",
       "\n",
       "    .dataframe tbody tr th {\n",
       "        vertical-align: top;\n",
       "    }\n",
       "\n",
       "    .dataframe thead tr th {\n",
       "        text-align: left;\n",
       "    }\n",
       "\n",
       "    .dataframe thead tr:last-of-type th {\n",
       "        text-align: right;\n",
       "    }\n",
       "</style>\n",
       "<table border=\"1\" class=\"dataframe\">\n",
       "  <thead>\n",
       "    <tr>\n",
       "      <th></th>\n",
       "      <th>count_nonzero</th>\n",
       "      <th>sum</th>\n",
       "      <th>mean</th>\n",
       "      <th>std</th>\n",
       "    </tr>\n",
       "    <tr>\n",
       "      <th></th>\n",
       "      <th>Quantity</th>\n",
       "      <th>Quantity</th>\n",
       "      <th>Quantity</th>\n",
       "      <th>Quantity</th>\n",
       "    </tr>\n",
       "    <tr>\n",
       "      <th>EmployeeId</th>\n",
       "      <th></th>\n",
       "      <th></th>\n",
       "      <th></th>\n",
       "      <th></th>\n",
       "    </tr>\n",
       "  </thead>\n",
       "  <tbody>\n",
       "    <tr>\n",
       "      <th>1</th>\n",
       "      <td>345</td>\n",
       "      <td>7812</td>\n",
       "      <td>22.643478</td>\n",
       "      <td>19.658357</td>\n",
       "    </tr>\n",
       "    <tr>\n",
       "      <th>2</th>\n",
       "      <td>241</td>\n",
       "      <td>6055</td>\n",
       "      <td>25.124481</td>\n",
       "      <td>21.164068</td>\n",
       "    </tr>\n",
       "    <tr>\n",
       "      <th>3</th>\n",
       "      <td>321</td>\n",
       "      <td>7852</td>\n",
       "      <td>24.461059</td>\n",
       "      <td>18.396651</td>\n",
       "    </tr>\n",
       "    <tr>\n",
       "      <th>4</th>\n",
       "      <td>420</td>\n",
       "      <td>9798</td>\n",
       "      <td>23.328571</td>\n",
       "      <td>18.105542</td>\n",
       "    </tr>\n",
       "    <tr>\n",
       "      <th>5</th>\n",
       "      <td>117</td>\n",
       "      <td>3036</td>\n",
       "      <td>25.948718</td>\n",
       "      <td>20.755907</td>\n",
       "    </tr>\n",
       "    <tr>\n",
       "      <th>6</th>\n",
       "      <td>168</td>\n",
       "      <td>3527</td>\n",
       "      <td>20.994048</td>\n",
       "      <td>16.694686</td>\n",
       "    </tr>\n",
       "    <tr>\n",
       "      <th>7</th>\n",
       "      <td>176</td>\n",
       "      <td>4654</td>\n",
       "      <td>26.443182</td>\n",
       "      <td>21.185093</td>\n",
       "    </tr>\n",
       "    <tr>\n",
       "      <th>8</th>\n",
       "      <td>260</td>\n",
       "      <td>5913</td>\n",
       "      <td>22.742308</td>\n",
       "      <td>17.480462</td>\n",
       "    </tr>\n",
       "    <tr>\n",
       "      <th>9</th>\n",
       "      <td>107</td>\n",
       "      <td>2670</td>\n",
       "      <td>24.953271</td>\n",
       "      <td>18.031096</td>\n",
       "    </tr>\n",
       "  </tbody>\n",
       "</table>\n",
       "</div>"
      ],
      "text/plain": [
       "           count_nonzero      sum       mean        std\n",
       "                Quantity Quantity   Quantity   Quantity\n",
       "EmployeeId                                             \n",
       "1                    345     7812  22.643478  19.658357\n",
       "2                    241     6055  25.124481  21.164068\n",
       "3                    321     7852  24.461059  18.396651\n",
       "4                    420     9798  23.328571  18.105542\n",
       "5                    117     3036  25.948718  20.755907\n",
       "6                    168     3527  20.994048  16.694686\n",
       "7                    176     4654  26.443182  21.185093\n",
       "8                    260     5913  22.742308  17.480462\n",
       "9                    107     2670  24.953271  18.031096"
      ]
     },
     "execution_count": 174,
     "metadata": {},
     "output_type": "execute_result"
    }
   ],
   "source": [
    "df2_pivot"
   ]
  },
  {
   "cell_type": "markdown",
   "metadata": {},
   "source": [
    "## Question 3 "
   ]
  },
  {
   "cell_type": "code",
   "execution_count": null,
   "metadata": {},
   "outputs": [],
   "source": [
    "Potential questions:\n",
    "\n",
    "Which employee sells the most by quantity?\n",
    "Which employee sells the most by revenue?\n",
    "Which employee uses discounts the most?\n",
    "Do discounts have greater effects on some products than others?\n",
    "Does unit price have an effect on order size or discount size?"
   ]
  },
  {
   "cell_type": "code",
   "execution_count": 91,
   "metadata": {},
   "outputs": [],
   "source": [
    "test_table = pd.pivot_table(df2, values='Quantity', index='EmployeeId', columns='ProductId', fill_value=0, aggfunc=np.sum)"
   ]
  },
  {
   "cell_type": "code",
   "execution_count": 93,
   "metadata": {},
   "outputs": [
    {
     "data": {
      "text/html": [
       "<div>\n",
       "<style scoped>\n",
       "    .dataframe tbody tr th:only-of-type {\n",
       "        vertical-align: middle;\n",
       "    }\n",
       "\n",
       "    .dataframe tbody tr th {\n",
       "        vertical-align: top;\n",
       "    }\n",
       "\n",
       "    .dataframe thead th {\n",
       "        text-align: right;\n",
       "    }\n",
       "</style>\n",
       "<table border=\"1\" class=\"dataframe\">\n",
       "  <thead>\n",
       "    <tr style=\"text-align: right;\">\n",
       "      <th>ProductId</th>\n",
       "      <th>1</th>\n",
       "      <th>2</th>\n",
       "      <th>3</th>\n",
       "      <th>4</th>\n",
       "      <th>5</th>\n",
       "      <th>6</th>\n",
       "      <th>7</th>\n",
       "      <th>8</th>\n",
       "      <th>9</th>\n",
       "      <th>10</th>\n",
       "      <th>...</th>\n",
       "      <th>68</th>\n",
       "      <th>69</th>\n",
       "      <th>70</th>\n",
       "      <th>71</th>\n",
       "      <th>72</th>\n",
       "      <th>73</th>\n",
       "      <th>74</th>\n",
       "      <th>75</th>\n",
       "      <th>76</th>\n",
       "      <th>77</th>\n",
       "    </tr>\n",
       "    <tr>\n",
       "      <th>EmployeeId</th>\n",
       "      <th></th>\n",
       "      <th></th>\n",
       "      <th></th>\n",
       "      <th></th>\n",
       "      <th></th>\n",
       "      <th></th>\n",
       "      <th></th>\n",
       "      <th></th>\n",
       "      <th></th>\n",
       "      <th></th>\n",
       "      <th></th>\n",
       "      <th></th>\n",
       "      <th></th>\n",
       "      <th></th>\n",
       "      <th></th>\n",
       "      <th></th>\n",
       "      <th></th>\n",
       "      <th></th>\n",
       "      <th></th>\n",
       "      <th></th>\n",
       "      <th></th>\n",
       "    </tr>\n",
       "  </thead>\n",
       "  <tbody>\n",
       "    <tr>\n",
       "      <th>1</th>\n",
       "      <td>80</td>\n",
       "      <td>231</td>\n",
       "      <td>68</td>\n",
       "      <td>6</td>\n",
       "      <td>65</td>\n",
       "      <td>93</td>\n",
       "      <td>62</td>\n",
       "      <td>58</td>\n",
       "      <td>0</td>\n",
       "      <td>265</td>\n",
       "      <td>...</td>\n",
       "      <td>149</td>\n",
       "      <td>152</td>\n",
       "      <td>105</td>\n",
       "      <td>303</td>\n",
       "      <td>84</td>\n",
       "      <td>14</td>\n",
       "      <td>16</td>\n",
       "      <td>218</td>\n",
       "      <td>230</td>\n",
       "      <td>134</td>\n",
       "    </tr>\n",
       "    <tr>\n",
       "      <th>2</th>\n",
       "      <td>90</td>\n",
       "      <td>70</td>\n",
       "      <td>0</td>\n",
       "      <td>56</td>\n",
       "      <td>0</td>\n",
       "      <td>82</td>\n",
       "      <td>135</td>\n",
       "      <td>70</td>\n",
       "      <td>16</td>\n",
       "      <td>76</td>\n",
       "      <td>...</td>\n",
       "      <td>25</td>\n",
       "      <td>161</td>\n",
       "      <td>94</td>\n",
       "      <td>24</td>\n",
       "      <td>34</td>\n",
       "      <td>0</td>\n",
       "      <td>55</td>\n",
       "      <td>90</td>\n",
       "      <td>70</td>\n",
       "      <td>73</td>\n",
       "    </tr>\n",
       "    <tr>\n",
       "      <th>3</th>\n",
       "      <td>125</td>\n",
       "      <td>91</td>\n",
       "      <td>80</td>\n",
       "      <td>20</td>\n",
       "      <td>0</td>\n",
       "      <td>50</td>\n",
       "      <td>60</td>\n",
       "      <td>0</td>\n",
       "      <td>26</td>\n",
       "      <td>184</td>\n",
       "      <td>...</td>\n",
       "      <td>105</td>\n",
       "      <td>64</td>\n",
       "      <td>87</td>\n",
       "      <td>160</td>\n",
       "      <td>173</td>\n",
       "      <td>50</td>\n",
       "      <td>34</td>\n",
       "      <td>175</td>\n",
       "      <td>185</td>\n",
       "      <td>17</td>\n",
       "    </tr>\n",
       "    <tr>\n",
       "      <th>4</th>\n",
       "      <td>247</td>\n",
       "      <td>294</td>\n",
       "      <td>26</td>\n",
       "      <td>225</td>\n",
       "      <td>32</td>\n",
       "      <td>26</td>\n",
       "      <td>156</td>\n",
       "      <td>104</td>\n",
       "      <td>0</td>\n",
       "      <td>54</td>\n",
       "      <td>...</td>\n",
       "      <td>135</td>\n",
       "      <td>75</td>\n",
       "      <td>244</td>\n",
       "      <td>202</td>\n",
       "      <td>105</td>\n",
       "      <td>90</td>\n",
       "      <td>65</td>\n",
       "      <td>181</td>\n",
       "      <td>87</td>\n",
       "      <td>245</td>\n",
       "    </tr>\n",
       "    <tr>\n",
       "      <th>5</th>\n",
       "      <td>55</td>\n",
       "      <td>56</td>\n",
       "      <td>0</td>\n",
       "      <td>12</td>\n",
       "      <td>0</td>\n",
       "      <td>0</td>\n",
       "      <td>45</td>\n",
       "      <td>0</td>\n",
       "      <td>0</td>\n",
       "      <td>26</td>\n",
       "      <td>...</td>\n",
       "      <td>40</td>\n",
       "      <td>10</td>\n",
       "      <td>0</td>\n",
       "      <td>76</td>\n",
       "      <td>184</td>\n",
       "      <td>0</td>\n",
       "      <td>21</td>\n",
       "      <td>28</td>\n",
       "      <td>40</td>\n",
       "      <td>50</td>\n",
       "    </tr>\n",
       "    <tr>\n",
       "      <th>6</th>\n",
       "      <td>96</td>\n",
       "      <td>110</td>\n",
       "      <td>20</td>\n",
       "      <td>6</td>\n",
       "      <td>4</td>\n",
       "      <td>0</td>\n",
       "      <td>23</td>\n",
       "      <td>0</td>\n",
       "      <td>0</td>\n",
       "      <td>52</td>\n",
       "      <td>...</td>\n",
       "      <td>0</td>\n",
       "      <td>91</td>\n",
       "      <td>36</td>\n",
       "      <td>81</td>\n",
       "      <td>64</td>\n",
       "      <td>35</td>\n",
       "      <td>50</td>\n",
       "      <td>129</td>\n",
       "      <td>55</td>\n",
       "      <td>63</td>\n",
       "    </tr>\n",
       "    <tr>\n",
       "      <th>7</th>\n",
       "      <td>38</td>\n",
       "      <td>107</td>\n",
       "      <td>30</td>\n",
       "      <td>68</td>\n",
       "      <td>150</td>\n",
       "      <td>0</td>\n",
       "      <td>6</td>\n",
       "      <td>10</td>\n",
       "      <td>3</td>\n",
       "      <td>16</td>\n",
       "      <td>...</td>\n",
       "      <td>197</td>\n",
       "      <td>102</td>\n",
       "      <td>99</td>\n",
       "      <td>85</td>\n",
       "      <td>80</td>\n",
       "      <td>0</td>\n",
       "      <td>0</td>\n",
       "      <td>36</td>\n",
       "      <td>34</td>\n",
       "      <td>62</td>\n",
       "    </tr>\n",
       "    <tr>\n",
       "      <th>8</th>\n",
       "      <td>62</td>\n",
       "      <td>68</td>\n",
       "      <td>30</td>\n",
       "      <td>60</td>\n",
       "      <td>47</td>\n",
       "      <td>0</td>\n",
       "      <td>276</td>\n",
       "      <td>60</td>\n",
       "      <td>0</td>\n",
       "      <td>51</td>\n",
       "      <td>...</td>\n",
       "      <td>148</td>\n",
       "      <td>29</td>\n",
       "      <td>101</td>\n",
       "      <td>68</td>\n",
       "      <td>74</td>\n",
       "      <td>104</td>\n",
       "      <td>20</td>\n",
       "      <td>188</td>\n",
       "      <td>207</td>\n",
       "      <td>94</td>\n",
       "    </tr>\n",
       "    <tr>\n",
       "      <th>9</th>\n",
       "      <td>35</td>\n",
       "      <td>30</td>\n",
       "      <td>74</td>\n",
       "      <td>0</td>\n",
       "      <td>0</td>\n",
       "      <td>50</td>\n",
       "      <td>0</td>\n",
       "      <td>70</td>\n",
       "      <td>50</td>\n",
       "      <td>18</td>\n",
       "      <td>...</td>\n",
       "      <td>0</td>\n",
       "      <td>30</td>\n",
       "      <td>51</td>\n",
       "      <td>58</td>\n",
       "      <td>8</td>\n",
       "      <td>0</td>\n",
       "      <td>36</td>\n",
       "      <td>110</td>\n",
       "      <td>73</td>\n",
       "      <td>53</td>\n",
       "    </tr>\n",
       "  </tbody>\n",
       "</table>\n",
       "<p>9 rows × 77 columns</p>\n",
       "</div>"
      ],
      "text/plain": [
       "ProductId    1    2   3    4    5   6    7    8   9    10 ...    68   69   70  \\\n",
       "EmployeeId                                                ...                   \n",
       "1            80  231  68    6   65  93   62   58   0  265 ...   149  152  105   \n",
       "2            90   70   0   56    0  82  135   70  16   76 ...    25  161   94   \n",
       "3           125   91  80   20    0  50   60    0  26  184 ...   105   64   87   \n",
       "4           247  294  26  225   32  26  156  104   0   54 ...   135   75  244   \n",
       "5            55   56   0   12    0   0   45    0   0   26 ...    40   10    0   \n",
       "6            96  110  20    6    4   0   23    0   0   52 ...     0   91   36   \n",
       "7            38  107  30   68  150   0    6   10   3   16 ...   197  102   99   \n",
       "8            62   68  30   60   47   0  276   60   0   51 ...   148   29  101   \n",
       "9            35   30  74    0    0  50    0   70  50   18 ...     0   30   51   \n",
       "\n",
       "ProductId    71   72   73  74   75   76   77  \n",
       "EmployeeId                                    \n",
       "1           303   84   14  16  218  230  134  \n",
       "2            24   34    0  55   90   70   73  \n",
       "3           160  173   50  34  175  185   17  \n",
       "4           202  105   90  65  181   87  245  \n",
       "5            76  184    0  21   28   40   50  \n",
       "6            81   64   35  50  129   55   63  \n",
       "7            85   80    0   0   36   34   62  \n",
       "8            68   74  104  20  188  207   94  \n",
       "9            58    8    0  36  110   73   53  \n",
       "\n",
       "[9 rows x 77 columns]"
      ]
     },
     "execution_count": 93,
     "metadata": {},
     "output_type": "execute_result"
    }
   ],
   "source": [
    "test_table"
   ]
  },
  {
   "cell_type": "code",
   "execution_count": 97,
   "metadata": {},
   "outputs": [
    {
     "data": {
      "text/plain": [
       "59    54\n",
       "31    51\n",
       "24    51\n",
       "60    51\n",
       "56    50\n",
       "62    48\n",
       "41    47\n",
       "75    46\n",
       "2     44\n",
       "16    43\n",
       "71    42\n",
       "40    41\n",
       "13    40\n",
       "70    39\n",
       "76    39\n",
       "51    39\n",
       "21    39\n",
       "72    38\n",
       "11    38\n",
       "77    38\n",
       "1     38\n",
       "19    37\n",
       "17    37\n",
       "54    36\n",
       "35    36\n",
       "68    34\n",
       "55    33\n",
       "28    33\n",
       "10    33\n",
       "29    32\n",
       "      ..\n",
       "38    24\n",
       "57    23\n",
       "14    22\n",
       "49    21\n",
       "47    21\n",
       "23    20\n",
       "4     20\n",
       "34    19\n",
       "58    18\n",
       "25    18\n",
       "63    17\n",
       "20    16\n",
       "32    15\n",
       "12    14\n",
       "73    14\n",
       "45    14\n",
       "22    14\n",
       "8     13\n",
       "74    13\n",
       "3     12\n",
       "6     12\n",
       "67    10\n",
       "50    10\n",
       "5     10\n",
       "27     9\n",
       "66     8\n",
       "48     6\n",
       "15     6\n",
       "37     6\n",
       "9      5\n",
       "Name: ProductId, Length: 77, dtype: int64"
      ]
     },
     "execution_count": 97,
     "metadata": {},
     "output_type": "execute_result"
    }
   ],
   "source": [
    "df2.ProductId.value_counts()"
   ]
  },
  {
   "cell_type": "code",
   "execution_count": 103,
   "metadata": {},
   "outputs": [
    {
     "data": {
      "text/html": [
       "<div>\n",
       "<style scoped>\n",
       "    .dataframe tbody tr th:only-of-type {\n",
       "        vertical-align: middle;\n",
       "    }\n",
       "\n",
       "    .dataframe tbody tr th {\n",
       "        vertical-align: top;\n",
       "    }\n",
       "\n",
       "    .dataframe thead th {\n",
       "        text-align: right;\n",
       "    }\n",
       "</style>\n",
       "<table border=\"1\" class=\"dataframe\">\n",
       "  <thead>\n",
       "    <tr style=\"text-align: right;\">\n",
       "      <th></th>\n",
       "      <th>Id_x</th>\n",
       "      <th>OrderId</th>\n",
       "      <th>ProductId</th>\n",
       "      <th>UnitPrice</th>\n",
       "      <th>Quantity</th>\n",
       "      <th>Discount</th>\n",
       "      <th>Id_y</th>\n",
       "      <th>EmployeeId</th>\n",
       "      <th>y_discount</th>\n",
       "    </tr>\n",
       "  </thead>\n",
       "  <tbody>\n",
       "    <tr>\n",
       "      <th>0</th>\n",
       "      <td>10248/11</td>\n",
       "      <td>10248</td>\n",
       "      <td>11</td>\n",
       "      <td>14.0</td>\n",
       "      <td>12</td>\n",
       "      <td>0.00</td>\n",
       "      <td>10248</td>\n",
       "      <td>5</td>\n",
       "      <td>0</td>\n",
       "    </tr>\n",
       "    <tr>\n",
       "      <th>129</th>\n",
       "      <td>10296/11</td>\n",
       "      <td>10296</td>\n",
       "      <td>11</td>\n",
       "      <td>16.8</td>\n",
       "      <td>12</td>\n",
       "      <td>0.00</td>\n",
       "      <td>10296</td>\n",
       "      <td>6</td>\n",
       "      <td>0</td>\n",
       "    </tr>\n",
       "    <tr>\n",
       "      <th>210</th>\n",
       "      <td>10327/11</td>\n",
       "      <td>10327</td>\n",
       "      <td>11</td>\n",
       "      <td>16.8</td>\n",
       "      <td>50</td>\n",
       "      <td>0.20</td>\n",
       "      <td>10327</td>\n",
       "      <td>2</td>\n",
       "      <td>1</td>\n",
       "    </tr>\n",
       "    <tr>\n",
       "      <th>280</th>\n",
       "      <td>10353/11</td>\n",
       "      <td>10353</td>\n",
       "      <td>11</td>\n",
       "      <td>16.8</td>\n",
       "      <td>12</td>\n",
       "      <td>0.20</td>\n",
       "      <td>10353</td>\n",
       "      <td>7</td>\n",
       "      <td>1</td>\n",
       "    </tr>\n",
       "    <tr>\n",
       "      <th>313</th>\n",
       "      <td>10365/11</td>\n",
       "      <td>10365</td>\n",
       "      <td>11</td>\n",
       "      <td>16.8</td>\n",
       "      <td>24</td>\n",
       "      <td>0.00</td>\n",
       "      <td>10365</td>\n",
       "      <td>3</td>\n",
       "      <td>0</td>\n",
       "    </tr>\n",
       "    <tr>\n",
       "      <th>425</th>\n",
       "      <td>10407/11</td>\n",
       "      <td>10407</td>\n",
       "      <td>11</td>\n",
       "      <td>16.8</td>\n",
       "      <td>30</td>\n",
       "      <td>0.00</td>\n",
       "      <td>10407</td>\n",
       "      <td>2</td>\n",
       "      <td>0</td>\n",
       "    </tr>\n",
       "    <tr>\n",
       "      <th>491</th>\n",
       "      <td>10434/11</td>\n",
       "      <td>10434</td>\n",
       "      <td>11</td>\n",
       "      <td>16.8</td>\n",
       "      <td>6</td>\n",
       "      <td>0.00</td>\n",
       "      <td>10434</td>\n",
       "      <td>3</td>\n",
       "      <td>0</td>\n",
       "    </tr>\n",
       "    <tr>\n",
       "      <th>513</th>\n",
       "      <td>10442/11</td>\n",
       "      <td>10442</td>\n",
       "      <td>11</td>\n",
       "      <td>16.8</td>\n",
       "      <td>30</td>\n",
       "      <td>0.00</td>\n",
       "      <td>10442</td>\n",
       "      <td>3</td>\n",
       "      <td>0</td>\n",
       "    </tr>\n",
       "    <tr>\n",
       "      <th>516</th>\n",
       "      <td>10443/11</td>\n",
       "      <td>10443</td>\n",
       "      <td>11</td>\n",
       "      <td>16.8</td>\n",
       "      <td>6</td>\n",
       "      <td>0.20</td>\n",
       "      <td>10443</td>\n",
       "      <td>8</td>\n",
       "      <td>1</td>\n",
       "    </tr>\n",
       "    <tr>\n",
       "      <th>582</th>\n",
       "      <td>10466/11</td>\n",
       "      <td>10466</td>\n",
       "      <td>11</td>\n",
       "      <td>16.8</td>\n",
       "      <td>10</td>\n",
       "      <td>0.00</td>\n",
       "      <td>10466</td>\n",
       "      <td>4</td>\n",
       "      <td>0</td>\n",
       "    </tr>\n",
       "    <tr>\n",
       "      <th>631</th>\n",
       "      <td>10486/11</td>\n",
       "      <td>10486</td>\n",
       "      <td>11</td>\n",
       "      <td>16.8</td>\n",
       "      <td>5</td>\n",
       "      <td>0.00</td>\n",
       "      <td>10486</td>\n",
       "      <td>1</td>\n",
       "      <td>0</td>\n",
       "    </tr>\n",
       "    <tr>\n",
       "      <th>639</th>\n",
       "      <td>10489/11</td>\n",
       "      <td>10489</td>\n",
       "      <td>11</td>\n",
       "      <td>16.8</td>\n",
       "      <td>15</td>\n",
       "      <td>0.25</td>\n",
       "      <td>10489</td>\n",
       "      <td>6</td>\n",
       "      <td>1</td>\n",
       "    </tr>\n",
       "    <tr>\n",
       "      <th>742</th>\n",
       "      <td>10528/11</td>\n",
       "      <td>10528</td>\n",
       "      <td>11</td>\n",
       "      <td>21.0</td>\n",
       "      <td>3</td>\n",
       "      <td>0.00</td>\n",
       "      <td>10528</td>\n",
       "      <td>6</td>\n",
       "      <td>0</td>\n",
       "    </tr>\n",
       "    <tr>\n",
       "      <th>761</th>\n",
       "      <td>10535/11</td>\n",
       "      <td>10535</td>\n",
       "      <td>11</td>\n",
       "      <td>21.0</td>\n",
       "      <td>50</td>\n",
       "      <td>0.10</td>\n",
       "      <td>10535</td>\n",
       "      <td>4</td>\n",
       "      <td>1</td>\n",
       "    </tr>\n",
       "    <tr>\n",
       "      <th>788</th>\n",
       "      <td>10542/11</td>\n",
       "      <td>10542</td>\n",
       "      <td>11</td>\n",
       "      <td>21.0</td>\n",
       "      <td>15</td>\n",
       "      <td>0.05</td>\n",
       "      <td>10542</td>\n",
       "      <td>1</td>\n",
       "      <td>1</td>\n",
       "    </tr>\n",
       "    <tr>\n",
       "      <th>794</th>\n",
       "      <td>10545/11</td>\n",
       "      <td>10545</td>\n",
       "      <td>11</td>\n",
       "      <td>21.0</td>\n",
       "      <td>10</td>\n",
       "      <td>0.00</td>\n",
       "      <td>10545</td>\n",
       "      <td>8</td>\n",
       "      <td>0</td>\n",
       "    </tr>\n",
       "    <tr>\n",
       "      <th>814</th>\n",
       "      <td>10553/11</td>\n",
       "      <td>10553</td>\n",
       "      <td>11</td>\n",
       "      <td>21.0</td>\n",
       "      <td>15</td>\n",
       "      <td>0.00</td>\n",
       "      <td>10553</td>\n",
       "      <td>2</td>\n",
       "      <td>0</td>\n",
       "    </tr>\n",
       "    <tr>\n",
       "      <th>851</th>\n",
       "      <td>10566/11</td>\n",
       "      <td>10566</td>\n",
       "      <td>11</td>\n",
       "      <td>21.0</td>\n",
       "      <td>35</td>\n",
       "      <td>0.15</td>\n",
       "      <td>10566</td>\n",
       "      <td>9</td>\n",
       "      <td>1</td>\n",
       "    </tr>\n",
       "    <tr>\n",
       "      <th>860</th>\n",
       "      <td>10570/11</td>\n",
       "      <td>10570</td>\n",
       "      <td>11</td>\n",
       "      <td>21.0</td>\n",
       "      <td>15</td>\n",
       "      <td>0.05</td>\n",
       "      <td>10570</td>\n",
       "      <td>3</td>\n",
       "      <td>1</td>\n",
       "    </tr>\n",
       "    <tr>\n",
       "      <th>967</th>\n",
       "      <td>10614/11</td>\n",
       "      <td>10614</td>\n",
       "      <td>11</td>\n",
       "      <td>21.0</td>\n",
       "      <td>14</td>\n",
       "      <td>0.00</td>\n",
       "      <td>10614</td>\n",
       "      <td>8</td>\n",
       "      <td>0</td>\n",
       "    </tr>\n",
       "    <tr>\n",
       "      <th>1026</th>\n",
       "      <td>10637/11</td>\n",
       "      <td>10637</td>\n",
       "      <td>11</td>\n",
       "      <td>21.0</td>\n",
       "      <td>10</td>\n",
       "      <td>0.00</td>\n",
       "      <td>10637</td>\n",
       "      <td>6</td>\n",
       "      <td>0</td>\n",
       "    </tr>\n",
       "    <tr>\n",
       "      <th>1183</th>\n",
       "      <td>10698/11</td>\n",
       "      <td>10698</td>\n",
       "      <td>11</td>\n",
       "      <td>21.0</td>\n",
       "      <td>15</td>\n",
       "      <td>0.00</td>\n",
       "      <td>10698</td>\n",
       "      <td>4</td>\n",
       "      <td>0</td>\n",
       "    </tr>\n",
       "    <tr>\n",
       "      <th>1262</th>\n",
       "      <td>10726/11</td>\n",
       "      <td>10726</td>\n",
       "      <td>11</td>\n",
       "      <td>21.0</td>\n",
       "      <td>5</td>\n",
       "      <td>0.00</td>\n",
       "      <td>10726</td>\n",
       "      <td>4</td>\n",
       "      <td>0</td>\n",
       "    </tr>\n",
       "    <tr>\n",
       "      <th>1377</th>\n",
       "      <td>10770/11</td>\n",
       "      <td>10770</td>\n",
       "      <td>11</td>\n",
       "      <td>21.0</td>\n",
       "      <td>15</td>\n",
       "      <td>0.25</td>\n",
       "      <td>10770</td>\n",
       "      <td>8</td>\n",
       "      <td>1</td>\n",
       "    </tr>\n",
       "    <tr>\n",
       "      <th>1437</th>\n",
       "      <td>10797/11</td>\n",
       "      <td>10797</td>\n",
       "      <td>11</td>\n",
       "      <td>21.0</td>\n",
       "      <td>20</td>\n",
       "      <td>0.00</td>\n",
       "      <td>10797</td>\n",
       "      <td>7</td>\n",
       "      <td>0</td>\n",
       "    </tr>\n",
       "    <tr>\n",
       "      <th>1443</th>\n",
       "      <td>10800/11</td>\n",
       "      <td>10800</td>\n",
       "      <td>11</td>\n",
       "      <td>21.0</td>\n",
       "      <td>50</td>\n",
       "      <td>0.10</td>\n",
       "      <td>10800</td>\n",
       "      <td>1</td>\n",
       "      <td>1</td>\n",
       "    </tr>\n",
       "    <tr>\n",
       "      <th>1498</th>\n",
       "      <td>10823/11</td>\n",
       "      <td>10823</td>\n",
       "      <td>11</td>\n",
       "      <td>21.0</td>\n",
       "      <td>20</td>\n",
       "      <td>0.10</td>\n",
       "      <td>10823</td>\n",
       "      <td>5</td>\n",
       "      <td>1</td>\n",
       "    </tr>\n",
       "    <tr>\n",
       "      <th>1555</th>\n",
       "      <td>10842/11</td>\n",
       "      <td>10842</td>\n",
       "      <td>11</td>\n",
       "      <td>21.0</td>\n",
       "      <td>15</td>\n",
       "      <td>0.00</td>\n",
       "      <td>10842</td>\n",
       "      <td>1</td>\n",
       "      <td>0</td>\n",
       "    </tr>\n",
       "    <tr>\n",
       "      <th>1614</th>\n",
       "      <td>10862/11</td>\n",
       "      <td>10862</td>\n",
       "      <td>11</td>\n",
       "      <td>21.0</td>\n",
       "      <td>25</td>\n",
       "      <td>0.00</td>\n",
       "      <td>10862</td>\n",
       "      <td>8</td>\n",
       "      <td>0</td>\n",
       "    </tr>\n",
       "    <tr>\n",
       "      <th>1630</th>\n",
       "      <td>10869/11</td>\n",
       "      <td>10869</td>\n",
       "      <td>11</td>\n",
       "      <td>21.0</td>\n",
       "      <td>10</td>\n",
       "      <td>0.00</td>\n",
       "      <td>10869</td>\n",
       "      <td>5</td>\n",
       "      <td>0</td>\n",
       "    </tr>\n",
       "    <tr>\n",
       "      <th>1677</th>\n",
       "      <td>10889/11</td>\n",
       "      <td>10889</td>\n",
       "      <td>11</td>\n",
       "      <td>21.0</td>\n",
       "      <td>40</td>\n",
       "      <td>0.00</td>\n",
       "      <td>10889</td>\n",
       "      <td>9</td>\n",
       "      <td>0</td>\n",
       "    </tr>\n",
       "    <tr>\n",
       "      <th>1726</th>\n",
       "      <td>10912/11</td>\n",
       "      <td>10912</td>\n",
       "      <td>11</td>\n",
       "      <td>21.0</td>\n",
       "      <td>40</td>\n",
       "      <td>0.25</td>\n",
       "      <td>10912</td>\n",
       "      <td>2</td>\n",
       "      <td>1</td>\n",
       "    </tr>\n",
       "    <tr>\n",
       "      <th>1758</th>\n",
       "      <td>10926/11</td>\n",
       "      <td>10926</td>\n",
       "      <td>11</td>\n",
       "      <td>21.0</td>\n",
       "      <td>2</td>\n",
       "      <td>0.00</td>\n",
       "      <td>10926</td>\n",
       "      <td>4</td>\n",
       "      <td>0</td>\n",
       "    </tr>\n",
       "    <tr>\n",
       "      <th>1805</th>\n",
       "      <td>10944/11</td>\n",
       "      <td>10944</td>\n",
       "      <td>11</td>\n",
       "      <td>21.0</td>\n",
       "      <td>5</td>\n",
       "      <td>0.25</td>\n",
       "      <td>10944</td>\n",
       "      <td>6</td>\n",
       "      <td>1</td>\n",
       "    </tr>\n",
       "    <tr>\n",
       "      <th>1904</th>\n",
       "      <td>10986/11</td>\n",
       "      <td>10986</td>\n",
       "      <td>11</td>\n",
       "      <td>21.0</td>\n",
       "      <td>30</td>\n",
       "      <td>0.00</td>\n",
       "      <td>10986</td>\n",
       "      <td>8</td>\n",
       "      <td>0</td>\n",
       "    </tr>\n",
       "    <tr>\n",
       "      <th>1914</th>\n",
       "      <td>10989/11</td>\n",
       "      <td>10989</td>\n",
       "      <td>11</td>\n",
       "      <td>21.0</td>\n",
       "      <td>15</td>\n",
       "      <td>0.00</td>\n",
       "      <td>10989</td>\n",
       "      <td>2</td>\n",
       "      <td>0</td>\n",
       "    </tr>\n",
       "    <tr>\n",
       "      <th>2053</th>\n",
       "      <td>11043/11</td>\n",
       "      <td>11043</td>\n",
       "      <td>11</td>\n",
       "      <td>21.0</td>\n",
       "      <td>10</td>\n",
       "      <td>0.00</td>\n",
       "      <td>11043</td>\n",
       "      <td>5</td>\n",
       "      <td>0</td>\n",
       "    </tr>\n",
       "    <tr>\n",
       "      <th>2121</th>\n",
       "      <td>11073/11</td>\n",
       "      <td>11073</td>\n",
       "      <td>11</td>\n",
       "      <td>21.0</td>\n",
       "      <td>10</td>\n",
       "      <td>0.00</td>\n",
       "      <td>11073</td>\n",
       "      <td>2</td>\n",
       "      <td>0</td>\n",
       "    </tr>\n",
       "  </tbody>\n",
       "</table>\n",
       "</div>"
      ],
      "text/plain": [
       "          Id_x  OrderId  ProductId  UnitPrice  Quantity  Discount   Id_y  \\\n",
       "0     10248/11    10248         11       14.0        12      0.00  10248   \n",
       "129   10296/11    10296         11       16.8        12      0.00  10296   \n",
       "210   10327/11    10327         11       16.8        50      0.20  10327   \n",
       "280   10353/11    10353         11       16.8        12      0.20  10353   \n",
       "313   10365/11    10365         11       16.8        24      0.00  10365   \n",
       "425   10407/11    10407         11       16.8        30      0.00  10407   \n",
       "491   10434/11    10434         11       16.8         6      0.00  10434   \n",
       "513   10442/11    10442         11       16.8        30      0.00  10442   \n",
       "516   10443/11    10443         11       16.8         6      0.20  10443   \n",
       "582   10466/11    10466         11       16.8        10      0.00  10466   \n",
       "631   10486/11    10486         11       16.8         5      0.00  10486   \n",
       "639   10489/11    10489         11       16.8        15      0.25  10489   \n",
       "742   10528/11    10528         11       21.0         3      0.00  10528   \n",
       "761   10535/11    10535         11       21.0        50      0.10  10535   \n",
       "788   10542/11    10542         11       21.0        15      0.05  10542   \n",
       "794   10545/11    10545         11       21.0        10      0.00  10545   \n",
       "814   10553/11    10553         11       21.0        15      0.00  10553   \n",
       "851   10566/11    10566         11       21.0        35      0.15  10566   \n",
       "860   10570/11    10570         11       21.0        15      0.05  10570   \n",
       "967   10614/11    10614         11       21.0        14      0.00  10614   \n",
       "1026  10637/11    10637         11       21.0        10      0.00  10637   \n",
       "1183  10698/11    10698         11       21.0        15      0.00  10698   \n",
       "1262  10726/11    10726         11       21.0         5      0.00  10726   \n",
       "1377  10770/11    10770         11       21.0        15      0.25  10770   \n",
       "1437  10797/11    10797         11       21.0        20      0.00  10797   \n",
       "1443  10800/11    10800         11       21.0        50      0.10  10800   \n",
       "1498  10823/11    10823         11       21.0        20      0.10  10823   \n",
       "1555  10842/11    10842         11       21.0        15      0.00  10842   \n",
       "1614  10862/11    10862         11       21.0        25      0.00  10862   \n",
       "1630  10869/11    10869         11       21.0        10      0.00  10869   \n",
       "1677  10889/11    10889         11       21.0        40      0.00  10889   \n",
       "1726  10912/11    10912         11       21.0        40      0.25  10912   \n",
       "1758  10926/11    10926         11       21.0         2      0.00  10926   \n",
       "1805  10944/11    10944         11       21.0         5      0.25  10944   \n",
       "1904  10986/11    10986         11       21.0        30      0.00  10986   \n",
       "1914  10989/11    10989         11       21.0        15      0.00  10989   \n",
       "2053  11043/11    11043         11       21.0        10      0.00  11043   \n",
       "2121  11073/11    11073         11       21.0        10      0.00  11073   \n",
       "\n",
       "      EmployeeId  y_discount  \n",
       "0              5           0  \n",
       "129            6           0  \n",
       "210            2           1  \n",
       "280            7           1  \n",
       "313            3           0  \n",
       "425            2           0  \n",
       "491            3           0  \n",
       "513            3           0  \n",
       "516            8           1  \n",
       "582            4           0  \n",
       "631            1           0  \n",
       "639            6           1  \n",
       "742            6           0  \n",
       "761            4           1  \n",
       "788            1           1  \n",
       "794            8           0  \n",
       "814            2           0  \n",
       "851            9           1  \n",
       "860            3           1  \n",
       "967            8           0  \n",
       "1026           6           0  \n",
       "1183           4           0  \n",
       "1262           4           0  \n",
       "1377           8           1  \n",
       "1437           7           0  \n",
       "1443           1           1  \n",
       "1498           5           1  \n",
       "1555           1           0  \n",
       "1614           8           0  \n",
       "1630           5           0  \n",
       "1677           9           0  \n",
       "1726           2           1  \n",
       "1758           4           0  \n",
       "1805           6           1  \n",
       "1904           8           0  \n",
       "1914           2           0  \n",
       "2053           5           0  \n",
       "2121           2           0  "
      ]
     },
     "execution_count": 103,
     "metadata": {},
     "output_type": "execute_result"
    }
   ],
   "source": [
    "test_3 = df2[df['ProductId'] == 11]\n",
    "test_3"
   ]
  },
  {
   "cell_type": "code",
   "execution_count": 104,
   "metadata": {},
   "outputs": [
    {
     "data": {
      "text/plain": [
       "15.75"
      ]
     },
     "execution_count": 104,
     "metadata": {},
     "output_type": "execute_result"
    }
   ],
   "source": [
    "21*.75"
   ]
  },
  {
   "cell_type": "code",
   "execution_count": 101,
   "metadata": {},
   "outputs": [
    {
     "data": {
      "text/html": [
       "<div>\n",
       "<style scoped>\n",
       "    .dataframe tbody tr th:only-of-type {\n",
       "        vertical-align: middle;\n",
       "    }\n",
       "\n",
       "    .dataframe tbody tr th {\n",
       "        vertical-align: top;\n",
       "    }\n",
       "\n",
       "    .dataframe thead th {\n",
       "        text-align: right;\n",
       "    }\n",
       "</style>\n",
       "<table border=\"1\" class=\"dataframe\">\n",
       "  <thead>\n",
       "    <tr style=\"text-align: right;\">\n",
       "      <th></th>\n",
       "      <th>Id</th>\n",
       "      <th>ProductName</th>\n",
       "      <th>SupplierId</th>\n",
       "      <th>CategoryId</th>\n",
       "      <th>QuantityPerUnit</th>\n",
       "      <th>UnitPrice</th>\n",
       "      <th>UnitsInStock</th>\n",
       "      <th>UnitsOnOrder</th>\n",
       "      <th>ReorderLevel</th>\n",
       "      <th>Discontinued</th>\n",
       "    </tr>\n",
       "  </thead>\n",
       "  <tbody>\n",
       "    <tr>\n",
       "      <th>10</th>\n",
       "      <td>11</td>\n",
       "      <td>Queso Cabrales</td>\n",
       "      <td>5</td>\n",
       "      <td>4</td>\n",
       "      <td>1 kg pkg.</td>\n",
       "      <td>21.0</td>\n",
       "      <td>22</td>\n",
       "      <td>30</td>\n",
       "      <td>30</td>\n",
       "      <td>0</td>\n",
       "    </tr>\n",
       "  </tbody>\n",
       "</table>\n",
       "</div>"
      ],
      "text/plain": [
       "    Id     ProductName  SupplierId  CategoryId QuantityPerUnit  UnitPrice  \\\n",
       "10  11  Queso Cabrales           5           4       1 kg pkg.       21.0   \n",
       "\n",
       "    UnitsInStock  UnitsOnOrder  ReorderLevel  Discontinued  \n",
       "10            22            30            30             0  "
      ]
     },
     "execution_count": 101,
     "metadata": {},
     "output_type": "execute_result"
    }
   ],
   "source": [
    "Products = get_table(table='Product')\n",
    "Products[Products['Id'] == 11]"
   ]
  },
  {
   "cell_type": "code",
   "execution_count": null,
   "metadata": {},
   "outputs": [],
   "source": []
  }
 ],
 "metadata": {
  "kernelspec": {
   "display_name": "Python [conda env:learn-env] *",
   "language": "python",
   "name": "conda-env-learn-env-py"
  },
  "language_info": {
   "codemirror_mode": {
    "name": "ipython",
    "version": 3
   },
   "file_extension": ".py",
   "mimetype": "text/x-python",
   "name": "python",
   "nbconvert_exporter": "python",
   "pygments_lexer": "ipython3",
   "version": "3.6.6"
  },
  "varInspector": {
   "cols": {
    "lenName": 16,
    "lenType": 16,
    "lenVar": 40
   },
   "kernels_config": {
    "python": {
     "delete_cmd_postfix": "",
     "delete_cmd_prefix": "del ",
     "library": "var_list.py",
     "varRefreshCmd": "print(var_dic_list())"
    },
    "r": {
     "delete_cmd_postfix": ") ",
     "delete_cmd_prefix": "rm(",
     "library": "var_list.r",
     "varRefreshCmd": "cat(var_dic_list()) "
    }
   },
   "types_to_exclude": [
    "module",
    "function",
    "builtin_function_or_method",
    "instance",
    "_Feature"
   ],
   "window_display": false
  }
 },
 "nbformat": 4,
 "nbformat_minor": 2
}
