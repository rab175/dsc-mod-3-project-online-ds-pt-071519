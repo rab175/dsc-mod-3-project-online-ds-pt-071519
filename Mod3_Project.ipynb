{
 "cells": [
  {
   "cell_type": "markdown",
   "metadata": {},
   "source": [
    "# Mod 3 Final Project\n",
    "\n",
    "* Student name: Ryan Beck\n",
    "* Student pace: part time\n",
    "* Scheduled project review date/time: Nov 18th, 5pm EST\n",
    "* Instructor name: Abhineet Kulkarni\n",
    "* Presentation: https://docs.google.com/presentation/d/1HJ75oss1jd6dd66U6faFUXYBSNP4DqNiYU9N7DITTYk/edit?usp=sharing"
   ]
  },
  {
   "cell_type": "markdown",
   "metadata": {},
   "source": [
    "**Project Overview:** In this project we are going to work with the Northwind database to identify and an answer four business driven questions that can be addressed with various hypothesis tests. First we'll set up our working environment and take an initial look at the data, then we'll dive in and work through a series of questions, with a primary focus on the use of discount rates and their effects on sales. \n",
    "\n",
    "Project Outline: \n",
    "1. Setup environment and do initial data inspection\n",
    "2. Business case and initial questions\n",
    "3. Question 1\n",
    "    * State question\n",
    "    * Gather and inspect data\n",
    "    * Form hypothesis\n",
    "    * Test hypothesis\n",
    "    * State conclusions\n",
    "4. Repeat for questions 2, 3, and 4"
   ]
  },
  {
   "cell_type": "markdown",
   "metadata": {},
   "source": [
    "## Setting up our environment\n",
    "\n",
    "### The Northwind Database Scehma: "
   ]
  },
  {
   "cell_type": "markdown",
   "metadata": {},
   "source": [
    "<img src=\"files/Northwind_ERD_updated.png\">"
   ]
  },
  {
   "cell_type": "markdown",
   "metadata": {},
   "source": [
    "#### Import Libraries\n",
    "We'll need a number of different libraries to query our database, process data, do statistical analysis, and visualize our results. Also, there are number of things we'll do many times, so I've defined functions in another file and imported them to keep our notebook as clean as possible. "
   ]
  },
  {
   "cell_type": "code",
   "execution_count": 33,
   "metadata": {},
   "outputs": [],
   "source": [
    "# import libraries necessary to do analysis\n",
    "import pandas as pd\n",
    "import sqlite3\n",
    "import numpy as np\n",
    "from functions import *\n",
    "import matplotlib.pyplot as plt\n",
    "import seaborn as sns\n",
    "import scipy.stats as stats\n",
    "from statsmodels.stats.power import TTestIndPower\n",
    "import statsmodels.api as sm\n",
    "from statsmodels.formula.api import ols\n",
    "import math\n",
    "sns.set_style('darkgrid')\n",
    "%matplotlib inline"
   ]
  },
  {
   "cell_type": "markdown",
   "metadata": {},
   "source": [
    "#### Initial Data Inspection\n",
    "\n",
    "Let's take a look at what tables we have in our database and look at a few we might work with in our analysis. "
   ]
  },
  {
   "cell_type": "code",
   "execution_count": 2,
   "metadata": {},
   "outputs": [],
   "source": [
    "# connect to the database\n",
    "conn = sqlite3.Connection('Northwind_small.sqlite')\n",
    "cur = conn.cursor()"
   ]
  },
  {
   "cell_type": "code",
   "execution_count": 3,
   "metadata": {},
   "outputs": [
    {
     "data": {
      "text/plain": [
       "[('Employee',),\n",
       " ('Category',),\n",
       " ('Customer',),\n",
       " ('Shipper',),\n",
       " ('Supplier',),\n",
       " ('Order',),\n",
       " ('Product',),\n",
       " ('OrderDetail',),\n",
       " ('CustomerCustomerDemo',),\n",
       " ('CustomerDemographic',),\n",
       " ('Region',),\n",
       " ('Territory',),\n",
       " ('EmployeeTerritory',)]"
      ]
     },
     "execution_count": 3,
     "metadata": {},
     "output_type": "execute_result"
    }
   ],
   "source": [
    "# list the all tables in the database\n",
    "cursor.execute('select name from sqlite_master where type =\"table\"').fetchall()"
   ]
  },
  {
   "cell_type": "markdown",
   "metadata": {},
   "source": [
    "Our analysis will focus on discount usage, to do that we may want a closer look at the Order, OrderDetail, Employee, and Product tables to begin with. "
   ]
  },
  {
   "cell_type": "code",
   "execution_count": 4,
   "metadata": {},
   "outputs": [
    {
     "data": {
      "text/html": [
       "<div>\n",
       "<style scoped>\n",
       "    .dataframe tbody tr th:only-of-type {\n",
       "        vertical-align: middle;\n",
       "    }\n",
       "\n",
       "    .dataframe tbody tr th {\n",
       "        vertical-align: top;\n",
       "    }\n",
       "\n",
       "    .dataframe thead th {\n",
       "        text-align: right;\n",
       "    }\n",
       "</style>\n",
       "<table border=\"1\" class=\"dataframe\">\n",
       "  <thead>\n",
       "    <tr style=\"text-align: right;\">\n",
       "      <th></th>\n",
       "      <th>Id</th>\n",
       "      <th>OrderId</th>\n",
       "      <th>ProductId</th>\n",
       "      <th>UnitPrice</th>\n",
       "      <th>Quantity</th>\n",
       "      <th>Discount</th>\n",
       "    </tr>\n",
       "  </thead>\n",
       "  <tbody>\n",
       "    <tr>\n",
       "      <th>0</th>\n",
       "      <td>10248/11</td>\n",
       "      <td>10248</td>\n",
       "      <td>11</td>\n",
       "      <td>14.0</td>\n",
       "      <td>12</td>\n",
       "      <td>0.0</td>\n",
       "    </tr>\n",
       "    <tr>\n",
       "      <th>1</th>\n",
       "      <td>10248/42</td>\n",
       "      <td>10248</td>\n",
       "      <td>42</td>\n",
       "      <td>9.8</td>\n",
       "      <td>10</td>\n",
       "      <td>0.0</td>\n",
       "    </tr>\n",
       "    <tr>\n",
       "      <th>2</th>\n",
       "      <td>10248/72</td>\n",
       "      <td>10248</td>\n",
       "      <td>72</td>\n",
       "      <td>34.8</td>\n",
       "      <td>5</td>\n",
       "      <td>0.0</td>\n",
       "    </tr>\n",
       "    <tr>\n",
       "      <th>3</th>\n",
       "      <td>10249/14</td>\n",
       "      <td>10249</td>\n",
       "      <td>14</td>\n",
       "      <td>18.6</td>\n",
       "      <td>9</td>\n",
       "      <td>0.0</td>\n",
       "    </tr>\n",
       "    <tr>\n",
       "      <th>4</th>\n",
       "      <td>10249/51</td>\n",
       "      <td>10249</td>\n",
       "      <td>51</td>\n",
       "      <td>42.4</td>\n",
       "      <td>40</td>\n",
       "      <td>0.0</td>\n",
       "    </tr>\n",
       "  </tbody>\n",
       "</table>\n",
       "</div>"
      ],
      "text/plain": [
       "         Id  OrderId  ProductId  UnitPrice  Quantity  Discount\n",
       "0  10248/11    10248         11       14.0        12       0.0\n",
       "1  10248/42    10248         42        9.8        10       0.0\n",
       "2  10248/72    10248         72       34.8         5       0.0\n",
       "3  10249/14    10249         14       18.6         9       0.0\n",
       "4  10249/51    10249         51       42.4        40       0.0"
      ]
     },
     "execution_count": 4,
     "metadata": {},
     "output_type": "execute_result"
    }
   ],
   "source": [
    "# query the database and create a pandas dataframe\n",
    "OrderDetail = get_table(table='OrderDetail')\n",
    "OrderDetail.head()"
   ]
  },
  {
   "cell_type": "code",
   "execution_count": 5,
   "metadata": {},
   "outputs": [
    {
     "data": {
      "text/html": [
       "<div>\n",
       "<style scoped>\n",
       "    .dataframe tbody tr th:only-of-type {\n",
       "        vertical-align: middle;\n",
       "    }\n",
       "\n",
       "    .dataframe tbody tr th {\n",
       "        vertical-align: top;\n",
       "    }\n",
       "\n",
       "    .dataframe thead th {\n",
       "        text-align: right;\n",
       "    }\n",
       "</style>\n",
       "<table border=\"1\" class=\"dataframe\">\n",
       "  <thead>\n",
       "    <tr style=\"text-align: right;\">\n",
       "      <th></th>\n",
       "      <th>Id</th>\n",
       "      <th>LastName</th>\n",
       "      <th>FirstName</th>\n",
       "      <th>Title</th>\n",
       "      <th>TitleOfCourtesy</th>\n",
       "      <th>BirthDate</th>\n",
       "      <th>HireDate</th>\n",
       "      <th>Address</th>\n",
       "      <th>City</th>\n",
       "      <th>Region</th>\n",
       "      <th>PostalCode</th>\n",
       "      <th>Country</th>\n",
       "      <th>HomePhone</th>\n",
       "      <th>Extension</th>\n",
       "      <th>Photo</th>\n",
       "      <th>Notes</th>\n",
       "      <th>ReportsTo</th>\n",
       "      <th>PhotoPath</th>\n",
       "    </tr>\n",
       "  </thead>\n",
       "  <tbody>\n",
       "    <tr>\n",
       "      <th>0</th>\n",
       "      <td>1</td>\n",
       "      <td>Davolio</td>\n",
       "      <td>Nancy</td>\n",
       "      <td>Sales Representative</td>\n",
       "      <td>Ms.</td>\n",
       "      <td>1980-12-08</td>\n",
       "      <td>2024-05-01</td>\n",
       "      <td>507 - 20th Ave. E. Apt. 2A</td>\n",
       "      <td>Seattle</td>\n",
       "      <td>North America</td>\n",
       "      <td>98122</td>\n",
       "      <td>USA</td>\n",
       "      <td>(206) 555-9857</td>\n",
       "      <td>5467</td>\n",
       "      <td>None</td>\n",
       "      <td>Education includes a BA in psychology from Col...</td>\n",
       "      <td>2.0</td>\n",
       "      <td>http://accweb/emmployees/davolio.bmp</td>\n",
       "    </tr>\n",
       "    <tr>\n",
       "      <th>1</th>\n",
       "      <td>2</td>\n",
       "      <td>Fuller</td>\n",
       "      <td>Andrew</td>\n",
       "      <td>Vice President, Sales</td>\n",
       "      <td>Dr.</td>\n",
       "      <td>1984-02-19</td>\n",
       "      <td>2024-08-14</td>\n",
       "      <td>908 W. Capital Way</td>\n",
       "      <td>Tacoma</td>\n",
       "      <td>North America</td>\n",
       "      <td>98401</td>\n",
       "      <td>USA</td>\n",
       "      <td>(206) 555-9482</td>\n",
       "      <td>3457</td>\n",
       "      <td>None</td>\n",
       "      <td>Andrew received his BTS commercial in 1974 and...</td>\n",
       "      <td>NaN</td>\n",
       "      <td>http://accweb/emmployees/fuller.bmp</td>\n",
       "    </tr>\n",
       "    <tr>\n",
       "      <th>2</th>\n",
       "      <td>3</td>\n",
       "      <td>Leverling</td>\n",
       "      <td>Janet</td>\n",
       "      <td>Sales Representative</td>\n",
       "      <td>Ms.</td>\n",
       "      <td>1995-08-30</td>\n",
       "      <td>2024-04-01</td>\n",
       "      <td>722 Moss Bay Blvd.</td>\n",
       "      <td>Kirkland</td>\n",
       "      <td>North America</td>\n",
       "      <td>98033</td>\n",
       "      <td>USA</td>\n",
       "      <td>(206) 555-3412</td>\n",
       "      <td>3355</td>\n",
       "      <td>None</td>\n",
       "      <td>Janet has a BS degree in chemistry from Boston...</td>\n",
       "      <td>2.0</td>\n",
       "      <td>http://accweb/emmployees/leverling.bmp</td>\n",
       "    </tr>\n",
       "    <tr>\n",
       "      <th>3</th>\n",
       "      <td>4</td>\n",
       "      <td>Peacock</td>\n",
       "      <td>Margaret</td>\n",
       "      <td>Sales Representative</td>\n",
       "      <td>Mrs.</td>\n",
       "      <td>1969-09-19</td>\n",
       "      <td>2025-05-03</td>\n",
       "      <td>4110 Old Redmond Rd.</td>\n",
       "      <td>Redmond</td>\n",
       "      <td>North America</td>\n",
       "      <td>98052</td>\n",
       "      <td>USA</td>\n",
       "      <td>(206) 555-8122</td>\n",
       "      <td>5176</td>\n",
       "      <td>None</td>\n",
       "      <td>Margaret holds a BA in English literature from...</td>\n",
       "      <td>2.0</td>\n",
       "      <td>http://accweb/emmployees/peacock.bmp</td>\n",
       "    </tr>\n",
       "    <tr>\n",
       "      <th>4</th>\n",
       "      <td>5</td>\n",
       "      <td>Buchanan</td>\n",
       "      <td>Steven</td>\n",
       "      <td>Sales Manager</td>\n",
       "      <td>Mr.</td>\n",
       "      <td>1987-03-04</td>\n",
       "      <td>2025-10-17</td>\n",
       "      <td>14 Garrett Hill</td>\n",
       "      <td>London</td>\n",
       "      <td>British Isles</td>\n",
       "      <td>SW1 8JR</td>\n",
       "      <td>UK</td>\n",
       "      <td>(71) 555-4848</td>\n",
       "      <td>3453</td>\n",
       "      <td>None</td>\n",
       "      <td>Steven Buchanan graduated from St. Andrews Uni...</td>\n",
       "      <td>2.0</td>\n",
       "      <td>http://accweb/emmployees/buchanan.bmp</td>\n",
       "    </tr>\n",
       "  </tbody>\n",
       "</table>\n",
       "</div>"
      ],
      "text/plain": [
       "   Id   LastName FirstName                  Title TitleOfCourtesy   BirthDate  \\\n",
       "0   1    Davolio     Nancy   Sales Representative             Ms.  1980-12-08   \n",
       "1   2     Fuller    Andrew  Vice President, Sales             Dr.  1984-02-19   \n",
       "2   3  Leverling     Janet   Sales Representative             Ms.  1995-08-30   \n",
       "3   4    Peacock  Margaret   Sales Representative            Mrs.  1969-09-19   \n",
       "4   5   Buchanan    Steven          Sales Manager             Mr.  1987-03-04   \n",
       "\n",
       "     HireDate                     Address      City         Region PostalCode  \\\n",
       "0  2024-05-01  507 - 20th Ave. E. Apt. 2A   Seattle  North America      98122   \n",
       "1  2024-08-14          908 W. Capital Way    Tacoma  North America      98401   \n",
       "2  2024-04-01          722 Moss Bay Blvd.  Kirkland  North America      98033   \n",
       "3  2025-05-03        4110 Old Redmond Rd.   Redmond  North America      98052   \n",
       "4  2025-10-17             14 Garrett Hill    London  British Isles    SW1 8JR   \n",
       "\n",
       "  Country       HomePhone Extension Photo  \\\n",
       "0     USA  (206) 555-9857      5467  None   \n",
       "1     USA  (206) 555-9482      3457  None   \n",
       "2     USA  (206) 555-3412      3355  None   \n",
       "3     USA  (206) 555-8122      5176  None   \n",
       "4      UK   (71) 555-4848      3453  None   \n",
       "\n",
       "                                               Notes  ReportsTo  \\\n",
       "0  Education includes a BA in psychology from Col...        2.0   \n",
       "1  Andrew received his BTS commercial in 1974 and...        NaN   \n",
       "2  Janet has a BS degree in chemistry from Boston...        2.0   \n",
       "3  Margaret holds a BA in English literature from...        2.0   \n",
       "4  Steven Buchanan graduated from St. Andrews Uni...        2.0   \n",
       "\n",
       "                                PhotoPath  \n",
       "0    http://accweb/emmployees/davolio.bmp  \n",
       "1     http://accweb/emmployees/fuller.bmp  \n",
       "2  http://accweb/emmployees/leverling.bmp  \n",
       "3    http://accweb/emmployees/peacock.bmp  \n",
       "4   http://accweb/emmployees/buchanan.bmp  "
      ]
     },
     "execution_count": 5,
     "metadata": {},
     "output_type": "execute_result"
    }
   ],
   "source": [
    "# query the database and create a pandas dataframe\n",
    "Employee = get_table(table='Employee')\n",
    "Employee.head()"
   ]
  },
  {
   "cell_type": "code",
   "execution_count": 6,
   "metadata": {},
   "outputs": [
    {
     "data": {
      "text/html": [
       "<div>\n",
       "<style scoped>\n",
       "    .dataframe tbody tr th:only-of-type {\n",
       "        vertical-align: middle;\n",
       "    }\n",
       "\n",
       "    .dataframe tbody tr th {\n",
       "        vertical-align: top;\n",
       "    }\n",
       "\n",
       "    .dataframe thead th {\n",
       "        text-align: right;\n",
       "    }\n",
       "</style>\n",
       "<table border=\"1\" class=\"dataframe\">\n",
       "  <thead>\n",
       "    <tr style=\"text-align: right;\">\n",
       "      <th></th>\n",
       "      <th>Id</th>\n",
       "      <th>ProductName</th>\n",
       "      <th>SupplierId</th>\n",
       "      <th>CategoryId</th>\n",
       "      <th>QuantityPerUnit</th>\n",
       "      <th>UnitPrice</th>\n",
       "      <th>UnitsInStock</th>\n",
       "      <th>UnitsOnOrder</th>\n",
       "      <th>ReorderLevel</th>\n",
       "      <th>Discontinued</th>\n",
       "    </tr>\n",
       "  </thead>\n",
       "  <tbody>\n",
       "    <tr>\n",
       "      <th>0</th>\n",
       "      <td>1</td>\n",
       "      <td>Chai</td>\n",
       "      <td>1</td>\n",
       "      <td>1</td>\n",
       "      <td>10 boxes x 20 bags</td>\n",
       "      <td>18.00</td>\n",
       "      <td>39</td>\n",
       "      <td>0</td>\n",
       "      <td>10</td>\n",
       "      <td>0</td>\n",
       "    </tr>\n",
       "    <tr>\n",
       "      <th>1</th>\n",
       "      <td>2</td>\n",
       "      <td>Chang</td>\n",
       "      <td>1</td>\n",
       "      <td>1</td>\n",
       "      <td>24 - 12 oz bottles</td>\n",
       "      <td>19.00</td>\n",
       "      <td>17</td>\n",
       "      <td>40</td>\n",
       "      <td>25</td>\n",
       "      <td>0</td>\n",
       "    </tr>\n",
       "    <tr>\n",
       "      <th>2</th>\n",
       "      <td>3</td>\n",
       "      <td>Aniseed Syrup</td>\n",
       "      <td>1</td>\n",
       "      <td>2</td>\n",
       "      <td>12 - 550 ml bottles</td>\n",
       "      <td>10.00</td>\n",
       "      <td>13</td>\n",
       "      <td>70</td>\n",
       "      <td>25</td>\n",
       "      <td>0</td>\n",
       "    </tr>\n",
       "    <tr>\n",
       "      <th>3</th>\n",
       "      <td>4</td>\n",
       "      <td>Chef Anton's Cajun Seasoning</td>\n",
       "      <td>2</td>\n",
       "      <td>2</td>\n",
       "      <td>48 - 6 oz jars</td>\n",
       "      <td>22.00</td>\n",
       "      <td>53</td>\n",
       "      <td>0</td>\n",
       "      <td>0</td>\n",
       "      <td>0</td>\n",
       "    </tr>\n",
       "    <tr>\n",
       "      <th>4</th>\n",
       "      <td>5</td>\n",
       "      <td>Chef Anton's Gumbo Mix</td>\n",
       "      <td>2</td>\n",
       "      <td>2</td>\n",
       "      <td>36 boxes</td>\n",
       "      <td>21.35</td>\n",
       "      <td>0</td>\n",
       "      <td>0</td>\n",
       "      <td>0</td>\n",
       "      <td>1</td>\n",
       "    </tr>\n",
       "  </tbody>\n",
       "</table>\n",
       "</div>"
      ],
      "text/plain": [
       "   Id                   ProductName  SupplierId  CategoryId  \\\n",
       "0   1                          Chai           1           1   \n",
       "1   2                         Chang           1           1   \n",
       "2   3                 Aniseed Syrup           1           2   \n",
       "3   4  Chef Anton's Cajun Seasoning           2           2   \n",
       "4   5        Chef Anton's Gumbo Mix           2           2   \n",
       "\n",
       "       QuantityPerUnit  UnitPrice  UnitsInStock  UnitsOnOrder  ReorderLevel  \\\n",
       "0   10 boxes x 20 bags      18.00            39             0            10   \n",
       "1   24 - 12 oz bottles      19.00            17            40            25   \n",
       "2  12 - 550 ml bottles      10.00            13            70            25   \n",
       "3       48 - 6 oz jars      22.00            53             0             0   \n",
       "4             36 boxes      21.35             0             0             0   \n",
       "\n",
       "   Discontinued  \n",
       "0             0  \n",
       "1             0  \n",
       "2             0  \n",
       "3             0  \n",
       "4             1  "
      ]
     },
     "execution_count": 6,
     "metadata": {},
     "output_type": "execute_result"
    }
   ],
   "source": [
    "# query the database and create a pandas dataframe\n",
    "Product = get_table(table='Product')\n",
    "Product.head()"
   ]
  },
  {
   "cell_type": "markdown",
   "metadata": {},
   "source": [
    "We'll have to do a direct SQL query of the 'Order' table because the format of the name"
   ]
  },
  {
   "cell_type": "code",
   "execution_count": 7,
   "metadata": {},
   "outputs": [
    {
     "data": {
      "text/html": [
       "<div>\n",
       "<style scoped>\n",
       "    .dataframe tbody tr th:only-of-type {\n",
       "        vertical-align: middle;\n",
       "    }\n",
       "\n",
       "    .dataframe tbody tr th {\n",
       "        vertical-align: top;\n",
       "    }\n",
       "\n",
       "    .dataframe thead th {\n",
       "        text-align: right;\n",
       "    }\n",
       "</style>\n",
       "<table border=\"1\" class=\"dataframe\">\n",
       "  <thead>\n",
       "    <tr style=\"text-align: right;\">\n",
       "      <th></th>\n",
       "      <th>Id</th>\n",
       "      <th>CustomerId</th>\n",
       "      <th>EmployeeId</th>\n",
       "      <th>OrderDate</th>\n",
       "      <th>RequiredDate</th>\n",
       "      <th>ShippedDate</th>\n",
       "      <th>ShipVia</th>\n",
       "      <th>Freight</th>\n",
       "      <th>ShipName</th>\n",
       "      <th>ShipAddress</th>\n",
       "      <th>ShipCity</th>\n",
       "      <th>ShipRegion</th>\n",
       "      <th>ShipPostalCode</th>\n",
       "      <th>ShipCountry</th>\n",
       "    </tr>\n",
       "  </thead>\n",
       "  <tbody>\n",
       "    <tr>\n",
       "      <th>0</th>\n",
       "      <td>10248</td>\n",
       "      <td>VINET</td>\n",
       "      <td>5</td>\n",
       "      <td>2012-07-04</td>\n",
       "      <td>2012-08-01</td>\n",
       "      <td>2012-07-16</td>\n",
       "      <td>3</td>\n",
       "      <td>32.38</td>\n",
       "      <td>Vins et alcools Chevalier</td>\n",
       "      <td>59 rue de l'Abbaye</td>\n",
       "      <td>Reims</td>\n",
       "      <td>Western Europe</td>\n",
       "      <td>51100</td>\n",
       "      <td>France</td>\n",
       "    </tr>\n",
       "    <tr>\n",
       "      <th>1</th>\n",
       "      <td>10249</td>\n",
       "      <td>TOMSP</td>\n",
       "      <td>6</td>\n",
       "      <td>2012-07-05</td>\n",
       "      <td>2012-08-16</td>\n",
       "      <td>2012-07-10</td>\n",
       "      <td>1</td>\n",
       "      <td>11.61</td>\n",
       "      <td>Toms Spezialitäten</td>\n",
       "      <td>Luisenstr. 48</td>\n",
       "      <td>Münster</td>\n",
       "      <td>Western Europe</td>\n",
       "      <td>44087</td>\n",
       "      <td>Germany</td>\n",
       "    </tr>\n",
       "    <tr>\n",
       "      <th>2</th>\n",
       "      <td>10250</td>\n",
       "      <td>HANAR</td>\n",
       "      <td>4</td>\n",
       "      <td>2012-07-08</td>\n",
       "      <td>2012-08-05</td>\n",
       "      <td>2012-07-12</td>\n",
       "      <td>2</td>\n",
       "      <td>65.83</td>\n",
       "      <td>Hanari Carnes</td>\n",
       "      <td>Rua do Paço, 67</td>\n",
       "      <td>Rio de Janeiro</td>\n",
       "      <td>South America</td>\n",
       "      <td>05454-876</td>\n",
       "      <td>Brazil</td>\n",
       "    </tr>\n",
       "    <tr>\n",
       "      <th>3</th>\n",
       "      <td>10251</td>\n",
       "      <td>VICTE</td>\n",
       "      <td>3</td>\n",
       "      <td>2012-07-08</td>\n",
       "      <td>2012-08-05</td>\n",
       "      <td>2012-07-15</td>\n",
       "      <td>1</td>\n",
       "      <td>41.34</td>\n",
       "      <td>Victuailles en stock</td>\n",
       "      <td>2, rue du Commerce</td>\n",
       "      <td>Lyon</td>\n",
       "      <td>Western Europe</td>\n",
       "      <td>69004</td>\n",
       "      <td>France</td>\n",
       "    </tr>\n",
       "    <tr>\n",
       "      <th>4</th>\n",
       "      <td>10252</td>\n",
       "      <td>SUPRD</td>\n",
       "      <td>4</td>\n",
       "      <td>2012-07-09</td>\n",
       "      <td>2012-08-06</td>\n",
       "      <td>2012-07-11</td>\n",
       "      <td>2</td>\n",
       "      <td>51.30</td>\n",
       "      <td>Suprêmes délices</td>\n",
       "      <td>Boulevard Tirou, 255</td>\n",
       "      <td>Charleroi</td>\n",
       "      <td>Western Europe</td>\n",
       "      <td>B-6000</td>\n",
       "      <td>Belgium</td>\n",
       "    </tr>\n",
       "  </tbody>\n",
       "</table>\n",
       "</div>"
      ],
      "text/plain": [
       "      Id CustomerId  EmployeeId   OrderDate RequiredDate ShippedDate  ShipVia  \\\n",
       "0  10248      VINET           5  2012-07-04   2012-08-01  2012-07-16        3   \n",
       "1  10249      TOMSP           6  2012-07-05   2012-08-16  2012-07-10        1   \n",
       "2  10250      HANAR           4  2012-07-08   2012-08-05  2012-07-12        2   \n",
       "3  10251      VICTE           3  2012-07-08   2012-08-05  2012-07-15        1   \n",
       "4  10252      SUPRD           4  2012-07-09   2012-08-06  2012-07-11        2   \n",
       "\n",
       "   Freight                   ShipName           ShipAddress        ShipCity  \\\n",
       "0    32.38  Vins et alcools Chevalier    59 rue de l'Abbaye           Reims   \n",
       "1    11.61         Toms Spezialitäten         Luisenstr. 48         Münster   \n",
       "2    65.83              Hanari Carnes       Rua do Paço, 67  Rio de Janeiro   \n",
       "3    41.34       Victuailles en stock    2, rue du Commerce            Lyon   \n",
       "4    51.30           Suprêmes délices  Boulevard Tirou, 255       Charleroi   \n",
       "\n",
       "       ShipRegion ShipPostalCode ShipCountry  \n",
       "0  Western Europe          51100      France  \n",
       "1  Western Europe          44087     Germany  \n",
       "2   South America      05454-876      Brazil  \n",
       "3  Western Europe          69004      France  \n",
       "4  Western Europe         B-6000     Belgium  "
      ]
     },
     "execution_count": 7,
     "metadata": {},
     "output_type": "execute_result"
    }
   ],
   "source": [
    "# query the database and create a pandas dataframe\n",
    "cur.execute(\"\"\"SELECT *\n",
    "               FROM 'Order' \"\"\")\n",
    "\n",
    "Order = pd.DataFrame(cur.fetchall())\n",
    "Order.columns = [x[0] for x in cur.description]\n",
    "\n",
    "Order.head()"
   ]
  },
  {
   "cell_type": "markdown",
   "metadata": {},
   "source": [
    "## Business Case and Questions\n",
    "\n",
    "Maximizing value per transaction is an essential element of success for a product driven business. It is essential that pricing is consistent, and that if discounts are used that they are used judiciously. This case will analyze the use of discounts and assess the level to which they are a useful tool for supporting sales. We'll ask:\n",
    "\n",
    "1. Does discount amount have a statistically significant effect on the quantity of a product in an order? If so, at what level(s) of discount?\n",
    "2. Do different employees sell a statistically significantly different quantity of items per order? If so, which ones?\n",
    "3. Do different employees use discounts at a rate that is statistically significantly different than the overall average rate of discount use? If so, which employees are more likely to use a discount? Do those employees make more sales?\n",
    "4. Do discounts have a statistically significant positive effect on revenue per sale? If so at which rates, and do employees that use discounts more frequently bring in statistically significantly more revenue?  "
   ]
  },
  {
   "cell_type": "markdown",
   "metadata": {},
   "source": [
    "## Question 1"
   ]
  },
  {
   "cell_type": "markdown",
   "metadata": {},
   "source": [
    "**Research question 1:** Does discount amount have a statistically significant effect on the quantity of a product in an order? If so, at what level(s) of discount?"
   ]
  },
  {
   "cell_type": "markdown",
   "metadata": {},
   "source": [
    "#### Gather and inspect data for question 1\n",
    "\n",
    "To answer this question we can work with data from the 'OrderDetail' table. "
   ]
  },
  {
   "cell_type": "code",
   "execution_count": 8,
   "metadata": {},
   "outputs": [],
   "source": [
    "# create dataframe to use for question 1 analysis\n",
    "df = get_table(table='OrderDetail')"
   ]
  },
  {
   "cell_type": "code",
   "execution_count": 9,
   "metadata": {},
   "outputs": [
    {
     "data": {
      "text/html": [
       "<div>\n",
       "<style scoped>\n",
       "    .dataframe tbody tr th:only-of-type {\n",
       "        vertical-align: middle;\n",
       "    }\n",
       "\n",
       "    .dataframe tbody tr th {\n",
       "        vertical-align: top;\n",
       "    }\n",
       "\n",
       "    .dataframe thead th {\n",
       "        text-align: right;\n",
       "    }\n",
       "</style>\n",
       "<table border=\"1\" class=\"dataframe\">\n",
       "  <thead>\n",
       "    <tr style=\"text-align: right;\">\n",
       "      <th></th>\n",
       "      <th>Id</th>\n",
       "      <th>OrderId</th>\n",
       "      <th>ProductId</th>\n",
       "      <th>UnitPrice</th>\n",
       "      <th>Quantity</th>\n",
       "      <th>Discount</th>\n",
       "    </tr>\n",
       "  </thead>\n",
       "  <tbody>\n",
       "    <tr>\n",
       "      <th>0</th>\n",
       "      <td>10248/11</td>\n",
       "      <td>10248</td>\n",
       "      <td>11</td>\n",
       "      <td>14.0</td>\n",
       "      <td>12</td>\n",
       "      <td>0.0</td>\n",
       "    </tr>\n",
       "    <tr>\n",
       "      <th>1</th>\n",
       "      <td>10248/42</td>\n",
       "      <td>10248</td>\n",
       "      <td>42</td>\n",
       "      <td>9.8</td>\n",
       "      <td>10</td>\n",
       "      <td>0.0</td>\n",
       "    </tr>\n",
       "    <tr>\n",
       "      <th>2</th>\n",
       "      <td>10248/72</td>\n",
       "      <td>10248</td>\n",
       "      <td>72</td>\n",
       "      <td>34.8</td>\n",
       "      <td>5</td>\n",
       "      <td>0.0</td>\n",
       "    </tr>\n",
       "    <tr>\n",
       "      <th>3</th>\n",
       "      <td>10249/14</td>\n",
       "      <td>10249</td>\n",
       "      <td>14</td>\n",
       "      <td>18.6</td>\n",
       "      <td>9</td>\n",
       "      <td>0.0</td>\n",
       "    </tr>\n",
       "    <tr>\n",
       "      <th>4</th>\n",
       "      <td>10249/51</td>\n",
       "      <td>10249</td>\n",
       "      <td>51</td>\n",
       "      <td>42.4</td>\n",
       "      <td>40</td>\n",
       "      <td>0.0</td>\n",
       "    </tr>\n",
       "  </tbody>\n",
       "</table>\n",
       "</div>"
      ],
      "text/plain": [
       "         Id  OrderId  ProductId  UnitPrice  Quantity  Discount\n",
       "0  10248/11    10248         11       14.0        12       0.0\n",
       "1  10248/42    10248         42        9.8        10       0.0\n",
       "2  10248/72    10248         72       34.8         5       0.0\n",
       "3  10249/14    10249         14       18.6         9       0.0\n",
       "4  10249/51    10249         51       42.4        40       0.0"
      ]
     },
     "metadata": {},
     "output_type": "display_data"
    },
    {
     "name": "stdout",
     "output_type": "stream",
     "text": [
      "<class 'pandas.core.frame.DataFrame'>\n",
      "RangeIndex: 2155 entries, 0 to 2154\n",
      "Data columns (total 6 columns):\n",
      "Id           2155 non-null object\n",
      "OrderId      2155 non-null int64\n",
      "ProductId    2155 non-null int64\n",
      "UnitPrice    2155 non-null float64\n",
      "Quantity     2155 non-null int64\n",
      "Discount     2155 non-null float64\n",
      "dtypes: float64(2), int64(3), object(1)\n",
      "memory usage: 101.1+ KB\n"
     ]
    },
    {
     "data": {
      "text/plain": [
       "None"
      ]
     },
     "metadata": {},
     "output_type": "display_data"
    },
    {
     "data": {
      "text/html": [
       "<div>\n",
       "<style scoped>\n",
       "    .dataframe tbody tr th:only-of-type {\n",
       "        vertical-align: middle;\n",
       "    }\n",
       "\n",
       "    .dataframe tbody tr th {\n",
       "        vertical-align: top;\n",
       "    }\n",
       "\n",
       "    .dataframe thead th {\n",
       "        text-align: right;\n",
       "    }\n",
       "</style>\n",
       "<table border=\"1\" class=\"dataframe\">\n",
       "  <thead>\n",
       "    <tr style=\"text-align: right;\">\n",
       "      <th></th>\n",
       "      <th>OrderId</th>\n",
       "      <th>ProductId</th>\n",
       "      <th>UnitPrice</th>\n",
       "      <th>Quantity</th>\n",
       "      <th>Discount</th>\n",
       "    </tr>\n",
       "  </thead>\n",
       "  <tbody>\n",
       "    <tr>\n",
       "      <th>count</th>\n",
       "      <td>2155.000000</td>\n",
       "      <td>2155.000000</td>\n",
       "      <td>2155.000000</td>\n",
       "      <td>2155.000000</td>\n",
       "      <td>2155.000000</td>\n",
       "    </tr>\n",
       "    <tr>\n",
       "      <th>mean</th>\n",
       "      <td>10659.375870</td>\n",
       "      <td>40.793039</td>\n",
       "      <td>26.218520</td>\n",
       "      <td>23.812993</td>\n",
       "      <td>0.056167</td>\n",
       "    </tr>\n",
       "    <tr>\n",
       "      <th>std</th>\n",
       "      <td>241.378032</td>\n",
       "      <td>22.159019</td>\n",
       "      <td>29.827418</td>\n",
       "      <td>19.022047</td>\n",
       "      <td>0.083450</td>\n",
       "    </tr>\n",
       "    <tr>\n",
       "      <th>min</th>\n",
       "      <td>10248.000000</td>\n",
       "      <td>1.000000</td>\n",
       "      <td>2.000000</td>\n",
       "      <td>1.000000</td>\n",
       "      <td>0.000000</td>\n",
       "    </tr>\n",
       "    <tr>\n",
       "      <th>25%</th>\n",
       "      <td>10451.000000</td>\n",
       "      <td>22.000000</td>\n",
       "      <td>12.000000</td>\n",
       "      <td>10.000000</td>\n",
       "      <td>0.000000</td>\n",
       "    </tr>\n",
       "    <tr>\n",
       "      <th>50%</th>\n",
       "      <td>10657.000000</td>\n",
       "      <td>41.000000</td>\n",
       "      <td>18.400000</td>\n",
       "      <td>20.000000</td>\n",
       "      <td>0.000000</td>\n",
       "    </tr>\n",
       "    <tr>\n",
       "      <th>75%</th>\n",
       "      <td>10862.500000</td>\n",
       "      <td>60.000000</td>\n",
       "      <td>32.000000</td>\n",
       "      <td>30.000000</td>\n",
       "      <td>0.100000</td>\n",
       "    </tr>\n",
       "    <tr>\n",
       "      <th>max</th>\n",
       "      <td>11077.000000</td>\n",
       "      <td>77.000000</td>\n",
       "      <td>263.500000</td>\n",
       "      <td>130.000000</td>\n",
       "      <td>0.250000</td>\n",
       "    </tr>\n",
       "  </tbody>\n",
       "</table>\n",
       "</div>"
      ],
      "text/plain": [
       "            OrderId    ProductId    UnitPrice     Quantity     Discount\n",
       "count   2155.000000  2155.000000  2155.000000  2155.000000  2155.000000\n",
       "mean   10659.375870    40.793039    26.218520    23.812993     0.056167\n",
       "std      241.378032    22.159019    29.827418    19.022047     0.083450\n",
       "min    10248.000000     1.000000     2.000000     1.000000     0.000000\n",
       "25%    10451.000000    22.000000    12.000000    10.000000     0.000000\n",
       "50%    10657.000000    41.000000    18.400000    20.000000     0.000000\n",
       "75%    10862.500000    60.000000    32.000000    30.000000     0.100000\n",
       "max    11077.000000    77.000000   263.500000   130.000000     0.250000"
      ]
     },
     "metadata": {},
     "output_type": "display_data"
    }
   ],
   "source": [
    "# Look at the structure of the data, the data types and counts, and central tendencies \n",
    "inspect_dataframe(df)"
   ]
  },
  {
   "cell_type": "markdown",
   "metadata": {},
   "source": [
    "From inspecting the data we know: \n",
    "* there are 2155 order details to analyze, with no null values\n",
    "* there is a large range of unit prices and quantities\n",
    "* There appear to be more sales with no discount than with one\n",
    "\n",
    "Let's look more specifically at the values for discount"
   ]
  },
  {
   "cell_type": "code",
   "execution_count": 10,
   "metadata": {},
   "outputs": [
    {
     "data": {
      "text/plain": [
       "0.00    1317\n",
       "0.05     185\n",
       "0.10     173\n",
       "0.20     161\n",
       "0.15     157\n",
       "0.25     154\n",
       "0.03       3\n",
       "0.02       2\n",
       "0.01       1\n",
       "0.04       1\n",
       "0.06       1\n",
       "Name: Discount, dtype: int64"
      ]
     },
     "execution_count": 10,
     "metadata": {},
     "output_type": "execute_result"
    }
   ],
   "source": [
    "# Count the number of times each value in the Dicount column occurs\n",
    "df.Discount.value_counts()"
   ]
  },
  {
   "cell_type": "markdown",
   "metadata": {},
   "source": [
    "**Observations:**\n",
    "* The largest number of sales have no discount at all (1317). \n",
    "* Discounts at 5, 10, 15, 20, and 25% all have similar counts\n",
    "* All other rates have too small a count to be considered individually - we'll note that for later"
   ]
  },
  {
   "cell_type": "code",
   "execution_count": 11,
   "metadata": {},
   "outputs": [],
   "source": [
    "# create a set of unique values from the Discount column\n",
    "discount_rates = set(df.Discount.values)"
   ]
  },
  {
   "cell_type": "code",
   "execution_count": 12,
   "metadata": {},
   "outputs": [
    {
     "data": {
      "text/plain": [
       "{0.0: 21.715261958997722,\n",
       " 0.25: 28.24025974025974,\n",
       " 0.2: 27.024844720496894,\n",
       " 0.05: 28.01081081081081,\n",
       " 0.15: 28.38216560509554,\n",
       " 0.1: 25.23699421965318,\n",
       " 0.03: 1.6666666666666667,\n",
       " 0.06: 2.0,\n",
       " 0.01: 2.0,\n",
       " 0.04: 1.0,\n",
       " 0.02: 2.0}"
      ]
     },
     "execution_count": 12,
     "metadata": {},
     "output_type": "execute_result"
    }
   ],
   "source": [
    "# create a dictionary and populate it with each discount rate and the average quantity sold at that rate\n",
    "avg_discount_order_size = {}\n",
    "\n",
    "for d in discount_rates: \n",
    "    avg_discount_order_size[d] = df[df['Discount'] == d]['Quantity'].mean()\n",
    "    \n",
    "avg_discount_order_size"
   ]
  },
  {
   "cell_type": "code",
   "execution_count": 16,
   "metadata": {},
   "outputs": [
    {
     "data": {
      "image/png": "[encoded data removed]",
      "text/plain": [
       "<Figure size 1296x432 with 2 Axes>"
      ]
     },
     "metadata": {
      "needs_background": "light"
     },
     "output_type": "display_data"
    }
   ],
   "source": [
    "# set figure size and axes for two side-by-side plots\n",
    "plt.figure(figsize=(18,6))\n",
    "ax1 = plt.subplot(1,2,1)\n",
    "ax2 = plt.subplot(1,2,2)\n",
    "\n",
    "# plot the average quantity sold at each level of discount\n",
    "a = sns.barplot(x=list(avg_discount_order_size.keys()), y=list(avg_discount_order_size.values()), ax=ax1)\n",
    "a.axes.set_title('Avg Quantity Sold by Discount Rate')\n",
    "a.axes.set_xlabel('Discount')\n",
    "a.axes.set_ylabel('Avg Quantity per Order')\n",
    "\n",
    "# plot the mean and distribution of quantity sold at each discount level\n",
    "b = sns.boxplot(x=df.Discount, y=df.Quantity, data=df, ax=ax2)\n",
    "b.axes.set_title('Mean and Distribution of Quantity by Discount Rate')\n",
    "\n",
    "plt.show()"
   ]
  },
  {
   "cell_type": "markdown",
   "metadata": {},
   "source": [
    "**Observations:**\n",
    "* Average quantity sold at many discount levels appear to be above the average quantity with no discount\n",
    "* However the there do appear to be a number of outliers with larger quantities sold with no discount in the 0.0 discount category\n",
    "* A number of the discount levels appear to have a too few examples to analyze them individually, we'll note that for later"
   ]
  },
  {
   "cell_type": "markdown",
   "metadata": {},
   "source": [
    "In order to satisfy the first part of our question _Does discount amount have a statistically significant effect on the quantity of a product in an order?_ - we can break our data into two separate groups, the no-discount group (which will serve as our control), and the discount group, and we'll test to see if these two groups have a statistically significant effect."
   ]
  },
  {
   "cell_type": "code",
   "execution_count": 17,
   "metadata": {},
   "outputs": [],
   "source": [
    "# create two series of data - one which returns quantities where discount is 0.0\n",
    "# and one which returns quantities are not equal to 0.0\n",
    "no_d = np.array(df[df['Discount'] == 0.0]['Quantity'])\n",
    "d = np.array(df[df['Discount'] != 0.0]['Quantity'])"
   ]
  },
  {
   "cell_type": "code",
   "execution_count": 18,
   "metadata": {},
   "outputs": [
    {
     "name": "stdout",
     "output_type": "stream",
     "text": [
      "The size of group1 is: 1317  \t  The size of group2 is 838\n",
      "The mean of group1 is: 21.715261958997722 \t  The mean of group2 is: 27.10978520286396\n",
      "The std of group1 is: 17.500845477669806 \t  The std of group2 is: 20.759042075141373\n"
     ]
    }
   ],
   "source": [
    "# compare the size, mean, and std of both groups\n",
    "compare_2(no_d,d)"
   ]
  },
  {
   "cell_type": "markdown",
   "metadata": {},
   "source": [
    "**Observations:**\n",
    "* The size of the no discount group is almost 500 larger than the discount group\n",
    "* The mean and standard deviation of the discount group is larger than the mean of the no discount group\n",
    "* This means that although the average quantity of discounts in the discount group is bigger, the range may be wider"
   ]
  },
  {
   "cell_type": "markdown",
   "metadata": {},
   "source": [
    "Let's take a look at the distributions of the two groups visually in a distribution plot and compare"
   ]
  },
  {
   "cell_type": "code",
   "execution_count": 22,
   "metadata": {},
   "outputs": [
    {
     "name": "stderr",
     "output_type": "stream",
     "text": [
      "/Users/rab/anaconda3/envs/learn-env/lib/python3.6/site-packages/scipy/stats/stats.py:1713: FutureWarning: Using a non-tuple sequence for multidimensional indexing is deprecated; use `arr[tuple(seq)]` instead of `arr[seq]`. In the future this will be interpreted as an array index, `arr[np.array(seq)]`, which will result either in an error or a different result.\n",
      "  return np.add.reduce(sorted[indexer] * weights, axis=axis) / sumval\n"
     ]
    },
    {
     "data": {
      "image/png": "[encoded data removed]",
      "text/plain": [
       "<Figure size 432x288 with 1 Axes>"
      ]
     },
     "metadata": {
      "needs_background": "light"
     },
     "output_type": "display_data"
    }
   ],
   "source": [
    "# plot two distribution plots together to compare\n",
    "sns.distplot(no_d, label='no discount')\n",
    "sns.distplot(d, label='discount')\n",
    "plt.legend()\n",
    "plt.title('Discount and No-discount Distribution of Quantities')\n",
    "plt.xlabel('Quantity')\n",
    "plt.ylabel('Density');"
   ]
  },
  {
   "cell_type": "markdown",
   "metadata": {},
   "source": [
    "It looks like our data may not be very normally distributed, so we may want to work with it some before doing our hypothesis tests, but at this time we know enough to state our hypotheses. Based on what we've observed, it appears that there might be some positive relationship between discount and quantity sold, but it is hard to tell. Therefore we will state our hypotheses as: \n",
    "\n",
    "**Null Hypothesis (H0): There is no relationship between discount and quantity ordered**\n",
    "\n",
    "**Alternative Hypothesis (Ha): There is a positive relationship between discount and quantity ordered - a discount is likely to result in a larger order**\n",
    "\n",
    "To ensure we have a statistically significant effect we'll go for a 95% level of confidence, and set **alpha to .05**"
   ]
  },
  {
   "cell_type": "code",
   "execution_count": 23,
   "metadata": {},
   "outputs": [],
   "source": [
    "# set alpha\n",
    "alpha=.05"
   ]
  },
  {
   "cell_type": "markdown",
   "metadata": {},
   "source": [
    "In order to accept or reject H0 we will conduct a statistical test to see if the quantities ordered with a discount are statistically significantly greater than our control group of orders, or, orders with no discount. \n",
    "\n",
    "We can test our hypothesis with a one-sided t-test. Both of our groups of data are independent of one another, that is to say that quantity ordered per order in one group should not be affected by quantity ordered in the other. Therefore we will do an independent t-test with. \n",
    "\n",
    "But, first we must check our assumptions of normality for each group to determine if we need to sample. We'll do this with the shapiro-wilke test for normality. "
   ]
  },
  {
   "cell_type": "code",
   "execution_count": 24,
   "metadata": {},
   "outputs": [
    {
     "name": "stdout",
     "output_type": "stream",
     "text": [
      "p = 6.88120409395894e-26 \t Therefore the data is not normal\n",
      "p = 3.803856556577728e-34 \t Therefore the data is not normal\n"
     ]
    },
    {
     "data": {
      "text/plain": [
       "False"
      ]
     },
     "execution_count": 24,
     "metadata": {},
     "output_type": "execute_result"
    }
   ],
   "source": [
    "# run the shapiro-wilkes test on both sets of data\n",
    "test_normality(d)\n",
    "test_normality(no_d)"
   ]
  },
  {
   "cell_type": "markdown",
   "metadata": {},
   "source": [
    "It looks like our data are not normally distributed. We'll need to sample from them to see if we can arrive at a more normal distribution to run our tests on. Let's draw those samples and test for normality again. \n",
    "\n",
    "We will be using the bootstrap method of sampling. Bootstrapping is a type of resampling where large numbers of smaller samples of the same size are repeatedly drawn, with replacement, from a single original sample.\n",
    "\n",
    "The function we've developed to do this will pull a random selection of 30 values from the original series, with replacement, find a mean, and append that mean to our list of samples. The function with do this as many times as it is told do, but the default is 30. "
   ]
  },
  {
   "cell_type": "code",
   "execution_count": 25,
   "metadata": {},
   "outputs": [
    {
     "name": "stdout",
     "output_type": "stream",
     "text": [
      "p = 0.6408089399337769 \t Therefore the data is normal\n",
      "p = 0.2473510354757309 \t Therefore the data is normal\n"
     ]
    },
    {
     "data": {
      "text/plain": [
       "True"
      ]
     },
     "execution_count": 25,
     "metadata": {},
     "output_type": "execute_result"
    }
   ],
   "source": [
    "# draw a random sample and create 30 means from our series of data\n",
    "no_discount_sample = random_sample(no_d)\n",
    "discount_sample = random_sample(d)\n",
    "\n",
    "# run the shapiro-wilks test for normality on both lists\n",
    "test_normality(no_discount_sample)\n",
    "test_normality(discount_sample)"
   ]
  },
  {
   "cell_type": "markdown",
   "metadata": {},
   "source": [
    "Awesome, it looks like the Central Limit Theorem wins again! By drawing a series of random samples and obtaining their means we have identified a more normally distributed set of data. We can now move forward and check our variance assumption next, but first let's get a quick visual representation of our data now.   "
   ]
  },
  {
   "cell_type": "code",
   "execution_count": 26,
   "metadata": {},
   "outputs": [
    {
     "name": "stderr",
     "output_type": "stream",
     "text": [
      "/Users/rab/anaconda3/envs/learn-env/lib/python3.6/site-packages/scipy/stats/stats.py:1713: FutureWarning: Using a non-tuple sequence for multidimensional indexing is deprecated; use `arr[tuple(seq)]` instead of `arr[seq]`. In the future this will be interpreted as an array index, `arr[np.array(seq)]`, which will result either in an error or a different result.\n",
      "  return np.add.reduce(sorted[indexer] * weights, axis=axis) / sumval\n"
     ]
    },
    {
     "data": {
      "image/png": "[encoded data removed]",
      "text/plain": [
       "<Figure size 432x288 with 1 Axes>"
      ]
     },
     "metadata": {
      "needs_background": "light"
     },
     "output_type": "display_data"
    }
   ],
   "source": [
    "# plot two distribution plots together to compare\n",
    "sns.distplot(no_discount_sample, label='No Discount Sample')\n",
    "sns.distplot(discount_sample, label='Discount Sample')\n",
    "plt.legend()\n",
    "plt.title('Sample Discount and No-discount Distribution of Quantities')\n",
    "plt.xlabel('Quantity')\n",
    "plt.ylabel('Density');"
   ]
  },
  {
   "cell_type": "markdown",
   "metadata": {},
   "source": [
    "\n",
    "Now let's check to see if we have equal variance among our sample groups, that will determine which type of t-test we should perform. We'll do this using Levene's test for equal variance. "
   ]
  },
  {
   "cell_type": "code",
   "execution_count": 27,
   "metadata": {},
   "outputs": [
    {
     "name": "stdout",
     "output_type": "stream",
     "text": [
      "p = 0.6660090956147875 \t Therefore the data has equal variances\n"
     ]
    },
    {
     "data": {
      "text/plain": [
       "True"
      ]
     },
     "execution_count": 27,
     "metadata": {},
     "output_type": "execute_result"
    }
   ],
   "source": [
    "# test variance between two samples using Levene's test\n",
    "test_variance(no_discount_sample, discount_sample)"
   ]
  },
  {
   "cell_type": "markdown",
   "metadata": {},
   "source": [
    "Our samples have sufficiently equal variance, we'll therefore use the Student's T-Test for two independent samples to compare the two groups. We'll be looking for a p-value of less than .05 if we want to reject our null hypothesis.\n",
    "\n",
    "#### Conduct statistical test"
   ]
  },
  {
   "cell_type": "code",
   "execution_count": 28,
   "metadata": {},
   "outputs": [
    {
     "name": "stdout",
     "output_type": "stream",
     "text": [
      "With a p-value of 5.957026443661653e-07, which is less than 0.05 we can reject the H0 and accept Ha\n"
     ]
    },
    {
     "data": {
      "text/plain": [
       "False"
      ]
     },
     "execution_count": 28,
     "metadata": {},
     "output_type": "execute_result"
    }
   ],
   "source": [
    "# run a independent t-test with equal varance to determine p\n",
    "p = stats.ttest_ind(no_discount_sample, discount_sample, axis=0, equal_var=True)[1]\n",
    "\n",
    "# compare the p-value with alpha\n",
    "check_null_hypothesis(p,alpha=alpha)"
   ]
  },
  {
   "cell_type": "markdown",
   "metadata": {},
   "source": [
    "It appears that for now we can **reject the null hypothesis** and conclude that there is a statistically significant and positive difference between quantities ordered with a discount than without a discount. There is a **very low probability of a type 1 error**, meaning that our results are due to random chance and that there is in fact not a positive effect on order size with a discount. \n",
    "\n",
    "In order to ensure that our results are as accurate as possible we can check the effect and power of our conclusions.\n",
    "\n",
    "#### Check effect size\n",
    "\n",
    "Effect size is used to quantify the size of the difference between two groups under observation. A large effect size, which we would hope to see to support the significance of our conclusions, would be **> .8**"
   ]
  },
  {
   "cell_type": "code",
   "execution_count": 29,
   "metadata": {},
   "outputs": [
    {
     "data": {
      "text/plain": [
       "1.4729681140818658"
      ]
     },
     "execution_count": 29,
     "metadata": {},
     "output_type": "execute_result"
    }
   ],
   "source": [
    "# check effect size with cohen's d\n",
    "discount_effect = cohen_d(no_discount_sample, discount_sample)\n",
    "discount_effect"
   ]
  },
  {
   "cell_type": "markdown",
   "metadata": {},
   "source": [
    "This is a fairly large effect size, reinforcing our conclusion to reject H0. We can use effect size to check the statistical power of our results as well. Here we will be looking for a power larger than .8, which tells us that our number of observations were large enough to draw our conclusions at this level of alpha. \n",
    "\n",
    "#### Check statistical power"
   ]
  },
  {
   "cell_type": "code",
   "execution_count": 31,
   "metadata": {},
   "outputs": [],
   "source": [
    "# set a variable to call TTestIndPower \n",
    "power = TTestIndPower()"
   ]
  },
  {
   "cell_type": "code",
   "execution_count": 32,
   "metadata": {},
   "outputs": [
    {
     "data": {
      "text/plain": [
       "0.9999999941753608"
      ]
     },
     "execution_count": 32,
     "metadata": {},
     "output_type": "execute_result"
    }
   ],
   "source": [
    "# enter our effect size, number of observations, and alpha\n",
    "# and set the solver to 'larger' to determine power level\n",
    "power.solve_power(effect_size=discount_effect, nobs1=len(discount_sample), alpha=alpha, alternative='larger')"
   ]
  },
  {
   "cell_type": "markdown",
   "metadata": {},
   "source": [
    "We have the power! It looks like our sample size is sufficiently big enough to detect an effect given our degree of confidence as set by alpha. \n",
    "\n",
    "With this, we can again **affirm our conclusion to reject H0** and determine **claim that discount amount has a large statistically significant effect on quantity of product ordered.** "
   ]
  },
  {
   "cell_type": "markdown",
   "metadata": {},
   "source": [
    "We can now move on to answering the second part of our question, **which discount rates in fact have and effect on quantities ordered?** First we can check to see if there is a significant difference among rates by conducting an ANOVA analysis. \n",
    "\n",
    "#### Conduct ANOVA\n",
    "\n",
    "An ANOVA will tell us where or not there is a significant difference among values on our target metric. As this is a statistical test we will need hypotheses for this as well: \n",
    "\n",
    "**Null Hypotheses (H0): There is no statistically significant difference between different discount rates and their effect on quantity ordered**\n",
    "\n",
    "**Alternate Hypothesis(Ha): There is a statistically significant difference between the quantities ordered at different discount rates.**"
   ]
  },
  {
   "cell_type": "code",
   "execution_count": 34,
   "metadata": {},
   "outputs": [
    {
     "data": {
      "text/html": [
       "<div>\n",
       "<style scoped>\n",
       "    .dataframe tbody tr th:only-of-type {\n",
       "        vertical-align: middle;\n",
       "    }\n",
       "\n",
       "    .dataframe tbody tr th {\n",
       "        vertical-align: top;\n",
       "    }\n",
       "\n",
       "    .dataframe thead th {\n",
       "        text-align: right;\n",
       "    }\n",
       "</style>\n",
       "<table border=\"1\" class=\"dataframe\">\n",
       "  <thead>\n",
       "    <tr style=\"text-align: right;\">\n",
       "      <th></th>\n",
       "      <th>sum_sq</th>\n",
       "      <th>df</th>\n",
       "      <th>F</th>\n",
       "      <th>PR(&gt;F)</th>\n",
       "    </tr>\n",
       "  </thead>\n",
       "  <tbody>\n",
       "    <tr>\n",
       "      <th>C(Discount)</th>\n",
       "      <td>21258.403604</td>\n",
       "      <td>10.0</td>\n",
       "      <td>6.011811</td>\n",
       "      <td>4.704231e-09</td>\n",
       "    </tr>\n",
       "    <tr>\n",
       "      <th>Residual</th>\n",
       "      <td>758141.232591</td>\n",
       "      <td>2144.0</td>\n",
       "      <td>NaN</td>\n",
       "      <td>NaN</td>\n",
       "    </tr>\n",
       "  </tbody>\n",
       "</table>\n",
       "</div>"
      ],
      "text/plain": [
       "                    sum_sq      df         F        PR(>F)\n",
       "C(Discount)   21258.403604    10.0  6.011811  4.704231e-09\n",
       "Residual     758141.232591  2144.0       NaN           NaN"
      ]
     },
     "execution_count": 34,
     "metadata": {},
     "output_type": "execute_result"
    }
   ],
   "source": [
    "# create formula with a target variable 'Quantity' and comparison variable\n",
    "# 'Discount' is a categorical variable so we will place it in parentheses with 'C'\n",
    "formula = 'Quantity ~ C(Discount)'\n",
    "\n",
    "#fit the formula to a line by passing in the formula and target data \n",
    "lm = ols(formula, df).fit()\n",
    "# create an ANOVA table and observe results\n",
    "table = sm.stats.anova_lm(lm, typ=2)\n",
    "table"
   ]
  },
  {
   "cell_type": "markdown",
   "metadata": {},
   "source": [
    "With a very low p-value (4.7 e-09) we can conclude that there is in fact a difference among discount rates. Let's check the levels of significance for each category of discount. \n",
    "\n",
    "It appears that for now we can **reject H0** and accept the alternate hypotheses that **there is a statistically significant difference between the effects of different discount rates on quantity.**\n",
    "\n",
    "Yet, it is difficult to determine from ANOVA alone which rates then have an effect, or even a significant one. We will require further analysis to answer our question."
   ]
  },
  {
   "cell_type": "code",
   "execution_count": 35,
   "metadata": {},
   "outputs": [
    {
     "data": {
      "text/plain": [
       "Intercept              6.746766e-281\n",
       "C(Discount)[T.0.01]     2.947414e-01\n",
       "C(Discount)[T.0.02]     1.385988e-01\n",
       "C(Discount)[T.0.03]     6.524250e-02\n",
       "C(Discount)[T.0.04]     2.709368e-01\n",
       "C(Discount)[T.0.05]     2.095341e-05\n",
       "C(Discount)[T.0.06]     2.947414e-01\n",
       "C(Discount)[T.0.1]      2.065861e-02\n",
       "C(Discount)[T.0.15]     2.789428e-05\n",
       "C(Discount)[T.0.2]      7.326710e-04\n",
       "C(Discount)[T.0.25]     4.781032e-05\n",
       "dtype: float64"
      ]
     },
     "execution_count": 35,
     "metadata": {},
     "output_type": "execute_result"
    }
   ],
   "source": [
    "# observe p-values for each discount rate\n",
    "lm.pvalues"
   ]
  },
  {
   "cell_type": "markdown",
   "metadata": {},
   "source": [
    "Recalling from our earlier value counts that there were very few observations for rates from 0.01-0.04, and only one for 0.06, we can disregard those as we do not have a large enough sample to determine statistical significance.\n",
    "\n",
    "That leaves us with .05, .1, .15, .2 and .25. each of which appear to have a low enough p-value to suggest further analysis. \n",
    "\n",
    "To do this we will do **post hoc t-tests with the Bonferroni correction** to avoid the multiple comparisons problem. We will sample each group as before and compare them to the control sample (no discount). \n",
    "\n",
    "First, lets establish our new level of alpha by applying Bonferroni. \n",
    "\n",
    "#### Bonferroni Correction "
   ]
  },
  {
   "cell_type": "code",
   "execution_count": 36,
   "metadata": {},
   "outputs": [
    {
     "data": {
      "text/plain": [
       "0.01"
      ]
     },
     "execution_count": 36,
     "metadata": {},
     "output_type": "execute_result"
    }
   ],
   "source": [
    "# set a new level of alpha by applying the Bonferroni correction\n",
    "# enter the number of observations and original level of alpha\n",
    "b_alpha = bonferroni_alpha(obs=5, alpha=alpha)\n",
    "b_alpha"
   ]
  },
  {
   "cell_type": "markdown",
   "metadata": {},
   "source": [
    "**Create samples:** Now we will need to create sample for each of our discount levels and test for normality and variance"
   ]
  },
  {
   "cell_type": "code",
   "execution_count": 37,
   "metadata": {},
   "outputs": [
    {
     "name": "stdout",
     "output_type": "stream",
     "text": [
      "p = 0.4486519396305084 \t Therefore the data is normal\n",
      "5% Discount: True\n",
      "p = 0.4036242476717694 \t Therefore the data has equal variances\n",
      "5% Discount: True\n",
      "\n",
      "p = 0.6951088309288025 \t Therefore the data is normal\n",
      "10% Discount: True\n",
      "p = 0.6389432564127812 \t Therefore the data has equal variances\n",
      "10% Discount: True\n",
      "\n",
      "p = 0.07728512585163116 \t Therefore the data is normal\n",
      "15% Discount: True\n",
      "p = 0.7253289430012282 \t Therefore the data has equal variances\n",
      "15% Discount: True\n",
      "\n",
      "p = 0.8032405376434326 \t Therefore the data is normal\n",
      "20% Discount: True\n",
      "p = 0.6549862269752373 \t Therefore the data has equal variances\n",
      "20% Discount: True\n",
      "\n",
      "p = 0.45204922556877136 \t Therefore the data is normal\n",
      "25% Discount: True\n",
      "p = 0.3588336784877766 \t Therefore the data has equal variances\n",
      "25% Discount: True\n",
      "\n"
     ]
    }
   ],
   "source": [
    "# create a random sample using the bootstrap method for each level of discount\n",
    "five_sample = random_sample(df[df['Discount'] == .05]['Quantity'])\n",
    "ten_sample = random_sample(df[df['Discount'] == .1]['Quantity'])\n",
    "fifteen_sample = random_sample(df[df['Discount'] == .15]['Quantity'])\n",
    "twenty_sample = random_sample(df[df['Discount'] == .2]['Quantity'])\n",
    "twentyfive_sample = random_sample(df[df['Discount'] == .25]['Quantity'])\n",
    "\n",
    "# create a dictionary of samples to iterate through for easier analysis\n",
    "discount_samples = {'5% Discount':five_sample, \n",
    "                    '10% Discount':ten_sample, \n",
    "                    '15% Discount':fifteen_sample, \n",
    "                    '20% Discount':twenty_sample, \n",
    "                    '25% Discount':twentyfive_sample}\n",
    "\n",
    "# test the normality and compare variance for each discount sample and print results\n",
    "for s in discount_samples:\n",
    "    print(f'{s}: {test_normality(discount_samples[s])}')\n",
    "    print(f'{s}: {test_variance(discount_samples[s], no_discount_sample)}\\n')"
   ]
  },
  {
   "cell_type": "markdown",
   "metadata": {},
   "source": [
    "By sampling for each discount level we've satisfied our normality and variance assumptions, now we can conduct t-tests with our new confidence level set by the Bonferroni Correction, and check for effect sizes and power levels as well. \n",
    "\n",
    "#### Conduct statistical tests\n",
    "\n",
    "Our hypotheses for these tests (at each level of discount) will be: \n",
    "\n",
    "**Null Hypothesis (H0): The is no statistically significant effect on quantity ordered with discount rate X**\n",
    "\n",
    "**Alternate Hypothesis (Ha): There is a statistically significant effect on quantity ordered with a discount of rate X** "
   ]
  },
  {
   "cell_type": "code",
   "execution_count": 40,
   "metadata": {},
   "outputs": [
    {
     "name": "stdout",
     "output_type": "stream",
     "text": [
      "With a p-value of 1.5774380789439364e-08, which is less than 0.01 we can reject the H0 and accept Ha\n",
      "5% Discount: False\n",
      "\n",
      "With a p-value of 0.0003767970221806813, which is less than 0.01 we can reject the H0 and accept Ha\n",
      "10% Discount: False\n",
      "\n",
      "With a p-value of 6.694527024007138e-09, which is less than 0.01 we can reject the H0 and accept Ha\n",
      "15% Discount: False\n",
      "\n",
      "With a p-value of 2.6516254076818564e-07, which is less than 0.01 we can reject the H0 and accept Ha\n",
      "20% Discount: False\n",
      "\n",
      "With a p-value of 4.5578149030004946e-11, which is less than 0.01 we can reject the H0 and accept Ha\n",
      "25% Discount: False\n",
      "\n"
     ]
    }
   ],
   "source": [
    "# find p-value and conduct a t-test with two independent samples and equal variance for each sample\n",
    "for s in discount_samples:\n",
    "    p = stats.ttest_ind(no_discount_sample, discount_samples[s], axis=0, equal_var=True)[1]\n",
    "    print(f'{s}: {check_null_hypothesis(p, alpha=b_alpha)}\\n')"
   ]
  },
  {
   "cell_type": "markdown",
   "metadata": {},
   "source": [
    "It appears that accounting for the Bonferroni Correction we still have sufficiently low p-values to allow us to **reject H0** at each level of discount with a **very low probability of type 1 error**, and **accept Ha** and claim that these levels of discount have a **statistically significant effect on quantity**.  \n",
    "\n",
    "We again want to check effect and power to determine the robustness of our results. \n",
    "\n",
    "#### Check effect at each discount level "
   ]
  },
  {
   "cell_type": "code",
   "execution_count": 41,
   "metadata": {},
   "outputs": [
    {
     "data": {
      "text/plain": [
       "{'5% Discount': 1.7237395709466992,\n",
       " '10% Discount': 0.991746268360515,\n",
       " '15% Discount': 1.7821475083676181,\n",
       " '20% Discount': 1.5295152079786414,\n",
       " '25% Discount': 2.1210180812093298}"
      ]
     },
     "execution_count": 41,
     "metadata": {},
     "output_type": "execute_result"
    }
   ],
   "source": [
    "# determine effect size at each for each dicount rate and store in \n",
    "# a dictionary for easy further analysis\n",
    "effect = {}\n",
    "for s in discount_samples:\n",
    "    effect[s] = cohen_d(no_discount_sample,discount_samples[s])\n",
    "effect"
   ]
  },
  {
   "cell_type": "markdown",
   "metadata": {},
   "source": [
    "**Observations:**\n",
    "* Each discount rate has a large effect on quantity ordered\n",
    "* 25% has the largest effect on quantity ordered - these seems intuitive since it is the largest discount\n",
    "* 10% has the smallest effect - this is less intuitive as it is the second smallest discount\n",
    "* There does not appear to be a direct relationship between size of discount and effect on quantity"
   ]
  },
  {
   "cell_type": "markdown",
   "metadata": {},
   "source": [
    "As before, we also want to determine the statistical power of our results to ensure we have observed enough data to strongly support our conclusions\n",
    "\n",
    "#### Check statistical power"
   ]
  },
  {
   "cell_type": "code",
   "execution_count": 42,
   "metadata": {},
   "outputs": [
    {
     "name": "stdout",
     "output_type": "stream",
     "text": [
      "5% Discount: 0.9999526620082115\n",
      "10% Discount: 0.8758495261455246\n",
      "15% Discount: 0.9999812823527752\n",
      "20% Discount: 0.9992501007972792\n",
      "25% Discount: 1.0\n"
     ]
    }
   ],
   "source": [
    "# check power for each effect size\n",
    "for e in effect: \n",
    "    print(f'{e}: {power.solve_power(effect_size=effect[e], nobs1=30, alpha=b_alpha)}')"
   ]
  },
  {
   "cell_type": "markdown",
   "metadata": {},
   "source": [
    "With power levels all **>.8** we have confirmed our observations and **can claim that each discount amount observed has a large statistically significant effect on quantity of product ordered.**"
   ]
  },
  {
   "cell_type": "markdown",
   "metadata": {},
   "source": [
    "### Conclusions for Question 1\n",
    "\n",
    "1. We can safely claim that discounts have a large and positive statistically significant effect on quantity of product ordered, with a very low probability of type 1 error.\n",
    "2. This applies for discounts of 5%, 10%, 15%, 20%, and 25%, each of which have a large statistically significant effect.\n",
    "3. 25% has the largest effect (2.12), and 10% has the smallest effect (.99)"
   ]
  },
  {
   "cell_type": "markdown",
   "metadata": {},
   "source": [
    "## Question 2"
   ]
  },
  {
   "cell_type": "markdown",
   "metadata": {},
   "source": [
    "Now that we know that discount has an effect on quantity ordered, let's start to determine how discount is applied. One important question is to determine if employees apply discounts differently. As a first question, we should determine if employees themselves have an effect on quantity sold. \n",
    "\n",
    "**Research question 2:** Do different employees sell a statistically significantly different quantity of items per order? If so, which ones? "
   ]
  },
  {
   "cell_type": "markdown",
   "metadata": {},
   "source": [
    "#### Gather and inspect data for question 2\n",
    "\n",
    "To determine this we'll combine two tables from our dataset, the 'Order' table and the 'OrderDetail' table, and extract the values we need to make our assessment.\n",
    "\n",
    "Let's get a reminder of what those tables look like. "
   ]
  },
  {
   "cell_type": "code",
   "execution_count": 44,
   "metadata": {},
   "outputs": [
    {
     "data": {
      "text/html": [
       "<div>\n",
       "<style scoped>\n",
       "    .dataframe tbody tr th:only-of-type {\n",
       "        vertical-align: middle;\n",
       "    }\n",
       "\n",
       "    .dataframe tbody tr th {\n",
       "        vertical-align: top;\n",
       "    }\n",
       "\n",
       "    .dataframe thead th {\n",
       "        text-align: right;\n",
       "    }\n",
       "</style>\n",
       "<table border=\"1\" class=\"dataframe\">\n",
       "  <thead>\n",
       "    <tr style=\"text-align: right;\">\n",
       "      <th></th>\n",
       "      <th>Id</th>\n",
       "      <th>OrderId</th>\n",
       "      <th>ProductId</th>\n",
       "      <th>UnitPrice</th>\n",
       "      <th>Quantity</th>\n",
       "      <th>Discount</th>\n",
       "    </tr>\n",
       "  </thead>\n",
       "  <tbody>\n",
       "    <tr>\n",
       "      <th>0</th>\n",
       "      <td>10248/11</td>\n",
       "      <td>10248</td>\n",
       "      <td>11</td>\n",
       "      <td>14.0</td>\n",
       "      <td>12</td>\n",
       "      <td>0.0</td>\n",
       "    </tr>\n",
       "    <tr>\n",
       "      <th>1</th>\n",
       "      <td>10248/42</td>\n",
       "      <td>10248</td>\n",
       "      <td>42</td>\n",
       "      <td>9.8</td>\n",
       "      <td>10</td>\n",
       "      <td>0.0</td>\n",
       "    </tr>\n",
       "    <tr>\n",
       "      <th>2</th>\n",
       "      <td>10248/72</td>\n",
       "      <td>10248</td>\n",
       "      <td>72</td>\n",
       "      <td>34.8</td>\n",
       "      <td>5</td>\n",
       "      <td>0.0</td>\n",
       "    </tr>\n",
       "    <tr>\n",
       "      <th>3</th>\n",
       "      <td>10249/14</td>\n",
       "      <td>10249</td>\n",
       "      <td>14</td>\n",
       "      <td>18.6</td>\n",
       "      <td>9</td>\n",
       "      <td>0.0</td>\n",
       "    </tr>\n",
       "    <tr>\n",
       "      <th>4</th>\n",
       "      <td>10249/51</td>\n",
       "      <td>10249</td>\n",
       "      <td>51</td>\n",
       "      <td>42.4</td>\n",
       "      <td>40</td>\n",
       "      <td>0.0</td>\n",
       "    </tr>\n",
       "  </tbody>\n",
       "</table>\n",
       "</div>"
      ],
      "text/plain": [
       "         Id  OrderId  ProductId  UnitPrice  Quantity  Discount\n",
       "0  10248/11    10248         11       14.0        12       0.0\n",
       "1  10248/42    10248         42        9.8        10       0.0\n",
       "2  10248/72    10248         72       34.8         5       0.0\n",
       "3  10249/14    10249         14       18.6         9       0.0\n",
       "4  10249/51    10249         51       42.4        40       0.0"
      ]
     },
     "execution_count": 44,
     "metadata": {},
     "output_type": "execute_result"
    }
   ],
   "source": [
    "# inspect OrderDetail table\n",
    "OrderDetail.head()"
   ]
  },
  {
   "cell_type": "code",
   "execution_count": 45,
   "metadata": {},
   "outputs": [
    {
     "data": {
      "text/html": [
       "<div>\n",
       "<style scoped>\n",
       "    .dataframe tbody tr th:only-of-type {\n",
       "        vertical-align: middle;\n",
       "    }\n",
       "\n",
       "    .dataframe tbody tr th {\n",
       "        vertical-align: top;\n",
       "    }\n",
       "\n",
       "    .dataframe thead th {\n",
       "        text-align: right;\n",
       "    }\n",
       "</style>\n",
       "<table border=\"1\" class=\"dataframe\">\n",
       "  <thead>\n",
       "    <tr style=\"text-align: right;\">\n",
       "      <th></th>\n",
       "      <th>Id</th>\n",
       "      <th>CustomerId</th>\n",
       "      <th>EmployeeId</th>\n",
       "      <th>OrderDate</th>\n",
       "      <th>RequiredDate</th>\n",
       "      <th>ShippedDate</th>\n",
       "      <th>ShipVia</th>\n",
       "      <th>Freight</th>\n",
       "      <th>ShipName</th>\n",
       "      <th>ShipAddress</th>\n",
       "      <th>ShipCity</th>\n",
       "      <th>ShipRegion</th>\n",
       "      <th>ShipPostalCode</th>\n",
       "      <th>ShipCountry</th>\n",
       "    </tr>\n",
       "  </thead>\n",
       "  <tbody>\n",
       "    <tr>\n",
       "      <th>0</th>\n",
       "      <td>10248</td>\n",
       "      <td>VINET</td>\n",
       "      <td>5</td>\n",
       "      <td>2012-07-04</td>\n",
       "      <td>2012-08-01</td>\n",
       "      <td>2012-07-16</td>\n",
       "      <td>3</td>\n",
       "      <td>32.38</td>\n",
       "      <td>Vins et alcools Chevalier</td>\n",
       "      <td>59 rue de l'Abbaye</td>\n",
       "      <td>Reims</td>\n",
       "      <td>Western Europe</td>\n",
       "      <td>51100</td>\n",
       "      <td>France</td>\n",
       "    </tr>\n",
       "    <tr>\n",
       "      <th>1</th>\n",
       "      <td>10249</td>\n",
       "      <td>TOMSP</td>\n",
       "      <td>6</td>\n",
       "      <td>2012-07-05</td>\n",
       "      <td>2012-08-16</td>\n",
       "      <td>2012-07-10</td>\n",
       "      <td>1</td>\n",
       "      <td>11.61</td>\n",
       "      <td>Toms Spezialitäten</td>\n",
       "      <td>Luisenstr. 48</td>\n",
       "      <td>Münster</td>\n",
       "      <td>Western Europe</td>\n",
       "      <td>44087</td>\n",
       "      <td>Germany</td>\n",
       "    </tr>\n",
       "    <tr>\n",
       "      <th>2</th>\n",
       "      <td>10250</td>\n",
       "      <td>HANAR</td>\n",
       "      <td>4</td>\n",
       "      <td>2012-07-08</td>\n",
       "      <td>2012-08-05</td>\n",
       "      <td>2012-07-12</td>\n",
       "      <td>2</td>\n",
       "      <td>65.83</td>\n",
       "      <td>Hanari Carnes</td>\n",
       "      <td>Rua do Paço, 67</td>\n",
       "      <td>Rio de Janeiro</td>\n",
       "      <td>South America</td>\n",
       "      <td>05454-876</td>\n",
       "      <td>Brazil</td>\n",
       "    </tr>\n",
       "    <tr>\n",
       "      <th>3</th>\n",
       "      <td>10251</td>\n",
       "      <td>VICTE</td>\n",
       "      <td>3</td>\n",
       "      <td>2012-07-08</td>\n",
       "      <td>2012-08-05</td>\n",
       "      <td>2012-07-15</td>\n",
       "      <td>1</td>\n",
       "      <td>41.34</td>\n",
       "      <td>Victuailles en stock</td>\n",
       "      <td>2, rue du Commerce</td>\n",
       "      <td>Lyon</td>\n",
       "      <td>Western Europe</td>\n",
       "      <td>69004</td>\n",
       "      <td>France</td>\n",
       "    </tr>\n",
       "    <tr>\n",
       "      <th>4</th>\n",
       "      <td>10252</td>\n",
       "      <td>SUPRD</td>\n",
       "      <td>4</td>\n",
       "      <td>2012-07-09</td>\n",
       "      <td>2012-08-06</td>\n",
       "      <td>2012-07-11</td>\n",
       "      <td>2</td>\n",
       "      <td>51.30</td>\n",
       "      <td>Suprêmes délices</td>\n",
       "      <td>Boulevard Tirou, 255</td>\n",
       "      <td>Charleroi</td>\n",
       "      <td>Western Europe</td>\n",
       "      <td>B-6000</td>\n",
       "      <td>Belgium</td>\n",
       "    </tr>\n",
       "  </tbody>\n",
       "</table>\n",
       "</div>"
      ],
      "text/plain": [
       "      Id CustomerId  EmployeeId   OrderDate RequiredDate ShippedDate  ShipVia  \\\n",
       "0  10248      VINET           5  2012-07-04   2012-08-01  2012-07-16        3   \n",
       "1  10249      TOMSP           6  2012-07-05   2012-08-16  2012-07-10        1   \n",
       "2  10250      HANAR           4  2012-07-08   2012-08-05  2012-07-12        2   \n",
       "3  10251      VICTE           3  2012-07-08   2012-08-05  2012-07-15        1   \n",
       "4  10252      SUPRD           4  2012-07-09   2012-08-06  2012-07-11        2   \n",
       "\n",
       "   Freight                   ShipName           ShipAddress        ShipCity  \\\n",
       "0    32.38  Vins et alcools Chevalier    59 rue de l'Abbaye           Reims   \n",
       "1    11.61         Toms Spezialitäten         Luisenstr. 48         Münster   \n",
       "2    65.83              Hanari Carnes       Rua do Paço, 67  Rio de Janeiro   \n",
       "3    41.34       Victuailles en stock    2, rue du Commerce            Lyon   \n",
       "4    51.30           Suprêmes délices  Boulevard Tirou, 255       Charleroi   \n",
       "\n",
       "       ShipRegion ShipPostalCode ShipCountry  \n",
       "0  Western Europe          51100      France  \n",
       "1  Western Europe          44087     Germany  \n",
       "2   South America      05454-876      Brazil  \n",
       "3  Western Europe          69004      France  \n",
       "4  Western Europe         B-6000     Belgium  "
      ]
     },
     "execution_count": 45,
     "metadata": {},
     "output_type": "execute_result"
    }
   ],
   "source": [
    "# inspect Order table\n",
    "Order.head()"
   ]
  },
  {
   "cell_type": "markdown",
   "metadata": {},
   "source": [
    "We can see that 'OrderId' and 'Id' have the same values, so we can join the 'EmployeeId' information from 'Order' to our 'OrderDetail' table so we know which employee made which sale. \n",
    "\n",
    "Although all we really need is the discount information at this point, we'll keep all the values from the combined table for now in case we want to do further analysis on those later. "
   ]
  },
  {
   "cell_type": "code",
   "execution_count": 51,
   "metadata": {},
   "outputs": [
    {
     "data": {
      "text/html": [
       "<div>\n",
       "<style scoped>\n",
       "    .dataframe tbody tr th:only-of-type {\n",
       "        vertical-align: middle;\n",
       "    }\n",
       "\n",
       "    .dataframe tbody tr th {\n",
       "        vertical-align: top;\n",
       "    }\n",
       "\n",
       "    .dataframe thead th {\n",
       "        text-align: right;\n",
       "    }\n",
       "</style>\n",
       "<table border=\"1\" class=\"dataframe\">\n",
       "  <thead>\n",
       "    <tr style=\"text-align: right;\">\n",
       "      <th></th>\n",
       "      <th>Id</th>\n",
       "      <th>EmployeeId</th>\n",
       "    </tr>\n",
       "  </thead>\n",
       "  <tbody>\n",
       "    <tr>\n",
       "      <th>0</th>\n",
       "      <td>10248</td>\n",
       "      <td>5</td>\n",
       "    </tr>\n",
       "    <tr>\n",
       "      <th>1</th>\n",
       "      <td>10249</td>\n",
       "      <td>6</td>\n",
       "    </tr>\n",
       "    <tr>\n",
       "      <th>2</th>\n",
       "      <td>10250</td>\n",
       "      <td>4</td>\n",
       "    </tr>\n",
       "    <tr>\n",
       "      <th>3</th>\n",
       "      <td>10251</td>\n",
       "      <td>3</td>\n",
       "    </tr>\n",
       "    <tr>\n",
       "      <th>4</th>\n",
       "      <td>10252</td>\n",
       "      <td>4</td>\n",
       "    </tr>\n",
       "  </tbody>\n",
       "</table>\n",
       "</div>"
      ],
      "text/plain": [
       "      Id  EmployeeId\n",
       "0  10248           5\n",
       "1  10249           6\n",
       "2  10250           4\n",
       "3  10251           3\n",
       "4  10252           4"
      ]
     },
     "execution_count": 51,
     "metadata": {},
     "output_type": "execute_result"
    }
   ],
   "source": [
    "# query the database and create a pandas dataframe with only the values we need from 'Order'\n",
    "cur.execute(\"\"\"SELECT Id, EmployeeId\n",
    "               FROM 'Order' \"\"\")\n",
    "\n",
    "Order2 = pd.DataFrame(cur.fetchall())\n",
    "Order2.columns = [x[0] for x in cur.description]\n",
    "\n",
    "Order2.head()"
   ]
  },
  {
   "cell_type": "code",
   "execution_count": 52,
   "metadata": {},
   "outputs": [
    {
     "data": {
      "text/html": [
       "<div>\n",
       "<style scoped>\n",
       "    .dataframe tbody tr th:only-of-type {\n",
       "        vertical-align: middle;\n",
       "    }\n",
       "\n",
       "    .dataframe tbody tr th {\n",
       "        vertical-align: top;\n",
       "    }\n",
       "\n",
       "    .dataframe thead th {\n",
       "        text-align: right;\n",
       "    }\n",
       "</style>\n",
       "<table border=\"1\" class=\"dataframe\">\n",
       "  <thead>\n",
       "    <tr style=\"text-align: right;\">\n",
       "      <th></th>\n",
       "      <th>Id_x</th>\n",
       "      <th>OrderId</th>\n",
       "      <th>ProductId</th>\n",
       "      <th>UnitPrice</th>\n",
       "      <th>Quantity</th>\n",
       "      <th>Discount</th>\n",
       "      <th>Id_y</th>\n",
       "      <th>EmployeeId</th>\n",
       "    </tr>\n",
       "  </thead>\n",
       "  <tbody>\n",
       "    <tr>\n",
       "      <th>0</th>\n",
       "      <td>10248/11</td>\n",
       "      <td>10248</td>\n",
       "      <td>11</td>\n",
       "      <td>14.0</td>\n",
       "      <td>12</td>\n",
       "      <td>0.0</td>\n",
       "      <td>10248</td>\n",
       "      <td>5</td>\n",
       "    </tr>\n",
       "    <tr>\n",
       "      <th>1</th>\n",
       "      <td>10248/42</td>\n",
       "      <td>10248</td>\n",
       "      <td>42</td>\n",
       "      <td>9.8</td>\n",
       "      <td>10</td>\n",
       "      <td>0.0</td>\n",
       "      <td>10248</td>\n",
       "      <td>5</td>\n",
       "    </tr>\n",
       "    <tr>\n",
       "      <th>2</th>\n",
       "      <td>10248/72</td>\n",
       "      <td>10248</td>\n",
       "      <td>72</td>\n",
       "      <td>34.8</td>\n",
       "      <td>5</td>\n",
       "      <td>0.0</td>\n",
       "      <td>10248</td>\n",
       "      <td>5</td>\n",
       "    </tr>\n",
       "    <tr>\n",
       "      <th>3</th>\n",
       "      <td>10249/14</td>\n",
       "      <td>10249</td>\n",
       "      <td>14</td>\n",
       "      <td>18.6</td>\n",
       "      <td>9</td>\n",
       "      <td>0.0</td>\n",
       "      <td>10249</td>\n",
       "      <td>6</td>\n",
       "    </tr>\n",
       "    <tr>\n",
       "      <th>4</th>\n",
       "      <td>10249/51</td>\n",
       "      <td>10249</td>\n",
       "      <td>51</td>\n",
       "      <td>42.4</td>\n",
       "      <td>40</td>\n",
       "      <td>0.0</td>\n",
       "      <td>10249</td>\n",
       "      <td>6</td>\n",
       "    </tr>\n",
       "  </tbody>\n",
       "</table>\n",
       "</div>"
      ],
      "text/plain": [
       "       Id_x  OrderId  ProductId  UnitPrice  Quantity  Discount   Id_y  \\\n",
       "0  10248/11    10248         11       14.0        12       0.0  10248   \n",
       "1  10248/42    10248         42        9.8        10       0.0  10248   \n",
       "2  10248/72    10248         72       34.8         5       0.0  10248   \n",
       "3  10249/14    10249         14       18.6         9       0.0  10249   \n",
       "4  10249/51    10249         51       42.4        40       0.0  10249   \n",
       "\n",
       "   EmployeeId  \n",
       "0           5  \n",
       "1           5  \n",
       "2           5  \n",
       "3           6  \n",
       "4           6  "
      ]
     },
     "metadata": {},
     "output_type": "display_data"
    },
    {
     "name": "stdout",
     "output_type": "stream",
     "text": [
      "<class 'pandas.core.frame.DataFrame'>\n",
      "Int64Index: 2155 entries, 0 to 2154\n",
      "Data columns (total 8 columns):\n",
      "Id_x          2155 non-null object\n",
      "OrderId       2155 non-null int64\n",
      "ProductId     2155 non-null int64\n",
      "UnitPrice     2155 non-null float64\n",
      "Quantity      2155 non-null int64\n",
      "Discount      2155 non-null float64\n",
      "Id_y          2155 non-null int64\n",
      "EmployeeId    2155 non-null int64\n",
      "dtypes: float64(2), int64(5), object(1)\n",
      "memory usage: 151.5+ KB\n"
     ]
    },
    {
     "data": {
      "text/plain": [
       "None"
      ]
     },
     "metadata": {},
     "output_type": "display_data"
    },
    {
     "data": {
      "text/html": [
       "<div>\n",
       "<style scoped>\n",
       "    .dataframe tbody tr th:only-of-type {\n",
       "        vertical-align: middle;\n",
       "    }\n",
       "\n",
       "    .dataframe tbody tr th {\n",
       "        vertical-align: top;\n",
       "    }\n",
       "\n",
       "    .dataframe thead th {\n",
       "        text-align: right;\n",
       "    }\n",
       "</style>\n",
       "<table border=\"1\" class=\"dataframe\">\n",
       "  <thead>\n",
       "    <tr style=\"text-align: right;\">\n",
       "      <th></th>\n",
       "      <th>OrderId</th>\n",
       "      <th>ProductId</th>\n",
       "      <th>UnitPrice</th>\n",
       "      <th>Quantity</th>\n",
       "      <th>Discount</th>\n",
       "      <th>Id_y</th>\n",
       "      <th>EmployeeId</th>\n",
       "    </tr>\n",
       "  </thead>\n",
       "  <tbody>\n",
       "    <tr>\n",
       "      <th>count</th>\n",
       "      <td>2155.000000</td>\n",
       "      <td>2155.000000</td>\n",
       "      <td>2155.000000</td>\n",
       "      <td>2155.000000</td>\n",
       "      <td>2155.000000</td>\n",
       "      <td>2155.000000</td>\n",
       "      <td>2155.000000</td>\n",
       "    </tr>\n",
       "    <tr>\n",
       "      <th>mean</th>\n",
       "      <td>10659.375870</td>\n",
       "      <td>40.793039</td>\n",
       "      <td>26.218520</td>\n",
       "      <td>23.812993</td>\n",
       "      <td>0.056167</td>\n",
       "      <td>10659.375870</td>\n",
       "      <td>4.333179</td>\n",
       "    </tr>\n",
       "    <tr>\n",
       "      <th>std</th>\n",
       "      <td>241.378032</td>\n",
       "      <td>22.159019</td>\n",
       "      <td>29.827418</td>\n",
       "      <td>19.022047</td>\n",
       "      <td>0.083450</td>\n",
       "      <td>241.378032</td>\n",
       "      <td>2.490351</td>\n",
       "    </tr>\n",
       "    <tr>\n",
       "      <th>min</th>\n",
       "      <td>10248.000000</td>\n",
       "      <td>1.000000</td>\n",
       "      <td>2.000000</td>\n",
       "      <td>1.000000</td>\n",
       "      <td>0.000000</td>\n",
       "      <td>10248.000000</td>\n",
       "      <td>1.000000</td>\n",
       "    </tr>\n",
       "    <tr>\n",
       "      <th>25%</th>\n",
       "      <td>10451.000000</td>\n",
       "      <td>22.000000</td>\n",
       "      <td>12.000000</td>\n",
       "      <td>10.000000</td>\n",
       "      <td>0.000000</td>\n",
       "      <td>10451.000000</td>\n",
       "      <td>2.000000</td>\n",
       "    </tr>\n",
       "    <tr>\n",
       "      <th>50%</th>\n",
       "      <td>10657.000000</td>\n",
       "      <td>41.000000</td>\n",
       "      <td>18.400000</td>\n",
       "      <td>20.000000</td>\n",
       "      <td>0.000000</td>\n",
       "      <td>10657.000000</td>\n",
       "      <td>4.000000</td>\n",
       "    </tr>\n",
       "    <tr>\n",
       "      <th>75%</th>\n",
       "      <td>10862.500000</td>\n",
       "      <td>60.000000</td>\n",
       "      <td>32.000000</td>\n",
       "      <td>30.000000</td>\n",
       "      <td>0.100000</td>\n",
       "      <td>10862.500000</td>\n",
       "      <td>7.000000</td>\n",
       "    </tr>\n",
       "    <tr>\n",
       "      <th>max</th>\n",
       "      <td>11077.000000</td>\n",
       "      <td>77.000000</td>\n",
       "      <td>263.500000</td>\n",
       "      <td>130.000000</td>\n",
       "      <td>0.250000</td>\n",
       "      <td>11077.000000</td>\n",
       "      <td>9.000000</td>\n",
       "    </tr>\n",
       "  </tbody>\n",
       "</table>\n",
       "</div>"
      ],
      "text/plain": [
       "            OrderId    ProductId    UnitPrice     Quantity     Discount  \\\n",
       "count   2155.000000  2155.000000  2155.000000  2155.000000  2155.000000   \n",
       "mean   10659.375870    40.793039    26.218520    23.812993     0.056167   \n",
       "std      241.378032    22.159019    29.827418    19.022047     0.083450   \n",
       "min    10248.000000     1.000000     2.000000     1.000000     0.000000   \n",
       "25%    10451.000000    22.000000    12.000000    10.000000     0.000000   \n",
       "50%    10657.000000    41.000000    18.400000    20.000000     0.000000   \n",
       "75%    10862.500000    60.000000    32.000000    30.000000     0.100000   \n",
       "max    11077.000000    77.000000   263.500000   130.000000     0.250000   \n",
       "\n",
       "               Id_y   EmployeeId  \n",
       "count   2155.000000  2155.000000  \n",
       "mean   10659.375870     4.333179  \n",
       "std      241.378032     2.490351  \n",
       "min    10248.000000     1.000000  \n",
       "25%    10451.000000     2.000000  \n",
       "50%    10657.000000     4.000000  \n",
       "75%    10862.500000     7.000000  \n",
       "max    11077.000000     9.000000  "
      ]
     },
     "metadata": {},
     "output_type": "display_data"
    }
   ],
   "source": [
    "# join the OrderDetail and Order2 table on 'OrderId'\n",
    "df2 = pd.merge(OrderDetail, Order2, left_on='OrderId', right_on='Id', how='left')\n",
    "\n",
    "# take a more detailed look at the joined tables\n",
    "inspect_dataframe(df2)"
   ]
  },
  {
   "cell_type": "markdown",
   "metadata": {},
   "source": [
    "**Observations:** We are still working with 2155 unique combinations of 'OrderId' and 'ProductId', of which there are no null values. Quantity does seem to have a few high outliers, but the mean and median are fairly close so we can leave them for now and come back to them if we see problematic skewness later. \n",
    "\n",
    "There is one unnecessary column we can drop, 'Id_y', as it is redundant with OrderId"
   ]
  },
  {
   "cell_type": "code",
   "execution_count": 58,
   "metadata": {},
   "outputs": [
    {
     "data": {
      "text/html": [
       "<div>\n",
       "<style scoped>\n",
       "    .dataframe tbody tr th:only-of-type {\n",
       "        vertical-align: middle;\n",
       "    }\n",
       "\n",
       "    .dataframe tbody tr th {\n",
       "        vertical-align: top;\n",
       "    }\n",
       "\n",
       "    .dataframe thead th {\n",
       "        text-align: right;\n",
       "    }\n",
       "</style>\n",
       "<table border=\"1\" class=\"dataframe\">\n",
       "  <thead>\n",
       "    <tr style=\"text-align: right;\">\n",
       "      <th></th>\n",
       "      <th>Id_x</th>\n",
       "      <th>OrderId</th>\n",
       "      <th>ProductId</th>\n",
       "      <th>UnitPrice</th>\n",
       "      <th>Quantity</th>\n",
       "      <th>Discount</th>\n",
       "      <th>EmployeeId</th>\n",
       "    </tr>\n",
       "  </thead>\n",
       "  <tbody>\n",
       "    <tr>\n",
       "      <th>0</th>\n",
       "      <td>10248/11</td>\n",
       "      <td>10248</td>\n",
       "      <td>11</td>\n",
       "      <td>14.0</td>\n",
       "      <td>12</td>\n",
       "      <td>0.0</td>\n",
       "      <td>5</td>\n",
       "    </tr>\n",
       "    <tr>\n",
       "      <th>1</th>\n",
       "      <td>10248/42</td>\n",
       "      <td>10248</td>\n",
       "      <td>42</td>\n",
       "      <td>9.8</td>\n",
       "      <td>10</td>\n",
       "      <td>0.0</td>\n",
       "      <td>5</td>\n",
       "    </tr>\n",
       "  </tbody>\n",
       "</table>\n",
       "</div>"
      ],
      "text/plain": [
       "       Id_x  OrderId  ProductId  UnitPrice  Quantity  Discount  EmployeeId\n",
       "0  10248/11    10248         11       14.0        12       0.0           5\n",
       "1  10248/42    10248         42        9.8        10       0.0           5"
      ]
     },
     "execution_count": 58,
     "metadata": {},
     "output_type": "execute_result"
    }
   ],
   "source": [
    "# drop 'Id_y'\n",
    "df2 = df2.drop(columns=['Id_y'])\n",
    "df2.head(2)"
   ]
  },
  {
   "cell_type": "markdown",
   "metadata": {},
   "source": [
    "Let's also get a rough idea of what our employee sales look like. We can make a pivot table to see how many sales they have made, the total quantity of items sold, and the average quantity per order. "
   ]
  },
  {
   "cell_type": "code",
   "execution_count": 59,
   "metadata": {},
   "outputs": [
    {
     "data": {
      "text/html": [
       "<div>\n",
       "<style scoped>\n",
       "    .dataframe tbody tr th:only-of-type {\n",
       "        vertical-align: middle;\n",
       "    }\n",
       "\n",
       "    .dataframe tbody tr th {\n",
       "        vertical-align: top;\n",
       "    }\n",
       "\n",
       "    .dataframe thead tr th {\n",
       "        text-align: left;\n",
       "    }\n",
       "\n",
       "    .dataframe thead tr:last-of-type th {\n",
       "        text-align: right;\n",
       "    }\n",
       "</style>\n",
       "<table border=\"1\" class=\"dataframe\">\n",
       "  <thead>\n",
       "    <tr>\n",
       "      <th></th>\n",
       "      <th>count_nonzero</th>\n",
       "      <th>sum</th>\n",
       "      <th>mean</th>\n",
       "      <th>std</th>\n",
       "    </tr>\n",
       "    <tr>\n",
       "      <th></th>\n",
       "      <th>Quantity</th>\n",
       "      <th>Quantity</th>\n",
       "      <th>Quantity</th>\n",
       "      <th>Quantity</th>\n",
       "    </tr>\n",
       "    <tr>\n",
       "      <th>EmployeeId</th>\n",
       "      <th></th>\n",
       "      <th></th>\n",
       "      <th></th>\n",
       "      <th></th>\n",
       "    </tr>\n",
       "  </thead>\n",
       "  <tbody>\n",
       "    <tr>\n",
       "      <th>1</th>\n",
       "      <td>345</td>\n",
       "      <td>7812</td>\n",
       "      <td>22.643478</td>\n",
       "      <td>19.658357</td>\n",
       "    </tr>\n",
       "    <tr>\n",
       "      <th>2</th>\n",
       "      <td>241</td>\n",
       "      <td>6055</td>\n",
       "      <td>25.124481</td>\n",
       "      <td>21.164068</td>\n",
       "    </tr>\n",
       "    <tr>\n",
       "      <th>3</th>\n",
       "      <td>321</td>\n",
       "      <td>7852</td>\n",
       "      <td>24.461059</td>\n",
       "      <td>18.396651</td>\n",
       "    </tr>\n",
       "    <tr>\n",
       "      <th>4</th>\n",
       "      <td>420</td>\n",
       "      <td>9798</td>\n",
       "      <td>23.328571</td>\n",
       "      <td>18.105542</td>\n",
       "    </tr>\n",
       "    <tr>\n",
       "      <th>5</th>\n",
       "      <td>117</td>\n",
       "      <td>3036</td>\n",
       "      <td>25.948718</td>\n",
       "      <td>20.755907</td>\n",
       "    </tr>\n",
       "    <tr>\n",
       "      <th>6</th>\n",
       "      <td>168</td>\n",
       "      <td>3527</td>\n",
       "      <td>20.994048</td>\n",
       "      <td>16.694686</td>\n",
       "    </tr>\n",
       "    <tr>\n",
       "      <th>7</th>\n",
       "      <td>176</td>\n",
       "      <td>4654</td>\n",
       "      <td>26.443182</td>\n",
       "      <td>21.185093</td>\n",
       "    </tr>\n",
       "    <tr>\n",
       "      <th>8</th>\n",
       "      <td>260</td>\n",
       "      <td>5913</td>\n",
       "      <td>22.742308</td>\n",
       "      <td>17.480462</td>\n",
       "    </tr>\n",
       "    <tr>\n",
       "      <th>9</th>\n",
       "      <td>107</td>\n",
       "      <td>2670</td>\n",
       "      <td>24.953271</td>\n",
       "      <td>18.031096</td>\n",
       "    </tr>\n",
       "  </tbody>\n",
       "</table>\n",
       "</div>"
      ],
      "text/plain": [
       "           count_nonzero      sum       mean        std\n",
       "                Quantity Quantity   Quantity   Quantity\n",
       "EmployeeId                                             \n",
       "1                    345     7812  22.643478  19.658357\n",
       "2                    241     6055  25.124481  21.164068\n",
       "3                    321     7852  24.461059  18.396651\n",
       "4                    420     9798  23.328571  18.105542\n",
       "5                    117     3036  25.948718  20.755907\n",
       "6                    168     3527  20.994048  16.694686\n",
       "7                    176     4654  26.443182  21.185093\n",
       "8                    260     5913  22.742308  17.480462\n",
       "9                    107     2670  24.953271  18.031096"
      ]
     },
     "execution_count": 59,
     "metadata": {},
     "output_type": "execute_result"
    }
   ],
   "source": [
    "# create a pivot table with Employee as index and count, sum, mean, and std of Quantity as values\n",
    "df2_pivot = pd.pivot_table(df2, values='Quantity', \n",
    "                           index= 'EmployeeId', \n",
    "                           aggfunc= [np.count_nonzero, np.sum, np.mean, np.std])\n",
    "df2_pivot"
   ]
  },
  {
   "cell_type": "markdown",
   "metadata": {},
   "source": [
    "We can check quickly to make sure that we have all of our rows accounted for (and not over counted) by summing the count column. "
   ]
  },
  {
   "cell_type": "code",
   "execution_count": 60,
   "metadata": {},
   "outputs": [
    {
     "data": {
      "text/plain": [
       "2155"
      ]
     },
     "execution_count": 60,
     "metadata": {},
     "output_type": "execute_result"
    }
   ],
   "source": [
    "# sum the count values from the pivot table\n",
    "df2_pivot['count_nonzero']['Quantity'].sum()"
   ]
  },
  {
   "cell_type": "markdown",
   "metadata": {},
   "source": [
    "Looks like we're in good shape, all rows are accounted for.\n",
    "**Other observations:**\n",
    "* There appears to be some variance in number of sales made by each employee, which also effect total quantity sold\n",
    "* Although some employees have made many more sales than others, the average quantity sold appears fairly equal\n",
    "\n",
    "Let's see how it looks visually"
   ]
  },
  {
   "cell_type": "code",
   "execution_count": 61,
   "metadata": {},
   "outputs": [
    {
     "data": {
      "image/png": "[encoded data removed]",
      "text/plain": [
       "<Figure size 1080x360 with 3 Axes>"
      ]
     },
     "metadata": {
      "needs_background": "light"
     },
     "output_type": "display_data"
    }
   ],
   "source": [
    "# set up plot are for three graphics\n",
    "plt.figure(figsize=(15,5))\n",
    "ax1 = plt.subplot(1,3,1)\n",
    "ax2 = plt.subplot(1,3,2)\n",
    "ax3 = plt.subplot(1,3,3)\n",
    "\n",
    "# create a bar plot of total quantity sold by employee in axis 1 \n",
    "a = sns.barplot(x=df2_pivot.index, y=df2_pivot['sum']['Quantity'], ax=ax1)\n",
    "a.axes.set_title('Total Quantity Sold by Employee')\n",
    "\n",
    "# create a count plot of total number of orders per employee in axis 2\n",
    "b = sns.countplot(x='EmployeeId', data=df2, ax=ax2)\n",
    "b.axes.set_title('Count of Orders per Employee')\n",
    "\n",
    "# crate a bar plot of the average quantity sold per employee in axis 3\n",
    "c = sns.barplot(x=df2_pivot.index, y=df2_pivot['mean']['Quantity'], ax=ax3)\n",
    "c.axes.set_title('Avg Quantity per Order by Employee');"
   ]
  },
  {
   "cell_type": "markdown",
   "metadata": {},
   "source": [
    "**Observations:** \n",
    "* Very interestingly total quantity ordered and number of orders are very similar\n",
    "* In naturally follows that that average order size is very similar as well \n",
    "\n",
    "#### Statistical test\n",
    "\n",
    "To check and see if there is a statistically significant amount of variability between quantity per order per employee we can do an ANOVA test. For this test:\n",
    "1. Our **null hypothesis (H0)** will be that there is no difference is order sizes for each employee\n",
    "2. Our **alternative hypothesis (Ha)** will then be that there is some variance in quantity ordered per employee per order\n",
    "3. We will look for a p-value that gives us a 95% confidence level of avoiding a type 1 error, and therefor set **alpha to .05**"
   ]
  },
  {
   "cell_type": "code",
   "execution_count": 62,
   "metadata": {},
   "outputs": [
    {
     "data": {
      "text/html": [
       "<div>\n",
       "<style scoped>\n",
       "    .dataframe tbody tr th:only-of-type {\n",
       "        vertical-align: middle;\n",
       "    }\n",
       "\n",
       "    .dataframe tbody tr th {\n",
       "        vertical-align: top;\n",
       "    }\n",
       "\n",
       "    .dataframe thead th {\n",
       "        text-align: right;\n",
       "    }\n",
       "</style>\n",
       "<table border=\"1\" class=\"dataframe\">\n",
       "  <thead>\n",
       "    <tr style=\"text-align: right;\">\n",
       "      <th></th>\n",
       "      <th>sum_sq</th>\n",
       "      <th>df</th>\n",
       "      <th>F</th>\n",
       "      <th>PR(&gt;F)</th>\n",
       "    </tr>\n",
       "  </thead>\n",
       "  <tbody>\n",
       "    <tr>\n",
       "      <th>C(EmployeeId)</th>\n",
       "      <td>4643.183282</td>\n",
       "      <td>8.0</td>\n",
       "      <td>1.607646</td>\n",
       "      <td>0.11745</td>\n",
       "    </tr>\n",
       "    <tr>\n",
       "      <th>Residual</th>\n",
       "      <td>774756.452913</td>\n",
       "      <td>2146.0</td>\n",
       "      <td>NaN</td>\n",
       "      <td>NaN</td>\n",
       "    </tr>\n",
       "  </tbody>\n",
       "</table>\n",
       "</div>"
      ],
      "text/plain": [
       "                      sum_sq      df         F   PR(>F)\n",
       "C(EmployeeId)    4643.183282     8.0  1.607646  0.11745\n",
       "Residual       774756.452913  2146.0       NaN      NaN"
      ]
     },
     "execution_count": 62,
     "metadata": {},
     "output_type": "execute_result"
    }
   ],
   "source": [
    "# create formula with a target variable 'Quantity' and comparison variable\n",
    "# 'EmployeeId' is a categorical variable so we will place it in parentheses with 'C'\n",
    "formula = 'Quantity ~ C(EmployeeId)'\n",
    "\n",
    "# fit the formula to a line using ordinary least squares and pass in the df2 data\n",
    "lm = ols(formula, df2).fit()\n",
    "\n",
    "# create an ANOVA table and observe\n",
    "table = sm.stats.anova_lm(lm, typ=2)\n",
    "table"
   ]
  },
  {
   "cell_type": "markdown",
   "metadata": {},
   "source": [
    "**Question 2 Conclusion:** With a p-value above our level of alpha (0.117 > .05) we **fail to reject** the null hypothesis. We cannot conclude at this time that any employee sells a statistically significantly different quantity of items per sale. "
   ]
  },
  {
   "cell_type": "markdown",
   "metadata": {},
   "source": [
    "**Next Steps:** We now know from question 1 that discounts do tend to result in a larger quantity sold per order with significant effect, and we now know that while some employees do sell a much larger overall quantity, they all sell about the same quantity per order itself. \n",
    "\n",
    "A question that follows is: \"Why do some employees sell more than others?\" \n",
    "\n",
    "One hypothesis is that some employees may be more likely to use a discount than others. We'll explore that in our next question. "
   ]
  },
  {
   "cell_type": "markdown",
   "metadata": {},
   "source": [
    "## Question 3 "
   ]
  },
  {
   "cell_type": "markdown",
   "metadata": {},
   "source": [
    "**Research question 3:** Do different employees use discounts at a rate that is statistically significantly different than the overall average rate of discount use? If so, which employees are more likely to employ a discount? Do those employees sell a larger overall quantity? \n",
    "\n",
    "\n",
    "#### Test employee discount use (ANOVA)\n",
    "To start, let's do a quick ANOVA just to see if different employees have different relationships with the 'Discount' variable. For this test our hypotheses will be: \n",
    "\n",
    "**Null Hypothesis (H0): There is no significant difference in the relationship between discount and employee**\n",
    "\n",
    "**Alternative Hypothesis (Ha): The is some statistically significant difference in the relationship between different employees and discount**\n",
    "\n",
    "We'll set our confidence level at 95%, so we set alpha = .05 and will look for a p-value below that to consider rejecting H0"
   ]
  },
  {
   "cell_type": "code",
   "execution_count": 63,
   "metadata": {},
   "outputs": [
    {
     "data": {
      "text/html": [
       "<div>\n",
       "<style scoped>\n",
       "    .dataframe tbody tr th:only-of-type {\n",
       "        vertical-align: middle;\n",
       "    }\n",
       "\n",
       "    .dataframe tbody tr th {\n",
       "        vertical-align: top;\n",
       "    }\n",
       "\n",
       "    .dataframe thead th {\n",
       "        text-align: right;\n",
       "    }\n",
       "</style>\n",
       "<table border=\"1\" class=\"dataframe\">\n",
       "  <thead>\n",
       "    <tr style=\"text-align: right;\">\n",
       "      <th></th>\n",
       "      <th>sum_sq</th>\n",
       "      <th>df</th>\n",
       "      <th>F</th>\n",
       "      <th>PR(&gt;F)</th>\n",
       "    </tr>\n",
       "  </thead>\n",
       "  <tbody>\n",
       "    <tr>\n",
       "      <th>C(EmployeeId)</th>\n",
       "      <td>0.16041</td>\n",
       "      <td>8.0</td>\n",
       "      <td>2.899611</td>\n",
       "      <td>0.003232</td>\n",
       "    </tr>\n",
       "    <tr>\n",
       "      <th>Residual</th>\n",
       "      <td>14.83993</td>\n",
       "      <td>2146.0</td>\n",
       "      <td>NaN</td>\n",
       "      <td>NaN</td>\n",
       "    </tr>\n",
       "  </tbody>\n",
       "</table>\n",
       "</div>"
      ],
      "text/plain": [
       "                 sum_sq      df         F    PR(>F)\n",
       "C(EmployeeId)   0.16041     8.0  2.899611  0.003232\n",
       "Residual       14.83993  2146.0       NaN       NaN"
      ]
     },
     "execution_count": 63,
     "metadata": {},
     "output_type": "execute_result"
    }
   ],
   "source": [
    "# set a formula with the discount as the target variable and EmployeeId as a categorical\n",
    "formula = 'Discount ~ C(EmployeeId)'\n",
    "\n",
    "# create a model with the formula and data frame\n",
    "lm = ols(formula, df2).fit()\n",
    "\n",
    "# create an ANOVA table\n",
    "table = sm.stats.anova_lm(lm, typ=2)\n",
    "table"
   ]
  },
  {
   "cell_type": "markdown",
   "metadata": {},
   "source": [
    "**Conclusions:** For now it appears that with p = .0032 < alpha we can **reject H0** and claim that there is some difference between different employees and discount. \n",
    "\n",
    "We'll need to research this much further see precisely which employees and how much. \n",
    "\n",
    "To begin, it will help to make a simple variable that shows whether or not a discount was used in a sale. Then we can get the overall average rate of discount usage and compare that rate with each employee's actual use. \n",
    "\n",
    "#### Create dummy variable"
   ]
  },
  {
   "cell_type": "code",
   "execution_count": 64,
   "metadata": {},
   "outputs": [
    {
     "data": {
      "text/html": [
       "<div>\n",
       "<style scoped>\n",
       "    .dataframe tbody tr th:only-of-type {\n",
       "        vertical-align: middle;\n",
       "    }\n",
       "\n",
       "    .dataframe tbody tr th {\n",
       "        vertical-align: top;\n",
       "    }\n",
       "\n",
       "    .dataframe thead th {\n",
       "        text-align: right;\n",
       "    }\n",
       "</style>\n",
       "<table border=\"1\" class=\"dataframe\">\n",
       "  <thead>\n",
       "    <tr style=\"text-align: right;\">\n",
       "      <th></th>\n",
       "      <th>Id_x</th>\n",
       "      <th>OrderId</th>\n",
       "      <th>ProductId</th>\n",
       "      <th>UnitPrice</th>\n",
       "      <th>Quantity</th>\n",
       "      <th>Discount</th>\n",
       "      <th>EmployeeId</th>\n",
       "      <th>y_discount</th>\n",
       "    </tr>\n",
       "  </thead>\n",
       "  <tbody>\n",
       "    <tr>\n",
       "      <th>0</th>\n",
       "      <td>10248/11</td>\n",
       "      <td>10248</td>\n",
       "      <td>11</td>\n",
       "      <td>14.0</td>\n",
       "      <td>12</td>\n",
       "      <td>0.0</td>\n",
       "      <td>5</td>\n",
       "      <td>0</td>\n",
       "    </tr>\n",
       "    <tr>\n",
       "      <th>1</th>\n",
       "      <td>10248/42</td>\n",
       "      <td>10248</td>\n",
       "      <td>42</td>\n",
       "      <td>9.8</td>\n",
       "      <td>10</td>\n",
       "      <td>0.0</td>\n",
       "      <td>5</td>\n",
       "      <td>0</td>\n",
       "    </tr>\n",
       "    <tr>\n",
       "      <th>2</th>\n",
       "      <td>10248/72</td>\n",
       "      <td>10248</td>\n",
       "      <td>72</td>\n",
       "      <td>34.8</td>\n",
       "      <td>5</td>\n",
       "      <td>0.0</td>\n",
       "      <td>5</td>\n",
       "      <td>0</td>\n",
       "    </tr>\n",
       "    <tr>\n",
       "      <th>3</th>\n",
       "      <td>10249/14</td>\n",
       "      <td>10249</td>\n",
       "      <td>14</td>\n",
       "      <td>18.6</td>\n",
       "      <td>9</td>\n",
       "      <td>0.0</td>\n",
       "      <td>6</td>\n",
       "      <td>0</td>\n",
       "    </tr>\n",
       "    <tr>\n",
       "      <th>4</th>\n",
       "      <td>10249/51</td>\n",
       "      <td>10249</td>\n",
       "      <td>51</td>\n",
       "      <td>42.4</td>\n",
       "      <td>40</td>\n",
       "      <td>0.0</td>\n",
       "      <td>6</td>\n",
       "      <td>0</td>\n",
       "    </tr>\n",
       "  </tbody>\n",
       "</table>\n",
       "</div>"
      ],
      "text/plain": [
       "       Id_x  OrderId  ProductId  UnitPrice  Quantity  Discount  EmployeeId  \\\n",
       "0  10248/11    10248         11       14.0        12       0.0           5   \n",
       "1  10248/42    10248         42        9.8        10       0.0           5   \n",
       "2  10248/72    10248         72       34.8         5       0.0           5   \n",
       "3  10249/14    10249         14       18.6         9       0.0           6   \n",
       "4  10249/51    10249         51       42.4        40       0.0           6   \n",
       "\n",
       "   y_discount  \n",
       "0           0  \n",
       "1           0  \n",
       "2           0  \n",
       "3           0  \n",
       "4           0  "
      ]
     },
     "execution_count": 64,
     "metadata": {},
     "output_type": "execute_result"
    }
   ],
   "source": [
    "# Create a new column called y_discount where the value is 1\n",
    "# if Discount is greater than 0.0 and 0 if not\n",
    "df2['y_discount'] = np.where(df2['Discount'] > 0.0, 1, 0)\n",
    "df2.head()"
   ]
  },
  {
   "cell_type": "markdown",
   "metadata": {},
   "source": [
    "Let's do another quick ANOVA to see if our first conclusion still holds, this time comparing EmployeeId to our new y_discount variable. For this test our hypotheses will be: \n",
    "\n",
    "**H0: There is no significant effect of employee on discount usage (y_discount)**\n",
    "\n",
    "**Ha: There is some effect on discount use for different employees** \n",
    "\n",
    "We'll set our confidence level at 95%, so we set **alpha = .05** and will look for a p-value below that to consider rejecting H0\n",
    "\n",
    "#### Test employee discount use again (ANOVA)"
   ]
  },
  {
   "cell_type": "code",
   "execution_count": 65,
   "metadata": {},
   "outputs": [
    {
     "data": {
      "text/html": [
       "<div>\n",
       "<style scoped>\n",
       "    .dataframe tbody tr th:only-of-type {\n",
       "        vertical-align: middle;\n",
       "    }\n",
       "\n",
       "    .dataframe tbody tr th {\n",
       "        vertical-align: top;\n",
       "    }\n",
       "\n",
       "    .dataframe thead th {\n",
       "        text-align: right;\n",
       "    }\n",
       "</style>\n",
       "<table border=\"1\" class=\"dataframe\">\n",
       "  <thead>\n",
       "    <tr style=\"text-align: right;\">\n",
       "      <th></th>\n",
       "      <th>sum_sq</th>\n",
       "      <th>df</th>\n",
       "      <th>F</th>\n",
       "      <th>PR(&gt;F)</th>\n",
       "    </tr>\n",
       "  </thead>\n",
       "  <tbody>\n",
       "    <tr>\n",
       "      <th>C(EmployeeId)</th>\n",
       "      <td>6.241641</td>\n",
       "      <td>8.0</td>\n",
       "      <td>3.309646</td>\n",
       "      <td>0.000914</td>\n",
       "    </tr>\n",
       "    <tr>\n",
       "      <th>Residual</th>\n",
       "      <td>505.891073</td>\n",
       "      <td>2146.0</td>\n",
       "      <td>NaN</td>\n",
       "      <td>NaN</td>\n",
       "    </tr>\n",
       "  </tbody>\n",
       "</table>\n",
       "</div>"
      ],
      "text/plain": [
       "                   sum_sq      df         F    PR(>F)\n",
       "C(EmployeeId)    6.241641     8.0  3.309646  0.000914\n",
       "Residual       505.891073  2146.0       NaN       NaN"
      ]
     },
     "execution_count": 65,
     "metadata": {},
     "output_type": "execute_result"
    }
   ],
   "source": [
    "# set a formula with the discount as the target variable and EmployeeId as a categorical\n",
    "formula = 'y_discount ~ C(EmployeeId)'\n",
    "\n",
    "# create a model with the formula and data frame\n",
    "lm = ols(formula, df2).fit()\n",
    "\n",
    "# create an anova table\n",
    "table = sm.stats.anova_lm(lm, typ=2)\n",
    "table"
   ]
  },
  {
   "cell_type": "markdown",
   "metadata": {},
   "source": [
    "Our p-value is now even lower than before (.0009 < alpha), so we can again **reject H0** and claim that some employees do use discounts at a statistically significant different rate than others. \n",
    "\n",
    "Let's now proceed with sampling all sales to determine what the overall average rate of discount use is, and then we can move forward with determining which employees use discounts differently. We'll use the same bootstrap method of sampling as before. \n",
    "\n",
    "#### Sample data"
   ]
  },
  {
   "cell_type": "code",
   "execution_count": 98,
   "metadata": {},
   "outputs": [
    {
     "name": "stdout",
     "output_type": "stream",
     "text": [
      "p = 4.5438235396488835e-09 \t Therefore the data is not normal\n"
     ]
    },
    {
     "name": "stderr",
     "output_type": "stream",
     "text": [
      "/Users/rab/anaconda3/envs/learn-env/lib/python3.6/site-packages/scipy/stats/stats.py:1713: FutureWarning: Using a non-tuple sequence for multidimensional indexing is deprecated; use `arr[tuple(seq)]` instead of `arr[seq]`. In the future this will be interpreted as an array index, `arr[np.array(seq)]`, which will result either in an error or a different result.\n",
      "  return np.add.reduce(sorted[indexer] * weights, axis=axis) / sumval\n"
     ]
    },
    {
     "data": {
      "text/plain": [
       "False"
      ]
     },
     "execution_count": 98,
     "metadata": {},
     "output_type": "execute_result"
    },
    {
     "data": {
      "image/png": "[encoded data removed]",
      "text/plain": [
       "<Figure size 432x288 with 1 Axes>"
      ]
     },
     "metadata": {
      "needs_background": "light"
     },
     "output_type": "display_data"
    }
   ],
   "source": [
    "# create a random sample discount use for all sales\n",
    "pop_sample = random_sample(df2.y_discount, 1000)\n",
    "\n",
    "# make a distribution plot of the sample\n",
    "sns.distplot(pop_sample)\n",
    "\n",
    "# use shapiro-wilkes test to determine normality of sample\n",
    "test_normality(pop_sample)"
   ]
  },
  {
   "cell_type": "markdown",
   "metadata": {},
   "source": [
    "By relying on resampling and the central limit theorem we have created a normal distribution of sample means of discount usage. We can take the mean of this data as a good approximation of the population mean of discounts used in all sales and compare each employee's discount use to that mean. "
   ]
  },
  {
   "cell_type": "code",
   "execution_count": 113,
   "metadata": {},
   "outputs": [
    {
     "data": {
      "text/plain": [
       "(0.38489999999999996, 0.08972668994724417)"
      ]
     },
     "execution_count": 113,
     "metadata": {},
     "output_type": "execute_result"
    }
   ],
   "source": [
    "# derive the mean of sample means\n",
    "xu = mean(pop_sample)\n",
    "# determine the standard deviation of the population sample\n",
    "std = np.std(pop_sample)\n",
    "xu, std"
   ]
  },
  {
   "cell_type": "markdown",
   "metadata": {},
   "source": [
    "We have a population mean of .39, with a standard deviation of .095. We can reasonably claim that discounts are used in about 39.1% of sales. \n",
    "\n",
    "#### Employee data analysis\n",
    "\n",
    "Before we move into deeper statistical analysis let's take a look at the data for each of the 9 employees. First let's check and see what their average discount use is before sampling"
   ]
  },
  {
   "cell_type": "code",
   "execution_count": 92,
   "metadata": {},
   "outputs": [
    {
     "name": "stdout",
     "output_type": "stream",
     "text": [
      "Employee 1 uses a discount 39.13% of the time.\n",
      "Employee 2 uses a discount 31.54% of the time.\n",
      "Employee 3 uses a discount 32.4% of the time.\n",
      "Employee 4 uses a discount 40.48% of the time.\n",
      "Employee 5 uses a discount 50.43% of the time.\n",
      "Employee 6 uses a discount 41.07% of the time.\n",
      "Employee 7 uses a discount 47.73% of the time.\n",
      "Employee 8 uses a discount 36.15% of the time.\n",
      "Employee 9 uses a discount 43.93% of the time.\n"
     ]
    }
   ],
   "source": [
    "# create a list of employees 1-9\n",
    "employees = list(range(1,10))\n",
    "\n",
    "# create a dictionary with each employee as key, and a sample of thier discount\n",
    "# use as a variable\n",
    "discount_usage = {}\n",
    "for e in employees:\n",
    "    discount_usage[e] = round(df2[df2['EmployeeId'] == e]['y_discount'].mean()*100, 2)\n",
    "    print(f'Employee {e} uses a discount {discount_usage[e]}% of the time.')"
   ]
  },
  {
   "cell_type": "markdown",
   "metadata": {},
   "source": [
    "There is a good range of discount use among our employees, with 31.5% on the low end, and 50.4% on the high end. Let's see how that looks visually. "
   ]
  },
  {
   "cell_type": "code",
   "execution_count": 114,
   "metadata": {},
   "outputs": [
    {
     "data": {
      "image/png": "[encoded data removed]",
      "text/plain": [
       "<Figure size 576x432 with 1 Axes>"
      ]
     },
     "metadata": {
      "needs_background": "light"
     },
     "output_type": "display_data"
    }
   ],
   "source": [
    "# plot average employee discount use rates and compare with the overall average\n",
    "plt.figure(figsize=(8,6))\n",
    "plt.bar(x=employees, height=discount_usage.values(), label='Employee')\n",
    "plt.hlines(y=xu*100, xmin=1, xmax=9, label='Overall Avg', colors='yellow')\n",
    "plt.xticks(ticks=employees)\n",
    "plt.xlabel('Employees')\n",
    "plt.ylabel('Discount Usage Rate')\n",
    "plt.title('Employee Discount Usage Rates')\n",
    "plt.legend();"
   ]
  },
  {
   "cell_type": "markdown",
   "metadata": {},
   "source": [
    "**Observations:**\n",
    "* Employees 5, 7, and 9 appear to use discounts the most frequently \n",
    "* Employees 2 and 3 use them the least\n",
    "\n",
    "To test the significance of these differences we can sample each of our employee's sales and compare them to the population sample mean. We'll use the same sampling method as before, but let's got for a much larger sample this time. \n",
    "\n",
    "#### Create employee samples and test for normality and variance with the population sample"
   ]
  },
  {
   "cell_type": "code",
   "execution_count": 109,
   "metadata": {},
   "outputs": [
    {
     "name": "stdout",
     "output_type": "stream",
     "text": [
      "p = 1.1424764068124205e-07 \t Therefore the data is not normal\n",
      "Employee 1: False\n",
      "p = 0.54243587629567 \t Therefore the data has equal variances\n",
      "Employee 1: True\n",
      "\n",
      "p = 7.57597806710919e-09 \t Therefore the data is not normal\n",
      "Employee 2: False\n",
      "p = 0.051415380960212614 \t Therefore the data has equal variances\n",
      "Employee 2: True\n",
      "\n",
      "p = 9.107910869943225e-09 \t Therefore the data is not normal\n",
      "Employee 3: False\n",
      "p = 0.2558101335229554 \t Therefore the data has equal variances\n",
      "Employee 3: True\n",
      "\n",
      "p = 7.454153916341966e-08 \t Therefore the data is not normal\n",
      "Employee 4: False\n",
      "p = 0.9149146048034325 \t Therefore the data has equal variances\n",
      "Employee 4: True\n",
      "\n",
      "p = 1.439910164435787e-07 \t Therefore the data is not normal\n",
      "Employee 5: False\n",
      "p = 0.6829983754510409 \t Therefore the data has equal variances\n",
      "Employee 5: True\n",
      "\n",
      "p = 5.1608235906996924e-08 \t Therefore the data is not normal\n",
      "Employee 6: False\n",
      "p = 0.15871128834843037 \t Therefore the data has equal variances\n",
      "Employee 6: True\n",
      "\n",
      "p = 5.62549429261594e-09 \t Therefore the data is not normal\n",
      "Employee 7: False\n",
      "p = 0.6530433605061878 \t Therefore the data has equal variances\n",
      "Employee 7: True\n",
      "\n",
      "p = 4.945260556610265e-08 \t Therefore the data is not normal\n",
      "Employee 8: False\n",
      "p = 0.7294409618900485 \t Therefore the data has equal variances\n",
      "Employee 8: True\n",
      "\n",
      "p = 1.7999076362684718e-07 \t Therefore the data is not normal\n",
      "Employee 9: False\n",
      "p = 0.8017680424000055 \t Therefore the data has equal variances\n",
      "Employee 9: True\n",
      "\n"
     ]
    }
   ],
   "source": [
    "emp_samples = {}\n",
    "for e in employees:\n",
    "    emp_samples[e] = random_sample(df2[df2['EmployeeId'] == e]['y_discount'], 1000)\n",
    "\n",
    "for k in emp_samples:\n",
    "    print(f'Employee {k}: {test_normality(emp_samples[k])}')\n",
    "    print(f'Employee {k}: {test_variance(pop_sample, emp_samples[k])}\\n')"
   ]
  },
  {
   "cell_type": "markdown",
   "metadata": {},
   "source": [
    "**Observations:** We see that the most of our employee samples are not distributed normally based on the shapiro-wilkes test, but that all have an equal variance with the population sample. Despite the lack of normality we may still be able to use a t-test due to it's ability to tolerate some deviation from normality.\n",
    "\n",
    "Let's take a look at our distributions visually before moving on to a statistical test. "
   ]
  },
  {
   "cell_type": "code",
   "execution_count": 110,
   "metadata": {},
   "outputs": [
    {
     "data": {
      "text/html": [
       "<div>\n",
       "<style scoped>\n",
       "    .dataframe tbody tr th:only-of-type {\n",
       "        vertical-align: middle;\n",
       "    }\n",
       "\n",
       "    .dataframe tbody tr th {\n",
       "        vertical-align: top;\n",
       "    }\n",
       "\n",
       "    .dataframe thead th {\n",
       "        text-align: right;\n",
       "    }\n",
       "</style>\n",
       "<table border=\"1\" class=\"dataframe\">\n",
       "  <thead>\n",
       "    <tr style=\"text-align: right;\">\n",
       "      <th></th>\n",
       "      <th>1</th>\n",
       "      <th>2</th>\n",
       "      <th>3</th>\n",
       "      <th>4</th>\n",
       "      <th>5</th>\n",
       "      <th>6</th>\n",
       "      <th>7</th>\n",
       "      <th>8</th>\n",
       "      <th>9</th>\n",
       "    </tr>\n",
       "  </thead>\n",
       "  <tbody>\n",
       "    <tr>\n",
       "      <th>0</th>\n",
       "      <td>0.466667</td>\n",
       "      <td>0.433333</td>\n",
       "      <td>0.500000</td>\n",
       "      <td>0.366667</td>\n",
       "      <td>0.433333</td>\n",
       "      <td>0.366667</td>\n",
       "      <td>0.400000</td>\n",
       "      <td>0.500000</td>\n",
       "      <td>0.433333</td>\n",
       "    </tr>\n",
       "    <tr>\n",
       "      <th>1</th>\n",
       "      <td>0.333333</td>\n",
       "      <td>0.233333</td>\n",
       "      <td>0.300000</td>\n",
       "      <td>0.366667</td>\n",
       "      <td>0.600000</td>\n",
       "      <td>0.533333</td>\n",
       "      <td>0.600000</td>\n",
       "      <td>0.333333</td>\n",
       "      <td>0.466667</td>\n",
       "    </tr>\n",
       "    <tr>\n",
       "      <th>2</th>\n",
       "      <td>0.333333</td>\n",
       "      <td>0.233333</td>\n",
       "      <td>0.400000</td>\n",
       "      <td>0.500000</td>\n",
       "      <td>0.600000</td>\n",
       "      <td>0.400000</td>\n",
       "      <td>0.433333</td>\n",
       "      <td>0.400000</td>\n",
       "      <td>0.333333</td>\n",
       "    </tr>\n",
       "    <tr>\n",
       "      <th>3</th>\n",
       "      <td>0.200000</td>\n",
       "      <td>0.366667</td>\n",
       "      <td>0.300000</td>\n",
       "      <td>0.366667</td>\n",
       "      <td>0.466667</td>\n",
       "      <td>0.400000</td>\n",
       "      <td>0.466667</td>\n",
       "      <td>0.466667</td>\n",
       "      <td>0.366667</td>\n",
       "    </tr>\n",
       "    <tr>\n",
       "      <th>4</th>\n",
       "      <td>0.433333</td>\n",
       "      <td>0.166667</td>\n",
       "      <td>0.333333</td>\n",
       "      <td>0.300000</td>\n",
       "      <td>0.500000</td>\n",
       "      <td>0.366667</td>\n",
       "      <td>0.400000</td>\n",
       "      <td>0.333333</td>\n",
       "      <td>0.466667</td>\n",
       "    </tr>\n",
       "  </tbody>\n",
       "</table>\n",
       "</div>"
      ],
      "text/plain": [
       "          1         2         3         4         5         6         7  \\\n",
       "0  0.466667  0.433333  0.500000  0.366667  0.433333  0.366667  0.400000   \n",
       "1  0.333333  0.233333  0.300000  0.366667  0.600000  0.533333  0.600000   \n",
       "2  0.333333  0.233333  0.400000  0.500000  0.600000  0.400000  0.433333   \n",
       "3  0.200000  0.366667  0.300000  0.366667  0.466667  0.400000  0.466667   \n",
       "4  0.433333  0.166667  0.333333  0.300000  0.500000  0.366667  0.400000   \n",
       "\n",
       "          8         9  \n",
       "0  0.500000  0.433333  \n",
       "1  0.333333  0.466667  \n",
       "2  0.400000  0.333333  \n",
       "3  0.466667  0.366667  \n",
       "4  0.333333  0.466667  "
      ]
     },
     "execution_count": 110,
     "metadata": {},
     "output_type": "execute_result"
    }
   ],
   "source": [
    "# create a data frame of our samples to iterate through. \n",
    "emp_discount_sample_df = pd.DataFrame.from_dict(emp_samples)\n",
    "emp_discount_sample_df.head()"
   ]
  },
  {
   "cell_type": "code",
   "execution_count": 104,
   "metadata": {},
   "outputs": [],
   "source": [
    "# create a funtioan that will take a data frame and return a group of distribution\n",
    "def get_distplots(df, comparison, cols=1):\n",
    "    rows = math.ceil(len(df.columns)/cols)\n",
    "    figwidth = 5 * cols\n",
    "    figheight = 4 * rows\n",
    "    \n",
    "    fig, ax = plt.subplots(nrows = rows,\n",
    "                           ncols = cols,\n",
    "                           figsize = (figwidth, figheight))\n",
    "    \n",
    "    ax = ax.ravel()\n",
    "    \n",
    "    for i, column in enumerate(df.columns):\n",
    "        sns.distplot(df[column], ax=ax[i], label='Emp Sample')\n",
    "        sns.distplot(comparison, ax=ax[i], label='Pop Sample')\n",
    "        \n",
    "    \n",
    "    plt.legend()\n",
    "    plt.show()"
   ]
  },
  {
   "cell_type": "code",
   "execution_count": 111,
   "metadata": {
    "scrolled": false
   },
   "outputs": [
    {
     "name": "stderr",
     "output_type": "stream",
     "text": [
      "/Users/rab/anaconda3/envs/learn-env/lib/python3.6/site-packages/scipy/stats/stats.py:1713: FutureWarning: Using a non-tuple sequence for multidimensional indexing is deprecated; use `arr[tuple(seq)]` instead of `arr[seq]`. In the future this will be interpreted as an array index, `arr[np.array(seq)]`, which will result either in an error or a different result.\n",
      "  return np.add.reduce(sorted[indexer] * weights, axis=axis) / sumval\n"
     ]
    },
    {
     "data": {
      "image/png": "[encoded data removed]",
      "text/plain": [
       "<Figure size 1080x864 with 9 Axes>"
      ]
     },
     "metadata": {
      "needs_background": "light"
     },
     "output_type": "display_data"
    }
   ],
   "source": [
    "get_distplots(emp_discount_sample_df, pop_sample, cols=3)"
   ]
  },
  {
   "cell_type": "markdown",
   "metadata": {},
   "source": [
    "**Observations:**\n",
    "* Similar to what we've see previously, employees 5 and 7 seem to be to the right of the population sample\n",
    "* Employees 2 and 3 appear to be to the left. \n",
    "* Employee 9 may also be above the population mean. \n",
    "\n",
    "#### Statistical Analysis - 1-sample t-test\n",
    "\n",
    "At this time we have enough time to state hypotheses and conduct our tests. We'll state the same hypotheses for each employee **X**:\n",
    "\n",
    "**H0: The difference in the rate that Employee X uses a discount is not statistically significant from the overall rate of discount use.**\n",
    "\n",
    "**Ha: The difference in the rate that Employee X uses a discount IS statistically significant from the overall rate of discount use. Employee X is more or less likely to use a discount than the average.**\n",
    "\n",
    "Because we are conducting multiple comparisons we will use the **Bonferroni Correction** to establish alpha for our 95% confidence level. \n",
    "\n",
    "Since we are comparing an employee sample to the population sample mean we'll use a one sample t-test. "
   ]
  },
  {
   "cell_type": "code",
   "execution_count": 115,
   "metadata": {},
   "outputs": [
    {
     "name": "stdout",
     "output_type": "stream",
     "text": [
      "With a p-value of 0.0961314650052162, which is greater than 0.0056, at this time we fail to reject the H0\n",
      "Employee 1: True\n",
      "\n",
      "With a p-value of 3.397706115056494e-113, which is less than 0.0056 we can reject the H0 and accept Ha\n",
      "Employee 2: False\n",
      "\n",
      "With a p-value of 1.571759792183275e-82, which is less than 0.0056 we can reject the H0 and accept Ha\n",
      "Employee 3: False\n",
      "\n",
      "With a p-value of 1.3959408003178319e-12, which is less than 0.0056 we can reject the H0 and accept Ha\n",
      "Employee 4: False\n",
      "\n",
      "With a p-value of 2.643806943159211e-215, which is less than 0.0056 we can reject the H0 and accept Ha\n",
      "Employee 5: False\n",
      "\n",
      "With a p-value of 7.585401178406437e-17, which is less than 0.0056 we can reject the H0 and accept Ha\n",
      "Employee 6: False\n",
      "\n",
      "With a p-value of 1.0840888629164416e-157, which is less than 0.0056 we can reject the H0 and accept Ha\n",
      "Employee 7: False\n",
      "\n",
      "With a p-value of 1.0268627184862945e-19, which is less than 0.0056 we can reject the H0 and accept Ha\n",
      "Employee 8: False\n",
      "\n",
      "With a p-value of 1.5219747073130657e-68, which is less than 0.0056 we can reject the H0 and accept Ha\n",
      "Employee 9: False\n",
      "\n",
      "Employees [2, 3, 4, 5, 6, 7, 8, 9] use discounts at a statistically diffent rate than the sample mean xu = 0.38489999999999996\n"
     ]
    }
   ],
   "source": [
    "# establish alpha with the bonferroni correction\n",
    "employee_bonferroni = round(bonferroni_alpha(obs=9),4)\n",
    "\n",
    "# run t-tests for each employee sample and return a list of employees that use \n",
    "# discounts differntly than the population average\n",
    "discount_employees = []\n",
    "for k in emp_samples:\n",
    "    p = stats.ttest_1samp(emp_samples[k], xu)[1]\n",
    "    results = check_null_hypothesis(p, alpha=employee_bonferroni)\n",
    "    print(f'Employee {k}: {results}\\n')\n",
    "    if results == False:\n",
    "        discount_employees.append(k)\n",
    "print(f'Employees {discount_employees} use discounts at a statistically diffent rate than the sample mean xu = {xu}')"
   ]
  },
  {
   "cell_type": "markdown",
   "metadata": {},
   "source": [
    "**Observations:**\n",
    "* It appears that **nearly all** of our employees (except employee 1) use discounts at a rate this is different than the overall average\n",
    "* **However** we are not yet ready to accept or reject **H0** - based on observations above many employees looked very close to the overall population - do be sure we should check effect sizes. \n",
    "\n",
    "#### Check effect sizes"
   ]
  },
  {
   "cell_type": "code",
   "execution_count": 116,
   "metadata": {},
   "outputs": [
    {
     "data": {
      "text/plain": [
       "{2: 0.7930409088630236,\n",
       " 3: 0.6604673571667329,\n",
       " 4: 0.22720093654847412,\n",
       " 5: 1.293940574709008,\n",
       " 6: 0.26320068084720977,\n",
       " 7: 1.0293169093696253,\n",
       " 8: 0.2946452102311732,\n",
       " 9: 0.5994746479863635}"
      ]
     },
     "execution_count": 116,
     "metadata": {},
     "output_type": "execute_result"
    }
   ],
   "source": [
    "# calculate effect sizes of each result and add to a dictionary\n",
    "emp_discount_effects = {}\n",
    "for e in discount_employees:\n",
    "    emp_discount_effects[e] = cohen_d(emp_samples[e], pop_sample)\n",
    "emp_discount_effects"
   ]
  },
  {
   "cell_type": "code",
   "execution_count": 118,
   "metadata": {},
   "outputs": [
    {
     "name": "stdout",
     "output_type": "stream",
     "text": [
      "Employee 2 has a MEDIUM effect with 0.7930409088630236\n",
      "Employee 3 has a MEDIUM effect with 0.6604673571667329\n",
      "Employee 4 has a SMALL effect with 0.22720093654847412\n",
      "Employee 5 has a LARGE effect with 1.293940574709008\n",
      "Employee 6 has a SMALL effect with 0.26320068084720977\n",
      "Employee 7 has a LARGE effect with 1.0293169093696253\n",
      "Employee 8 has a SMALL effect with 0.2946452102311732\n",
      "Employee 9 has a MEDIUM effect with 0.5994746479863635\n"
     ]
    }
   ],
   "source": [
    "# determine which effects are large, medium, or small\n",
    "for e in emp_discount_effects:\n",
    "    if emp_discount_effects[e] > .8:\n",
    "        print (f'Employee {e} has a LARGE effect with {emp_discount_effects[e]}')\n",
    "    elif emp_discount_effects[e] > .5:\n",
    "        print (f'Employee {e} has a MEDIUM effect with {emp_discount_effects[e]}')\n",
    "    else:\n",
    "        print(f'Employee {e} has a SMALL effect with {emp_discount_effects[e]}')"
   ]
  },
  {
   "cell_type": "markdown",
   "metadata": {},
   "source": [
    "**Observations:** \n",
    "* As suspected earlier, employees 5 and 7 have sufficiently large effects to draw a conclusion\n",
    "* Employees 2, 3, and 9 have medium effects, and the remainder are small\n",
    "\n",
    "Before stating our final conclusions let's check power to make sure we've considered a sufficiently large set of data (with 1000 samples this is very likely to be the case). "
   ]
  },
  {
   "cell_type": "code",
   "execution_count": 123,
   "metadata": {},
   "outputs": [
    {
     "data": {
      "text/plain": [
       "{2: 1.0, 3: 1.0, 4: 1.0, 5: 1.0, 6: 1.0, 7: 1.0, 8: 1.0, 9: 1.0}"
      ]
     },
     "execution_count": 123,
     "metadata": {},
     "output_type": "execute_result"
    }
   ],
   "source": [
    "# check the power for each effect size. \n",
    "discount_powers = {}\n",
    "for e in emp_discount_effects:\n",
    "    discount_powers[e] = power.solve_power(effect_size=e, \n",
    "                                           nobs1=len(emp_discount_sample_df), \n",
    "                                           alpha=employee_bonferroni)\n",
    "discount_powers"
   ]
  },
  {
   "cell_type": "markdown",
   "metadata": {},
   "source": [
    "**Observations:** It's no surprise that we can see we have very high statistical power, we've taken a large set of samples to compare\n",
    "\n",
    "* For **employees 5 and 7** at this time we can **reject Ho and accept Ha** and claim that they use discounts at a rate that is large and statistically significantly different than the overall average\n",
    "\n",
    "* For all others we fail to see a large enough effect at this time and **fail to reject H0** \n",
    "\n",
    "\n",
    "Let's answer the final part of our question which was, do those employees that use discounts sell greater amounts overall? "
   ]
  },
  {
   "cell_type": "code",
   "execution_count": 129,
   "metadata": {},
   "outputs": [
    {
     "data": {
      "text/plain": [
       "<matplotlib.axes._subplots.AxesSubplot at 0x1a1767fcf8>"
      ]
     },
     "execution_count": 129,
     "metadata": {},
     "output_type": "execute_result"
    },
    {
     "data": {
      "image/png": "[encoded data removed]",
      "text/plain": [
       "<Figure size 432x288 with 1 Axes>"
      ]
     },
     "metadata": {
      "needs_background": "light"
     },
     "output_type": "display_data"
    }
   ],
   "source": [
    "# show a bar plot of quantity sold by employee\n",
    "sns.barplot(x=df2_pivot.index, y=df2_pivot['sum']['Quantity'])"
   ]
  },
  {
   "cell_type": "markdown",
   "metadata": {},
   "source": [
    "**Observations:** \n",
    "* NO, it turns out that employees 5 and 7 are in fact in the bottom half of employees when ranked by total quantity sold. \n",
    "* In fact, employees 2 and 3, who seems less likely to use a discount are in the upper half of sales by quantity"
   ]
  },
  {
   "cell_type": "markdown",
   "metadata": {},
   "source": [
    "#### Question 3 Conclusions:\n",
    "\n",
    "1. While we can safely claim that discounts have a large and positive statistically significant effect on quantity of product ordered, it turns out that the employees that use them the most actually sell less overall. \n",
    "2. This is an interesting conclusion considering that all employees generally sell similar quantities per order - it could mean that these employees have weaker sales performance overall, and that they have difficulty making sales in general and must use discounts to close deals\n",
    "3. We should look further into the potential consequences of this performance and it's effects on revenue"
   ]
  },
  {
   "cell_type": "markdown",
   "metadata": {},
   "source": [
    "## Question 4 "
   ]
  },
  {
   "cell_type": "markdown",
   "metadata": {},
   "source": [
    "As a final question let's see what the effect of discount use has on revenue. Discounts obviously reduce revenue, but how much matters, and it matters if some of our employees are using discounts that reduce revenue below the revenue that would be gained from a smaller sale at a non-discounted price. Aside from very specific sales and marketing strategies, increased quantity sold is not beneficial if it does not also result in increase revenue (and profit)  "
   ]
  },
  {
   "cell_type": "markdown",
   "metadata": {},
   "source": [
    "**Research Question:** Does discount have a statistically significant and positive effect on revenue? If so, at which rates? "
   ]
  },
  {
   "cell_type": "markdown",
   "metadata": {},
   "source": [
    "#### Gathering data\n",
    "\n",
    "We can continue to use the date we've been using for our previous analysis, but we will need to derive revenue figures per sale. "
   ]
  },
  {
   "cell_type": "code",
   "execution_count": 130,
   "metadata": {},
   "outputs": [
    {
     "data": {
      "text/html": [
       "<div>\n",
       "<style scoped>\n",
       "    .dataframe tbody tr th:only-of-type {\n",
       "        vertical-align: middle;\n",
       "    }\n",
       "\n",
       "    .dataframe tbody tr th {\n",
       "        vertical-align: top;\n",
       "    }\n",
       "\n",
       "    .dataframe thead th {\n",
       "        text-align: right;\n",
       "    }\n",
       "</style>\n",
       "<table border=\"1\" class=\"dataframe\">\n",
       "  <thead>\n",
       "    <tr style=\"text-align: right;\">\n",
       "      <th></th>\n",
       "      <th>Id_x</th>\n",
       "      <th>OrderId</th>\n",
       "      <th>ProductId</th>\n",
       "      <th>UnitPrice</th>\n",
       "      <th>Quantity</th>\n",
       "      <th>Discount</th>\n",
       "      <th>EmployeeId</th>\n",
       "      <th>y_discount</th>\n",
       "    </tr>\n",
       "  </thead>\n",
       "  <tbody>\n",
       "    <tr>\n",
       "      <th>0</th>\n",
       "      <td>10248/11</td>\n",
       "      <td>10248</td>\n",
       "      <td>11</td>\n",
       "      <td>14.0</td>\n",
       "      <td>12</td>\n",
       "      <td>0.0</td>\n",
       "      <td>5</td>\n",
       "      <td>0</td>\n",
       "    </tr>\n",
       "    <tr>\n",
       "      <th>1</th>\n",
       "      <td>10248/42</td>\n",
       "      <td>10248</td>\n",
       "      <td>42</td>\n",
       "      <td>9.8</td>\n",
       "      <td>10</td>\n",
       "      <td>0.0</td>\n",
       "      <td>5</td>\n",
       "      <td>0</td>\n",
       "    </tr>\n",
       "    <tr>\n",
       "      <th>2</th>\n",
       "      <td>10248/72</td>\n",
       "      <td>10248</td>\n",
       "      <td>72</td>\n",
       "      <td>34.8</td>\n",
       "      <td>5</td>\n",
       "      <td>0.0</td>\n",
       "      <td>5</td>\n",
       "      <td>0</td>\n",
       "    </tr>\n",
       "    <tr>\n",
       "      <th>3</th>\n",
       "      <td>10249/14</td>\n",
       "      <td>10249</td>\n",
       "      <td>14</td>\n",
       "      <td>18.6</td>\n",
       "      <td>9</td>\n",
       "      <td>0.0</td>\n",
       "      <td>6</td>\n",
       "      <td>0</td>\n",
       "    </tr>\n",
       "    <tr>\n",
       "      <th>4</th>\n",
       "      <td>10249/51</td>\n",
       "      <td>10249</td>\n",
       "      <td>51</td>\n",
       "      <td>42.4</td>\n",
       "      <td>40</td>\n",
       "      <td>0.0</td>\n",
       "      <td>6</td>\n",
       "      <td>0</td>\n",
       "    </tr>\n",
       "  </tbody>\n",
       "</table>\n",
       "</div>"
      ],
      "text/plain": [
       "       Id_x  OrderId  ProductId  UnitPrice  Quantity  Discount  EmployeeId  \\\n",
       "0  10248/11    10248         11       14.0        12       0.0           5   \n",
       "1  10248/42    10248         42        9.8        10       0.0           5   \n",
       "2  10248/72    10248         72       34.8         5       0.0           5   \n",
       "3  10249/14    10249         14       18.6         9       0.0           6   \n",
       "4  10249/51    10249         51       42.4        40       0.0           6   \n",
       "\n",
       "   y_discount  \n",
       "0           0  \n",
       "1           0  \n",
       "2           0  \n",
       "3           0  \n",
       "4           0  "
      ]
     },
     "execution_count": 130,
     "metadata": {},
     "output_type": "execute_result"
    }
   ],
   "source": [
    "# create a new dataframe to work with in this question\n",
    "df3 = df2\n",
    "df3.head()"
   ]
  },
  {
   "cell_type": "code",
   "execution_count": 131,
   "metadata": {},
   "outputs": [],
   "source": [
    "# create a new column of data 'Expected_Revenue' by multiplying unit price and quantity sold\n",
    "df3['Expected_Revenue'] = df3['UnitPrice'] * df3['Quantity'] \n",
    "# create a new column of data 'DiscountCost' by multiplying the expected revenue by the size of the discount\n",
    "df3['DiscountCost'] = df3['Expected_Revenue'] * df3['Discount']\n",
    "# create a new column of data 'Actual_Revenue' by subtracting discount cost from expected revenue\n",
    "df3['Actual_Revenue'] = df3['Expected_Revenue'] - df3['DiscountCost']"
   ]
  },
  {
   "cell_type": "code",
   "execution_count": 132,
   "metadata": {},
   "outputs": [
    {
     "data": {
      "text/html": [
       "<div>\n",
       "<style scoped>\n",
       "    .dataframe tbody tr th:only-of-type {\n",
       "        vertical-align: middle;\n",
       "    }\n",
       "\n",
       "    .dataframe tbody tr th {\n",
       "        vertical-align: top;\n",
       "    }\n",
       "\n",
       "    .dataframe thead th {\n",
       "        text-align: right;\n",
       "    }\n",
       "</style>\n",
       "<table border=\"1\" class=\"dataframe\">\n",
       "  <thead>\n",
       "    <tr style=\"text-align: right;\">\n",
       "      <th></th>\n",
       "      <th>Id_x</th>\n",
       "      <th>OrderId</th>\n",
       "      <th>ProductId</th>\n",
       "      <th>UnitPrice</th>\n",
       "      <th>Quantity</th>\n",
       "      <th>Discount</th>\n",
       "      <th>EmployeeId</th>\n",
       "      <th>y_discount</th>\n",
       "      <th>Expected_Revenue</th>\n",
       "      <th>DiscountCost</th>\n",
       "      <th>Actual_Revenue</th>\n",
       "    </tr>\n",
       "  </thead>\n",
       "  <tbody>\n",
       "    <tr>\n",
       "      <th>0</th>\n",
       "      <td>10248/11</td>\n",
       "      <td>10248</td>\n",
       "      <td>11</td>\n",
       "      <td>14.0</td>\n",
       "      <td>12</td>\n",
       "      <td>0.0</td>\n",
       "      <td>5</td>\n",
       "      <td>0</td>\n",
       "      <td>168.0</td>\n",
       "      <td>0.0</td>\n",
       "      <td>168.0</td>\n",
       "    </tr>\n",
       "    <tr>\n",
       "      <th>1</th>\n",
       "      <td>10248/42</td>\n",
       "      <td>10248</td>\n",
       "      <td>42</td>\n",
       "      <td>9.8</td>\n",
       "      <td>10</td>\n",
       "      <td>0.0</td>\n",
       "      <td>5</td>\n",
       "      <td>0</td>\n",
       "      <td>98.0</td>\n",
       "      <td>0.0</td>\n",
       "      <td>98.0</td>\n",
       "    </tr>\n",
       "    <tr>\n",
       "      <th>2</th>\n",
       "      <td>10248/72</td>\n",
       "      <td>10248</td>\n",
       "      <td>72</td>\n",
       "      <td>34.8</td>\n",
       "      <td>5</td>\n",
       "      <td>0.0</td>\n",
       "      <td>5</td>\n",
       "      <td>0</td>\n",
       "      <td>174.0</td>\n",
       "      <td>0.0</td>\n",
       "      <td>174.0</td>\n",
       "    </tr>\n",
       "    <tr>\n",
       "      <th>3</th>\n",
       "      <td>10249/14</td>\n",
       "      <td>10249</td>\n",
       "      <td>14</td>\n",
       "      <td>18.6</td>\n",
       "      <td>9</td>\n",
       "      <td>0.0</td>\n",
       "      <td>6</td>\n",
       "      <td>0</td>\n",
       "      <td>167.4</td>\n",
       "      <td>0.0</td>\n",
       "      <td>167.4</td>\n",
       "    </tr>\n",
       "    <tr>\n",
       "      <th>4</th>\n",
       "      <td>10249/51</td>\n",
       "      <td>10249</td>\n",
       "      <td>51</td>\n",
       "      <td>42.4</td>\n",
       "      <td>40</td>\n",
       "      <td>0.0</td>\n",
       "      <td>6</td>\n",
       "      <td>0</td>\n",
       "      <td>1696.0</td>\n",
       "      <td>0.0</td>\n",
       "      <td>1696.0</td>\n",
       "    </tr>\n",
       "  </tbody>\n",
       "</table>\n",
       "</div>"
      ],
      "text/plain": [
       "       Id_x  OrderId  ProductId  UnitPrice  Quantity  Discount  EmployeeId  \\\n",
       "0  10248/11    10248         11       14.0        12       0.0           5   \n",
       "1  10248/42    10248         42        9.8        10       0.0           5   \n",
       "2  10248/72    10248         72       34.8         5       0.0           5   \n",
       "3  10249/14    10249         14       18.6         9       0.0           6   \n",
       "4  10249/51    10249         51       42.4        40       0.0           6   \n",
       "\n",
       "   y_discount  Expected_Revenue  DiscountCost  Actual_Revenue  \n",
       "0           0             168.0           0.0           168.0  \n",
       "1           0              98.0           0.0            98.0  \n",
       "2           0             174.0           0.0           174.0  \n",
       "3           0             167.4           0.0           167.4  \n",
       "4           0            1696.0           0.0          1696.0  "
      ]
     },
     "metadata": {},
     "output_type": "display_data"
    },
    {
     "name": "stdout",
     "output_type": "stream",
     "text": [
      "<class 'pandas.core.frame.DataFrame'>\n",
      "Int64Index: 2155 entries, 0 to 2154\n",
      "Data columns (total 11 columns):\n",
      "Id_x                2155 non-null object\n",
      "OrderId             2155 non-null int64\n",
      "ProductId           2155 non-null int64\n",
      "UnitPrice           2155 non-null float64\n",
      "Quantity            2155 non-null int64\n",
      "Discount            2155 non-null float64\n",
      "EmployeeId          2155 non-null int64\n",
      "y_discount          2155 non-null int64\n",
      "Expected_Revenue    2155 non-null float64\n",
      "DiscountCost        2155 non-null float64\n",
      "Actual_Revenue      2155 non-null float64\n",
      "dtypes: float64(5), int64(5), object(1)\n",
      "memory usage: 282.0+ KB\n"
     ]
    },
    {
     "data": {
      "text/plain": [
       "None"
      ]
     },
     "metadata": {},
     "output_type": "display_data"
    },
    {
     "data": {
      "text/html": [
       "<div>\n",
       "<style scoped>\n",
       "    .dataframe tbody tr th:only-of-type {\n",
       "        vertical-align: middle;\n",
       "    }\n",
       "\n",
       "    .dataframe tbody tr th {\n",
       "        vertical-align: top;\n",
       "    }\n",
       "\n",
       "    .dataframe thead th {\n",
       "        text-align: right;\n",
       "    }\n",
       "</style>\n",
       "<table border=\"1\" class=\"dataframe\">\n",
       "  <thead>\n",
       "    <tr style=\"text-align: right;\">\n",
       "      <th></th>\n",
       "      <th>OrderId</th>\n",
       "      <th>ProductId</th>\n",
       "      <th>UnitPrice</th>\n",
       "      <th>Quantity</th>\n",
       "      <th>Discount</th>\n",
       "      <th>EmployeeId</th>\n",
       "      <th>y_discount</th>\n",
       "      <th>Expected_Revenue</th>\n",
       "      <th>DiscountCost</th>\n",
       "      <th>Actual_Revenue</th>\n",
       "    </tr>\n",
       "  </thead>\n",
       "  <tbody>\n",
       "    <tr>\n",
       "      <th>count</th>\n",
       "      <td>2155.000000</td>\n",
       "      <td>2155.000000</td>\n",
       "      <td>2155.000000</td>\n",
       "      <td>2155.000000</td>\n",
       "      <td>2155.000000</td>\n",
       "      <td>2155.000000</td>\n",
       "      <td>2155.000000</td>\n",
       "      <td>2155.000000</td>\n",
       "      <td>2155.000000</td>\n",
       "      <td>2155.000000</td>\n",
       "    </tr>\n",
       "    <tr>\n",
       "      <th>mean</th>\n",
       "      <td>10659.375870</td>\n",
       "      <td>40.793039</td>\n",
       "      <td>26.218520</td>\n",
       "      <td>23.812993</td>\n",
       "      <td>0.056167</td>\n",
       "      <td>4.333179</td>\n",
       "      <td>0.388863</td>\n",
       "      <td>628.519067</td>\n",
       "      <td>41.144107</td>\n",
       "      <td>587.374960</td>\n",
       "    </tr>\n",
       "    <tr>\n",
       "      <th>std</th>\n",
       "      <td>241.378032</td>\n",
       "      <td>22.159019</td>\n",
       "      <td>29.827418</td>\n",
       "      <td>19.022047</td>\n",
       "      <td>0.083450</td>\n",
       "      <td>2.490351</td>\n",
       "      <td>0.487605</td>\n",
       "      <td>1036.466980</td>\n",
       "      <td>133.993817</td>\n",
       "      <td>969.224235</td>\n",
       "    </tr>\n",
       "    <tr>\n",
       "      <th>min</th>\n",
       "      <td>10248.000000</td>\n",
       "      <td>1.000000</td>\n",
       "      <td>2.000000</td>\n",
       "      <td>1.000000</td>\n",
       "      <td>0.000000</td>\n",
       "      <td>1.000000</td>\n",
       "      <td>0.000000</td>\n",
       "      <td>4.800000</td>\n",
       "      <td>0.000000</td>\n",
       "      <td>4.800000</td>\n",
       "    </tr>\n",
       "    <tr>\n",
       "      <th>25%</th>\n",
       "      <td>10451.000000</td>\n",
       "      <td>22.000000</td>\n",
       "      <td>12.000000</td>\n",
       "      <td>10.000000</td>\n",
       "      <td>0.000000</td>\n",
       "      <td>2.000000</td>\n",
       "      <td>0.000000</td>\n",
       "      <td>154.000000</td>\n",
       "      <td>0.000000</td>\n",
       "      <td>147.000000</td>\n",
       "    </tr>\n",
       "    <tr>\n",
       "      <th>50%</th>\n",
       "      <td>10657.000000</td>\n",
       "      <td>41.000000</td>\n",
       "      <td>18.400000</td>\n",
       "      <td>20.000000</td>\n",
       "      <td>0.000000</td>\n",
       "      <td>4.000000</td>\n",
       "      <td>0.000000</td>\n",
       "      <td>360.000000</td>\n",
       "      <td>0.000000</td>\n",
       "      <td>337.750000</td>\n",
       "    </tr>\n",
       "    <tr>\n",
       "      <th>75%</th>\n",
       "      <td>10862.500000</td>\n",
       "      <td>60.000000</td>\n",
       "      <td>32.000000</td>\n",
       "      <td>30.000000</td>\n",
       "      <td>0.100000</td>\n",
       "      <td>7.000000</td>\n",
       "      <td>1.000000</td>\n",
       "      <td>722.250000</td>\n",
       "      <td>30.560000</td>\n",
       "      <td>656.000000</td>\n",
       "    </tr>\n",
       "    <tr>\n",
       "      <th>max</th>\n",
       "      <td>11077.000000</td>\n",
       "      <td>77.000000</td>\n",
       "      <td>263.500000</td>\n",
       "      <td>130.000000</td>\n",
       "      <td>0.250000</td>\n",
       "      <td>9.000000</td>\n",
       "      <td>1.000000</td>\n",
       "      <td>15810.000000</td>\n",
       "      <td>2108.000000</td>\n",
       "      <td>15810.000000</td>\n",
       "    </tr>\n",
       "  </tbody>\n",
       "</table>\n",
       "</div>"
      ],
      "text/plain": [
       "            OrderId    ProductId    UnitPrice     Quantity     Discount  \\\n",
       "count   2155.000000  2155.000000  2155.000000  2155.000000  2155.000000   \n",
       "mean   10659.375870    40.793039    26.218520    23.812993     0.056167   \n",
       "std      241.378032    22.159019    29.827418    19.022047     0.083450   \n",
       "min    10248.000000     1.000000     2.000000     1.000000     0.000000   \n",
       "25%    10451.000000    22.000000    12.000000    10.000000     0.000000   \n",
       "50%    10657.000000    41.000000    18.400000    20.000000     0.000000   \n",
       "75%    10862.500000    60.000000    32.000000    30.000000     0.100000   \n",
       "max    11077.000000    77.000000   263.500000   130.000000     0.250000   \n",
       "\n",
       "        EmployeeId   y_discount  Expected_Revenue  DiscountCost  \\\n",
       "count  2155.000000  2155.000000       2155.000000   2155.000000   \n",
       "mean      4.333179     0.388863        628.519067     41.144107   \n",
       "std       2.490351     0.487605       1036.466980    133.993817   \n",
       "min       1.000000     0.000000          4.800000      0.000000   \n",
       "25%       2.000000     0.000000        154.000000      0.000000   \n",
       "50%       4.000000     0.000000        360.000000      0.000000   \n",
       "75%       7.000000     1.000000        722.250000     30.560000   \n",
       "max       9.000000     1.000000      15810.000000   2108.000000   \n",
       "\n",
       "       Actual_Revenue  \n",
       "count     2155.000000  \n",
       "mean       587.374960  \n",
       "std        969.224235  \n",
       "min          4.800000  \n",
       "25%        147.000000  \n",
       "50%        337.750000  \n",
       "75%        656.000000  \n",
       "max      15810.000000  "
      ]
     },
     "metadata": {},
     "output_type": "display_data"
    }
   ],
   "source": [
    "# check the data frame, info, and central tendencies\n",
    "inspect_dataframe(df3)"
   ]
  },
  {
   "cell_type": "code",
   "execution_count": 133,
   "metadata": {},
   "outputs": [
    {
     "name": "stdout",
     "output_type": "stream",
     "text": [
      "The size of group1 is: 1317  \t  The size of group2 is 838\n",
      "The mean of group1 is: 570.0065375854214 \t  The mean of group2 is: 614.671156921241\n",
      "The std of group1 is: 961.3750303140845 \t  The std of group2 is: 981.3883857404984\n"
     ]
    }
   ],
   "source": [
    "# split data into two groups based on discount and compare\n",
    "full_cost_sales = df3[df3['y_discount'] == 0]['Actual_Revenue']\n",
    "discount_sales = df3[df3['y_discount'] == 1]['Actual_Revenue']\n",
    "\n",
    "compare_2(full_cost_sales, discount_sales)"
   ]
  },
  {
   "cell_type": "markdown",
   "metadata": {},
   "source": [
    "**Observations:**\n",
    "* There appear to be a number of very large sales that skew the data\n",
    "* The mean revenue size per sale is otherwise relatively close\n",
    "\n",
    "Let's see how they look visually"
   ]
  },
  {
   "cell_type": "code",
   "execution_count": 135,
   "metadata": {},
   "outputs": [
    {
     "name": "stderr",
     "output_type": "stream",
     "text": [
      "/Users/rab/anaconda3/envs/learn-env/lib/python3.6/site-packages/scipy/stats/stats.py:1713: FutureWarning: Using a non-tuple sequence for multidimensional indexing is deprecated; use `arr[tuple(seq)]` instead of `arr[seq]`. In the future this will be interpreted as an array index, `arr[np.array(seq)]`, which will result either in an error or a different result.\n",
      "  return np.add.reduce(sorted[indexer] * weights, axis=axis) / sumval\n"
     ]
    },
    {
     "data": {
      "text/plain": [
       "<matplotlib.legend.Legend at 0x1c1a0aa6a0>"
      ]
     },
     "execution_count": 135,
     "metadata": {},
     "output_type": "execute_result"
    },
    {
     "data": {
      "image/png": "[encoded data removed]",
      "text/plain": [
       "<Figure size 432x288 with 1 Axes>"
      ]
     },
     "metadata": {
      "needs_background": "light"
     },
     "output_type": "display_data"
    }
   ],
   "source": [
    "# Plot the distributions of both groups\n",
    "sns.distplot(full_cost_sales, label='Full Cost')\n",
    "sns.distplot(discount_sales, label='Discounted')\n",
    "plt.title('Full Cost vs. Discount Revenue per Sale')\n",
    "plt.legend()"
   ]
  },
  {
   "cell_type": "markdown",
   "metadata": {},
   "source": [
    "We can see that those outliers are significantly skewing our distribution, but let's do a quick shapiro-wilkes test anyway."
   ]
  },
  {
   "cell_type": "code",
   "execution_count": 136,
   "metadata": {},
   "outputs": [
    {
     "name": "stdout",
     "output_type": "stream",
     "text": [
      "p = 0.0 \t Therefore the data is not normal\n",
      "p = 1.3032075718220799e-43 \t Therefore the data is not normal\n"
     ]
    },
    {
     "data": {
      "text/plain": [
       "(False, False)"
      ]
     },
     "execution_count": 136,
     "metadata": {},
     "output_type": "execute_result"
    }
   ],
   "source": [
    "# check normality with shapiro, wilkes\n",
    "test_normality(full_cost_sales), test_normality(discount_sales)"
   ]
  },
  {
   "cell_type": "markdown",
   "metadata": {},
   "source": [
    "**Drop Outliers:** Let's drop values above $2500 to see if we can get a more workable set of data. "
   ]
  },
  {
   "cell_type": "code",
   "execution_count": 137,
   "metadata": {},
   "outputs": [
    {
     "data": {
      "text/html": [
       "<div>\n",
       "<style scoped>\n",
       "    .dataframe tbody tr th:only-of-type {\n",
       "        vertical-align: middle;\n",
       "    }\n",
       "\n",
       "    .dataframe tbody tr th {\n",
       "        vertical-align: top;\n",
       "    }\n",
       "\n",
       "    .dataframe thead th {\n",
       "        text-align: right;\n",
       "    }\n",
       "</style>\n",
       "<table border=\"1\" class=\"dataframe\">\n",
       "  <thead>\n",
       "    <tr style=\"text-align: right;\">\n",
       "      <th></th>\n",
       "      <th>OrderId</th>\n",
       "      <th>ProductId</th>\n",
       "      <th>UnitPrice</th>\n",
       "      <th>Quantity</th>\n",
       "      <th>Discount</th>\n",
       "      <th>EmployeeId</th>\n",
       "      <th>y_discount</th>\n",
       "      <th>Expected_Revenue</th>\n",
       "      <th>DiscountCost</th>\n",
       "      <th>Actual_Revenue</th>\n",
       "    </tr>\n",
       "  </thead>\n",
       "  <tbody>\n",
       "    <tr>\n",
       "      <th>count</th>\n",
       "      <td>2100.000000</td>\n",
       "      <td>2100.000000</td>\n",
       "      <td>2100.000000</td>\n",
       "      <td>2100.000000</td>\n",
       "      <td>2100.000000</td>\n",
       "      <td>2100.000000</td>\n",
       "      <td>2100.000000</td>\n",
       "      <td>2100.000000</td>\n",
       "      <td>2100.000000</td>\n",
       "      <td>2100.000000</td>\n",
       "    </tr>\n",
       "    <tr>\n",
       "      <th>mean</th>\n",
       "      <td>10658.499524</td>\n",
       "      <td>40.857143</td>\n",
       "      <td>23.664733</td>\n",
       "      <td>22.871905</td>\n",
       "      <td>0.056114</td>\n",
       "      <td>4.331429</td>\n",
       "      <td>0.388571</td>\n",
       "      <td>504.610929</td>\n",
       "      <td>32.848053</td>\n",
       "      <td>471.762876</td>\n",
       "    </tr>\n",
       "    <tr>\n",
       "      <th>std</th>\n",
       "      <td>241.601506</td>\n",
       "      <td>22.304288</td>\n",
       "      <td>21.196577</td>\n",
       "      <td>17.625971</td>\n",
       "      <td>0.083290</td>\n",
       "      <td>2.488212</td>\n",
       "      <td>0.487542</td>\n",
       "      <td>500.134327</td>\n",
       "      <td>73.748546</td>\n",
       "      <td>464.836586</td>\n",
       "    </tr>\n",
       "    <tr>\n",
       "      <th>min</th>\n",
       "      <td>10248.000000</td>\n",
       "      <td>1.000000</td>\n",
       "      <td>2.000000</td>\n",
       "      <td>1.000000</td>\n",
       "      <td>0.000000</td>\n",
       "      <td>1.000000</td>\n",
       "      <td>0.000000</td>\n",
       "      <td>4.800000</td>\n",
       "      <td>0.000000</td>\n",
       "      <td>4.800000</td>\n",
       "    </tr>\n",
       "    <tr>\n",
       "      <th>25%</th>\n",
       "      <td>10449.000000</td>\n",
       "      <td>21.000000</td>\n",
       "      <td>12.000000</td>\n",
       "      <td>10.000000</td>\n",
       "      <td>0.000000</td>\n",
       "      <td>2.000000</td>\n",
       "      <td>0.000000</td>\n",
       "      <td>150.000000</td>\n",
       "      <td>0.000000</td>\n",
       "      <td>144.000000</td>\n",
       "    </tr>\n",
       "    <tr>\n",
       "      <th>50%</th>\n",
       "      <td>10657.000000</td>\n",
       "      <td>41.000000</td>\n",
       "      <td>18.000000</td>\n",
       "      <td>20.000000</td>\n",
       "      <td>0.000000</td>\n",
       "      <td>4.000000</td>\n",
       "      <td>0.000000</td>\n",
       "      <td>349.000000</td>\n",
       "      <td>0.000000</td>\n",
       "      <td>323.000000</td>\n",
       "    </tr>\n",
       "    <tr>\n",
       "      <th>75%</th>\n",
       "      <td>10861.000000</td>\n",
       "      <td>60.000000</td>\n",
       "      <td>31.050000</td>\n",
       "      <td>30.000000</td>\n",
       "      <td>0.100000</td>\n",
       "      <td>7.000000</td>\n",
       "      <td>1.000000</td>\n",
       "      <td>667.200000</td>\n",
       "      <td>29.580000</td>\n",
       "      <td>616.700000</td>\n",
       "    </tr>\n",
       "    <tr>\n",
       "      <th>max</th>\n",
       "      <td>11077.000000</td>\n",
       "      <td>77.000000</td>\n",
       "      <td>263.500000</td>\n",
       "      <td>130.000000</td>\n",
       "      <td>0.250000</td>\n",
       "      <td>9.000000</td>\n",
       "      <td>1.000000</td>\n",
       "      <td>3080.000000</td>\n",
       "      <td>618.950000</td>\n",
       "      <td>2475.800000</td>\n",
       "    </tr>\n",
       "  </tbody>\n",
       "</table>\n",
       "</div>"
      ],
      "text/plain": [
       "            OrderId    ProductId    UnitPrice     Quantity     Discount  \\\n",
       "count   2100.000000  2100.000000  2100.000000  2100.000000  2100.000000   \n",
       "mean   10658.499524    40.857143    23.664733    22.871905     0.056114   \n",
       "std      241.601506    22.304288    21.196577    17.625971     0.083290   \n",
       "min    10248.000000     1.000000     2.000000     1.000000     0.000000   \n",
       "25%    10449.000000    21.000000    12.000000    10.000000     0.000000   \n",
       "50%    10657.000000    41.000000    18.000000    20.000000     0.000000   \n",
       "75%    10861.000000    60.000000    31.050000    30.000000     0.100000   \n",
       "max    11077.000000    77.000000   263.500000   130.000000     0.250000   \n",
       "\n",
       "        EmployeeId   y_discount  Expected_Revenue  DiscountCost  \\\n",
       "count  2100.000000  2100.000000       2100.000000   2100.000000   \n",
       "mean      4.331429     0.388571        504.610929     32.848053   \n",
       "std       2.488212     0.487542        500.134327     73.748546   \n",
       "min       1.000000     0.000000          4.800000      0.000000   \n",
       "25%       2.000000     0.000000        150.000000      0.000000   \n",
       "50%       4.000000     0.000000        349.000000      0.000000   \n",
       "75%       7.000000     1.000000        667.200000     29.580000   \n",
       "max       9.000000     1.000000       3080.000000    618.950000   \n",
       "\n",
       "       Actual_Revenue  \n",
       "count     2100.000000  \n",
       "mean       471.762876  \n",
       "std        464.836586  \n",
       "min          4.800000  \n",
       "25%        144.000000  \n",
       "50%        323.000000  \n",
       "75%        616.700000  \n",
       "max       2475.800000  "
      ]
     },
     "execution_count": 137,
     "metadata": {},
     "output_type": "execute_result"
    }
   ],
   "source": [
    "# create a version of our dataframe that only has revenue less than or equal to 2500\n",
    "df3 = df3[df3['Actual_Revenue'] <= 2500]\n",
    "df3.describe()"
   ]
  },
  {
   "cell_type": "code",
   "execution_count": 138,
   "metadata": {},
   "outputs": [
    {
     "name": "stderr",
     "output_type": "stream",
     "text": [
      "/Users/rab/anaconda3/envs/learn-env/lib/python3.6/site-packages/scipy/stats/stats.py:1713: FutureWarning: Using a non-tuple sequence for multidimensional indexing is deprecated; use `arr[tuple(seq)]` instead of `arr[seq]`. In the future this will be interpreted as an array index, `arr[np.array(seq)]`, which will result either in an error or a different result.\n",
      "  return np.add.reduce(sorted[indexer] * weights, axis=axis) / sumval\n"
     ]
    },
    {
     "data": {
      "text/plain": [
       "<matplotlib.axes._subplots.AxesSubplot at 0x1a177928d0>"
      ]
     },
     "execution_count": 138,
     "metadata": {},
     "output_type": "execute_result"
    },
    {
     "data": {
      "image/png": "[encoded data removed]",
      "text/plain": [
       "<Figure size 432x288 with 1 Axes>"
      ]
     },
     "metadata": {
      "needs_background": "light"
     },
     "output_type": "display_data"
    }
   ],
   "source": [
    "sns.distplot(df3.Actual_Revenue)"
   ]
  },
  {
   "cell_type": "markdown",
   "metadata": {},
   "source": [
    "We've dropped 55 sales and have a slightly better distribution. It's still very skewed, but by sampling we can likely reduce that effect.\n",
    "\n",
    "Let's compare again."
   ]
  },
  {
   "cell_type": "code",
   "execution_count": 139,
   "metadata": {},
   "outputs": [
    {
     "name": "stdout",
     "output_type": "stream",
     "text": [
      "The size of group1 is: 1284  \t  The size of group2 is 816\n",
      "The mean of group1 is: 457.02450934579434 \t  The mean of group2 is: 494.95412928921564\n",
      "The std of group1 is: 453.1438289746369 \t  The std of group2 is: 482.031987623719\n"
     ]
    }
   ],
   "source": [
    "# create two groups based on discount and compare\n",
    "full_cost_sales = df3[df3['y_discount'] == 0]['Actual_Revenue']\n",
    "discount_sales = df3[df3['y_discount'] == 1]['Actual_Revenue']\n",
    "\n",
    "compare_2(full_cost_sales, discount_sales)"
   ]
  },
  {
   "cell_type": "markdown",
   "metadata": {},
   "source": [
    "**Observations:** \n",
    "* The size of both groups is still sufficiently large enough for analysis\n",
    "* The means of both groups have become closer"
   ]
  },
  {
   "cell_type": "code",
   "execution_count": 140,
   "metadata": {},
   "outputs": [
    {
     "name": "stdout",
     "output_type": "stream",
     "text": [
      "p = 2.1221477389517116e-36 \t Therefore the data is not normal\n",
      "p = 1.9628763524945976e-29 \t Therefore the data is not normal\n"
     ]
    },
    {
     "data": {
      "text/plain": [
       "(False, False)"
      ]
     },
     "execution_count": 140,
     "metadata": {},
     "output_type": "execute_result"
    }
   ],
   "source": [
    "# Check normality with shapiro-wilkes\n",
    "test_normality(full_cost_sales), test_normality(discount_sales)"
   ]
  },
  {
   "cell_type": "markdown",
   "metadata": {},
   "source": [
    "#### Sample\n",
    "The data is still not normal, so we can sample to see if we can increase normality. We'll use the same sampling method as above."
   ]
  },
  {
   "cell_type": "code",
   "execution_count": 145,
   "metadata": {},
   "outputs": [
    {
     "name": "stdout",
     "output_type": "stream",
     "text": [
      "p = 0.9067633152008057 \t Therefore the data is normal\n",
      "p = 0.46802377700805664 \t Therefore the data is normal\n"
     ]
    },
    {
     "data": {
      "text/plain": [
       "(True, True)"
      ]
     },
     "execution_count": 145,
     "metadata": {},
     "output_type": "execute_result"
    }
   ],
   "source": [
    "# create two random samples with replacement\n",
    "full_cost_sample = random_sample(full_cost_sales, size=100)\n",
    "discount_rev_sample = random_sample(discount_sales, size=100)\n",
    "\n",
    "# test for normality with shapiro-wilkes \n",
    "test_normality(full_cost_sample), test_normality(discount_rev_sample)"
   ]
  },
  {
   "cell_type": "code",
   "execution_count": 195,
   "metadata": {},
   "outputs": [
    {
     "name": "stdout",
     "output_type": "stream",
     "text": [
      "The size of group1 is: 100  \t  The size of group2 is 100\n",
      "The mean of group1 is: 452.9883933333333 \t  The mean of group2 is: 494.66083750000007\n",
      "The std of group1 is: 74.37433169624495 \t  The std of group2 is: 88.22346809859715\n"
     ]
    }
   ],
   "source": [
    "# get the size, mean and standard error of both samples\n",
    "compare_2(np.array(full_cost_sample), np.array(discount_rev_sample))"
   ]
  },
  {
   "cell_type": "markdown",
   "metadata": {},
   "source": [
    "Let's inspect our distributions visually."
   ]
  },
  {
   "cell_type": "code",
   "execution_count": 146,
   "metadata": {},
   "outputs": [
    {
     "name": "stderr",
     "output_type": "stream",
     "text": [
      "/Users/rab/anaconda3/envs/learn-env/lib/python3.6/site-packages/scipy/stats/stats.py:1713: FutureWarning: Using a non-tuple sequence for multidimensional indexing is deprecated; use `arr[tuple(seq)]` instead of `arr[seq]`. In the future this will be interpreted as an array index, `arr[np.array(seq)]`, which will result either in an error or a different result.\n",
      "  return np.add.reduce(sorted[indexer] * weights, axis=axis) / sumval\n"
     ]
    },
    {
     "data": {
      "text/plain": [
       "Text(0.5, 1.0, 'Full Cost vs. Discount Samples')"
      ]
     },
     "execution_count": 146,
     "metadata": {},
     "output_type": "execute_result"
    },
    {
     "data": {
      "image/png": "[encoded data removed]",
      "text/plain": [
       "<Figure size 432x288 with 1 Axes>"
      ]
     },
     "metadata": {
      "needs_background": "light"
     },
     "output_type": "display_data"
    }
   ],
   "source": [
    "# plot two distribution plots and compare\n",
    "sns.distplot(full_cost_sample, label='Full Cost')\n",
    "sns.distplot(discount_rev_sample, label='Discounted')\n",
    "plt.legend()\n",
    "plt.title('Full Cost vs. Discount Samples')"
   ]
  },
  {
   "cell_type": "code",
   "execution_count": 147,
   "metadata": {},
   "outputs": [
    {
     "name": "stdout",
     "output_type": "stream",
     "text": [
      "p = 0.24261886045061107 \t Therefore the data has equal variances\n"
     ]
    },
    {
     "data": {
      "text/plain": [
       "True"
      ]
     },
     "execution_count": 147,
     "metadata": {},
     "output_type": "execute_result"
    }
   ],
   "source": [
    "# compare variance with Levene's test\n",
    "test_variance(full_cost_sample, discount_rev_sample)"
   ]
  },
  {
   "cell_type": "markdown",
   "metadata": {},
   "source": [
    "#### Statistical Test \n",
    "\n",
    "We've seen that we have normally distributed data with equal variance, therefore we can do a conduct a t-test to see if there is a significant effect of discount on actual revenue. We have to remember that we are only considering sales at or below 2500, and we're looking for an increase in revenue, so we'll state our hypotheses as: \n",
    "\n",
    "**H0: Discount has no statistically significant effect on revenue for sales below 2500** \n",
    "\n",
    "**Ha: Discount has a statistically significant and positive effect on revenue for sales over 2500**\n",
    "\n",
    "We'll aim for a confidence level of 95%, so we will set **alpha = .05** and look for a p-value below that if we would like to reject the null hypothesis. "
   ]
  },
  {
   "cell_type": "code",
   "execution_count": 198,
   "metadata": {},
   "outputs": [
    {
     "name": "stdout",
     "output_type": "stream",
     "text": [
      "With a p-value of 0.000411973377364855, which is less than 0.05 we can reject the H0 and accept Ha\n"
     ]
    },
    {
     "data": {
      "text/plain": [
       "False"
      ]
     },
     "execution_count": 198,
     "metadata": {},
     "output_type": "execute_result"
    }
   ],
   "source": [
    "# conduct an t-test with two independent samples (full cost and discount) with equal varance\n",
    "p = stats.ttest_ind(full_cost_sample, discount_rev_sample, equal_var=True)[1]\n",
    "check_null_hypothesis(p)"
   ]
  },
  {
   "cell_type": "markdown",
   "metadata": {},
   "source": [
    "Our p-value is below the threshold we set for alpha, which may mean that we can reject H0, but before we do so we should check our effect size to get an idea of how much discounts actually raise revenue. \n",
    "\n",
    "#### Check effect of discount on revenue"
   ]
  },
  {
   "cell_type": "code",
   "execution_count": 199,
   "metadata": {},
   "outputs": [
    {
     "data": {
      "text/plain": [
       "0.510733876808748"
      ]
     },
     "execution_count": 199,
     "metadata": {},
     "output_type": "execute_result"
    }
   ],
   "source": [
    "# Derive cohen's d to determint effect size\n",
    "revenue_effect = cohen_d(full_cost_sample, discount_rev_sample)\n",
    "revenue_effect"
   ]
  },
  {
   "cell_type": "markdown",
   "metadata": {},
   "source": [
    "**Observations:** An effect of **.51** falls just within the medium range of effect size. This means that the mean of our sample group is **only roughly .5 standard errors away from the control mean, and that there is roughly 80% overlap in the two samples.** This does not give a lot of confidence in our ability to reject H0. \n",
    "\n",
    "Before we make a final conclusion let's look at power. \n",
    "\n",
    "#### Check power"
   ]
  },
  {
   "cell_type": "code",
   "execution_count": 201,
   "metadata": {},
   "outputs": [
    {
     "data": {
      "text/plain": [
       "0.9488598981230547"
      ]
     },
     "execution_count": 201,
     "metadata": {},
     "output_type": "execute_result"
    }
   ],
   "source": [
    "# enter effect, number of observations, and alpha to determine power\n",
    "power.solve_power(effect_size=revenue_effect, nobs1=len(discount_rev_sample), alpha=.05)"
   ]
  },
  {
   "cell_type": "markdown",
   "metadata": {},
   "source": [
    "With a large result for power **(.95)** we can conclude that we have seen enough data to make a conclusion. \n",
    "\n",
    "#### Q4 Part 1 Conclusion\n",
    "At this time we can answer the first part of our question - **does discount have a statistically significant and positive effect on revenue?**\n",
    "\n",
    "With a very low p-value we can **potentially reject H0** and claim that discount does have a statistically significant effect on revenue. However, we also have a **medium to small effect size**. So at this time we will reserve judgment and suggest further analysis. \n",
    "\n",
    "Let's answer the second part of our, question. What discount sizes have a significant effect. \n",
    "\n",
    "#### Q4 Part 2\n",
    "\n",
    "To make an initial assessment as to whether or not other factors play effect revenue, we can conduct an ANOVA with both EmployeeId and Discount to see if there is any variability in their relationship with total discount. \n",
    "\n",
    "#### Statistical Test - ANOVA\n",
    "\n",
    "For this ANOVA our hypotheses will be:\n",
    "\n",
    "**H01: Different Employees have no statistically significant effect on Actual Revenue**\n",
    "**H02: Different Discount rates have no statistically significant effect on Actual Revenue**\n",
    "\n",
    "**Ha1: There is a statistically significant variance between different Employees and Actual Revenue**\n",
    "**Ha2: There is a statistically significant variance between different Employees and Actual Revenue**\n",
    "\n",
    "For this analysis we will seek 95% confidence and set **alpha = .05**"
   ]
  },
  {
   "cell_type": "code",
   "execution_count": 203,
   "metadata": {},
   "outputs": [
    {
     "data": {
      "text/html": [
       "<div>\n",
       "<style scoped>\n",
       "    .dataframe tbody tr th:only-of-type {\n",
       "        vertical-align: middle;\n",
       "    }\n",
       "\n",
       "    .dataframe tbody tr th {\n",
       "        vertical-align: top;\n",
       "    }\n",
       "\n",
       "    .dataframe thead th {\n",
       "        text-align: right;\n",
       "    }\n",
       "</style>\n",
       "<table border=\"1\" class=\"dataframe\">\n",
       "  <thead>\n",
       "    <tr style=\"text-align: right;\">\n",
       "      <th></th>\n",
       "      <th>sum_sq</th>\n",
       "      <th>df</th>\n",
       "      <th>F</th>\n",
       "      <th>PR(&gt;F)</th>\n",
       "    </tr>\n",
       "  </thead>\n",
       "  <tbody>\n",
       "    <tr>\n",
       "      <th>C(EmployeeId)</th>\n",
       "      <td>1.452500e+06</td>\n",
       "      <td>8.0</td>\n",
       "      <td>0.842893</td>\n",
       "      <td>0.564714</td>\n",
       "    </tr>\n",
       "    <tr>\n",
       "      <th>C(Discount)</th>\n",
       "      <td>4.006124e+06</td>\n",
       "      <td>10.0</td>\n",
       "      <td>1.859819</td>\n",
       "      <td>0.046349</td>\n",
       "    </tr>\n",
       "    <tr>\n",
       "      <th>Residual</th>\n",
       "      <td>4.482558e+08</td>\n",
       "      <td>2081.0</td>\n",
       "      <td>NaN</td>\n",
       "      <td>NaN</td>\n",
       "    </tr>\n",
       "  </tbody>\n",
       "</table>\n",
       "</div>"
      ],
      "text/plain": [
       "                     sum_sq      df         F    PR(>F)\n",
       "C(EmployeeId)  1.452500e+06     8.0  0.842893  0.564714\n",
       "C(Discount)    4.006124e+06    10.0  1.859819  0.046349\n",
       "Residual       4.482558e+08  2081.0       NaN       NaN"
      ]
     },
     "execution_count": 203,
     "metadata": {},
     "output_type": "execute_result"
    }
   ],
   "source": [
    "# create a formula with 'Actual_Revenue' as the target variable and \n",
    "# EmployeeId and Discount as categorical independent variables\n",
    "formula = 'Actual_Revenue ~ C(EmployeeId) + C(Discount)'\n",
    "\n",
    "# create a model our formual and data\n",
    "lm = ols(formula, df3).fit()\n",
    "\n",
    "# create an ANOVA table\n",
    "table = sm.stats.anova_lm(lm, typ=2)\n",
    "table"
   ]
  },
  {
   "cell_type": "markdown",
   "metadata": {},
   "source": [
    "**Observations:** \n",
    "* With a p-value of .56 we **fail to reject H01** and conclude that there is no significant variance between Actual Revenue for employees\n",
    "* With a p-value of .046 we can **reject H02** and **accept Ha2** and claim significant variance between discount values. However, with a p-value **.046 we are very close to alpha** We still have a reasonable chance of type-1 error. \n",
    "\n",
    "Let's look further at discount rates. We know from our previous analysis that only the 5%, 10%, 15%, 20% and 25% rates have a significant effect on quantity ordered, so we only consider those for our next round of analysis. \n",
    "\n",
    "We can create new samples with each rate and check assumptions as before. "
   ]
  },
  {
   "cell_type": "code",
   "execution_count": 179,
   "metadata": {},
   "outputs": [
    {
     "name": "stdout",
     "output_type": "stream",
     "text": [
      "p = 0.1542452573776245 \t Therefore the data is normal\n",
      "5% Discount: True\n",
      "p = 0.1346694246261717 \t Therefore the data has equal variances\n",
      "5% Discount: True\n",
      "\n",
      "p = 0.649016797542572 \t Therefore the data is normal\n",
      "10% Discount: True\n",
      "p = 0.051123969390003396 \t Therefore the data has equal variances\n",
      "10% Discount: True\n",
      "\n",
      "p = 0.4773898422718048 \t Therefore the data is normal\n",
      "15% Discount: True\n",
      "p = 0.05498102570609783 \t Therefore the data has equal variances\n",
      "15% Discount: True\n",
      "\n",
      "p = 0.4168056845664978 \t Therefore the data is normal\n",
      "20% Discount: True\n",
      "p = 0.636604530005191 \t Therefore the data has equal variances\n",
      "20% Discount: True\n",
      "\n",
      "p = 0.7772917151451111 \t Therefore the data is normal\n",
      "25% Discount: True\n",
      "p = 0.6528580513300175 \t Therefore the data has equal variances\n",
      "25% Discount: True\n",
      "\n"
     ]
    }
   ],
   "source": [
    "# create a random sample using the bootstrap method for each level of discount\n",
    "five_rev_sample = random_sample(df3[df3['Discount'] == .05]['Actual_Revenue'], size=100)\n",
    "ten_rev_sample = random_sample(df3[df3['Discount'] == .1]['Actual_Revenue'], size=100)\n",
    "fifteen_rev_sample = random_sample(df3[df3['Discount'] == .15]['Actual_Revenue'], size=100)\n",
    "twenty_rev_sample = random_sample(df3[df3['Discount'] == .2]['Actual_Revenue'], size=100)\n",
    "twentyfive_rev_sample = random_sample(df3[df3['Discount'] == .25]['Actual_Revenue'], size=100)\n",
    "\n",
    "# create a dictionary of samples to iterate through for easier analysis\n",
    "revenue_samples = {'5% Discount':five_rev_sample, \n",
    "                    '10% Discount':ten_rev_sample, \n",
    "                    '15% Discount':fifteen_rev_sample, \n",
    "                    '20% Discount':twenty_rev_sample, \n",
    "                    '25% Discount':twentyfive_rev_sample}\n",
    "\n",
    "# test the normality and compare variance for each discount sample and print results\n",
    "for s in revenue_samples:\n",
    "    print(f'{s}: {test_normality(revenue_samples[s])}')\n",
    "    print(f'{s}: {test_variance(revenue_samples[s], full_cost_sample)}\\n')"
   ]
  },
  {
   "cell_type": "markdown",
   "metadata": {},
   "source": [
    "**Observations:**\n",
    "* Our samples are all normal and have equal variance with our control (non-discount) sample\n",
    "* We will be doing multiple comparisons, so it is therefor appropriate to apply the Bonferroni Correction"
   ]
  },
  {
   "cell_type": "code",
   "execution_count": 185,
   "metadata": {},
   "outputs": [
    {
     "data": {
      "text/plain": [
       "0.01"
      ]
     },
     "execution_count": 185,
     "metadata": {},
     "output_type": "execute_result"
    }
   ],
   "source": [
    "# set a new level of alpha by applying the Bonferroni correction\n",
    "# enter the number of observations and original level of alpha\n",
    "b_alpha = bonferroni_alpha(obs=5, alpha=alpha)\n",
    "b_alpha"
   ]
  },
  {
   "cell_type": "markdown",
   "metadata": {},
   "source": [
    "#### Statistical Test\n",
    "We'll conduct an independent t-test with two samples for each discount sample. Our hypotheses will be: \n",
    "\n",
    "**H0: Discount rate X has no statistically significant effect on actual revenue** \n",
    "\n",
    "**Ha: Discount rate X has a statistically significant and positive effect on actual revenue**\n",
    "\n",
    "We'll use our corrected value for **alpha - .01**"
   ]
  },
  {
   "cell_type": "code",
   "execution_count": 204,
   "metadata": {},
   "outputs": [
    {
     "name": "stdout",
     "output_type": "stream",
     "text": [
      "With a p-value of 1.0412959401391016e-18, which is less than 0.01 we can reject the H0 and accept Ha\n",
      "5% Discount: False\n",
      "\n",
      "With a p-value of 0.0007715624537032279, which is less than 0.01 we can reject the H0 and accept Ha\n",
      "10% Discount: False\n",
      "\n",
      "With a p-value of 4.700094273719026e-06, which is less than 0.01 we can reject the H0 and accept Ha\n",
      "15% Discount: False\n",
      "\n",
      "With a p-value of 0.47314379470490864, which is greater than 0.01, at this time we fail to reject the H0\n",
      "20% Discount: True\n",
      "\n",
      "With a p-value of 0.4034502280055433, which is greater than 0.01, at this time we fail to reject the H0\n",
      "25% Discount: True\n",
      "\n",
      "The ['5% Discount', '10% Discount', '15% Discount'] rates appear to have a statistically significant effect on revenue.\n"
     ]
    }
   ],
   "source": [
    "# find p-value and conduct a t-test with two independent samples and equal variance for each sample\n",
    "# and add any rejections to a list for further analysis\n",
    "revenue_rates = []\n",
    "for s in revenue_samples:\n",
    "    p = stats.ttest_ind(full_cost_sample, revenue_samples[s], axis=0, equal_var=True)[1]\n",
    "    results = check_null_hypothesis(p, alpha=b_alpha)\n",
    "    print(f'{s}: {results}\\n')\n",
    "    if results == False:\n",
    "        revenue_rates.append(s)\n",
    "print(f'The {revenue_rates} rates appear to have a statistically significant effect on revenue.')"
   ]
  },
  {
   "cell_type": "markdown",
   "metadata": {},
   "source": [
    "**Observations:**\n",
    "* At this time it appears we may be able to reject H0 for three discount rates - 5, 10, and 15%\n",
    "    * we'll check effect size and power before we make a final conclusion\n",
    "* We **fail to reject H0** the 20% and 25% rates - these rates do not have an effect on actual revenue\n",
    "\n",
    "Let's visualize our distributions to see how they look before calculating effect. "
   ]
  },
  {
   "cell_type": "code",
   "execution_count": 210,
   "metadata": {},
   "outputs": [
    {
     "name": "stderr",
     "output_type": "stream",
     "text": [
      "/Users/rab/anaconda3/envs/learn-env/lib/python3.6/site-packages/scipy/stats/stats.py:1713: FutureWarning: Using a non-tuple sequence for multidimensional indexing is deprecated; use `arr[tuple(seq)]` instead of `arr[seq]`. In the future this will be interpreted as an array index, `arr[np.array(seq)]`, which will result either in an error or a different result.\n",
      "  return np.add.reduce(sorted[indexer] * weights, axis=axis) / sumval\n"
     ]
    },
    {
     "data": {
      "text/plain": [
       "<matplotlib.legend.Legend at 0x1c1b9a8940>"
      ]
     },
     "execution_count": 210,
     "metadata": {},
     "output_type": "execute_result"
    },
    {
     "data": {
      "image/png": "[encoded data removed]",
      "text/plain": [
       "<Figure size 432x288 with 1 Axes>"
      ]
     },
     "metadata": {
      "needs_background": "light"
     },
     "output_type": "display_data"
    }
   ],
   "source": [
    "# plot distplots for all discount rates and compare to the non-discount group\n",
    "for r in revenue_rates: \n",
    "    sns.distplot(revenue_samples[r], label=(f'{r}'))\n",
    "    \n",
    "sns.distplot(full_cost_sample, label='Full Cost')\n",
    "plt.legend()"
   ]
  },
  {
   "cell_type": "markdown",
   "metadata": {},
   "source": [
    "**Observations:**\n",
    "* Based on the visual distance of the means it looks like 5% is the only rate with a large effect on revenue\n",
    "* 10% is almost entirely covered by the Full Cost distribution and likely has a small effect\n",
    "\n",
    "#### Calculate effect sizes"
   ]
  },
  {
   "cell_type": "code",
   "execution_count": 191,
   "metadata": {},
   "outputs": [
    {
     "data": {
      "text/plain": [
       "{'5% Discount': 1.3915222876818896,\n",
       " '10% Discount': 0.48550132640881466,\n",
       " '15% Discount': 0.66913616857407}"
      ]
     },
     "execution_count": 191,
     "metadata": {},
     "output_type": "execute_result"
    }
   ],
   "source": [
    "# calculate effect sizes of each result and add to a dictionary\n",
    "revenue_effects = {}\n",
    "for r in revenue_rates:\n",
    "    revenue_effects[r] = cohen_d(revenue_samples[r], full_cost_sample)\n",
    "revenue_effects"
   ]
  },
  {
   "cell_type": "markdown",
   "metadata": {},
   "source": [
    "* **5%** is the only discount rate with a large effect.\n",
    "* 10% is small and 15% is medium\n",
    "\n",
    "#### Check statistical power"
   ]
  },
  {
   "cell_type": "code",
   "execution_count": 211,
   "metadata": {},
   "outputs": [
    {
     "data": {
      "text/plain": [
       "{'5% Discount': 1.0,\n",
       " '10% Discount': 0.7962713854706021,\n",
       " '15% Discount': 0.9828218311505225}"
      ]
     },
     "execution_count": 211,
     "metadata": {},
     "output_type": "execute_result"
    }
   ],
   "source": [
    "#  solve for power by entering effect size, number of observations, and\n",
    "# bonferroni alpha for each\n",
    "revenue_powers = {}\n",
    "for e in revenue_effects:\n",
    "    revenue_powers[e] = power.solve_power(effect_size=revenue_effects[e], \n",
    "                                          nobs1=len(revenue_samples[e]),\n",
    "                                          alpha=b_alpha)\n",
    "revenue_powers"
   ]
  },
  {
   "cell_type": "markdown",
   "metadata": {},
   "source": [
    "#### Q4 Part 2 Conclusions\n",
    "* Finally, with an extremely low p-value and large effect and power size, we can confidently **reject H0** at the 5% discount rate and **accept Ha**, claiming that it has a large and statistically significant effect on actual revenue - meaning that sales made with a 5% discount not only increase quantity sold, but also increase revenue gained\n",
    "\n",
    "* We'll **reserve judgment and fail to reject H0 for the 10% and 15% rates** at this time. Although they were found to have sufficiently low p-values, their effect sizes and statistical power were not large enough to accept Ha, we suggest further research on the effect these rates have on sales. \n",
    "\n",
    "* The 20% and 25% samples were found to have no effect on revenue. However, earlier we did determine that they have large and significant effects on quantity. We'll discuss this more in the project conclusions. "
   ]
  },
  {
   "cell_type": "markdown",
   "metadata": {},
   "source": [
    "## Project Conclusions\n",
    "\n",
    "At this point we've done a fairly thorough analysis of our questions and come to the following conclusions: \n",
    "\n",
    "1. Discount does appear to have a large statistically significant effect on quantity sold per order\n",
    "    * We found this to be true for  the 5%, 10%, 15%, 20%, and 25% rates\n",
    "    * The 25% rate had the largest effect, followed by 15% and 5% \n",
    "\n",
    "2. Although employees have sold a large range of total quantities, they all sell roughly the same quantity per order.\n",
    "\n",
    "3. Employees 5 and 7 use discount rates at a large statistically significantly different rate than the overall average\n",
    "    * This is particularly interesting because they also sell less total quantity than many other employees, despite discounts leading to greater quantities sold\n",
    "\n",
    "4. Although discounts lead to greater quantity sold, they do not result in a large effect on revenue\n",
    "    * There is a moderate effect on actual revenue\n",
    "    * The 5% discount rate is the only one that significantly leads to increased revenue\n",
    "      - This is important because we would hope that the larger sale by quantity would also result in an increase in revenue\n",
    "      - The sale encourages customers to spend a greater amount\n",
    "    * The 20% and 25% discount rates have no effect on revenue, but large effects on quantity\n",
    "      - This is important because it is a significant discount, it should have positive effects \n",
    "\n",
    "### Next Steps and Recommendations\n",
    "\n",
    "**Next Steps:**\n",
    "* There is a great deal of research that needs to be done to determine greater effects of discount and discount use\n",
    "* We should do research into whether or not discounts lead to greater return customers, or what amount of additional sales can be expected after giving a discount, and at which rates\n",
    "    - As of now it appears that employees that use the largest discounts sell less overall, even though they may sell more per order. This could mean that overly generous deals are resulting in less return business\n",
    "* Similarly, we should see what, if any, relationship there is between discount and marketing or inventory strategies, such customer acquisition, product bundling, and stock clearing strategies\n",
    "\n",
    "**Recommendations:**\n",
    "* As discussed previously, and **outlined below**, not all employees use discounts evenly\n",
    "* Employees 5, 7, and 9 use high discount rates disproportionately to their peers, but also have lower total sales figures\n",
    "   - This may be the result of a number of factors: they may be new and have had less time to accumulate total sales, they may be working to enter new markets, and they may have poor sales techniques and rely too heavily on large discounts to close deals\n",
    "   - If the latter in the case, we recommend sales training and coaching from more seasoned employees\n",
    "* As all sales rates result in larger quantity sold per order, but only the 5% rate results in greater revenue per order, we recommend capping large discretionary discounts for sales people "
   ]
  },
  {
   "cell_type": "code",
   "execution_count": 238,
   "metadata": {},
   "outputs": [
    {
     "data": {
      "text/html": [
       "<div>\n",
       "<style scoped>\n",
       "    .dataframe tbody tr th:only-of-type {\n",
       "        vertical-align: middle;\n",
       "    }\n",
       "\n",
       "    .dataframe tbody tr th {\n",
       "        vertical-align: top;\n",
       "    }\n",
       "\n",
       "    .dataframe thead th {\n",
       "        text-align: right;\n",
       "    }\n",
       "</style>\n",
       "<table border=\"1\" class=\"dataframe\">\n",
       "  <thead>\n",
       "    <tr style=\"text-align: right;\">\n",
       "      <th>Discount</th>\n",
       "      <th>0.0</th>\n",
       "      <th>0.01</th>\n",
       "      <th>0.02</th>\n",
       "      <th>0.03</th>\n",
       "      <th>0.04</th>\n",
       "      <th>0.05</th>\n",
       "      <th>0.06</th>\n",
       "      <th>0.1</th>\n",
       "      <th>0.15</th>\n",
       "      <th>0.2</th>\n",
       "      <th>0.25</th>\n",
       "      <th>All</th>\n",
       "    </tr>\n",
       "    <tr>\n",
       "      <th>EmployeeId</th>\n",
       "      <th></th>\n",
       "      <th></th>\n",
       "      <th></th>\n",
       "      <th></th>\n",
       "      <th></th>\n",
       "      <th></th>\n",
       "      <th></th>\n",
       "      <th></th>\n",
       "      <th></th>\n",
       "      <th></th>\n",
       "      <th></th>\n",
       "      <th></th>\n",
       "    </tr>\n",
       "  </thead>\n",
       "  <tbody>\n",
       "    <tr>\n",
       "      <th>1</th>\n",
       "      <td>0.61</td>\n",
       "      <td>0.0</td>\n",
       "      <td>0.01</td>\n",
       "      <td>0.01</td>\n",
       "      <td>0.0</td>\n",
       "      <td>0.12</td>\n",
       "      <td>0.0</td>\n",
       "      <td>0.08</td>\n",
       "      <td>0.04</td>\n",
       "      <td>0.07</td>\n",
       "      <td>0.06</td>\n",
       "      <td>1.0</td>\n",
       "    </tr>\n",
       "    <tr>\n",
       "      <th>2</th>\n",
       "      <td>0.68</td>\n",
       "      <td>0.0</td>\n",
       "      <td>0.00</td>\n",
       "      <td>0.00</td>\n",
       "      <td>0.0</td>\n",
       "      <td>0.07</td>\n",
       "      <td>0.0</td>\n",
       "      <td>0.07</td>\n",
       "      <td>0.07</td>\n",
       "      <td>0.07</td>\n",
       "      <td>0.04</td>\n",
       "      <td>1.0</td>\n",
       "    </tr>\n",
       "    <tr>\n",
       "      <th>3</th>\n",
       "      <td>0.68</td>\n",
       "      <td>0.0</td>\n",
       "      <td>0.00</td>\n",
       "      <td>0.00</td>\n",
       "      <td>0.0</td>\n",
       "      <td>0.05</td>\n",
       "      <td>0.0</td>\n",
       "      <td>0.08</td>\n",
       "      <td>0.06</td>\n",
       "      <td>0.06</td>\n",
       "      <td>0.07</td>\n",
       "      <td>1.0</td>\n",
       "    </tr>\n",
       "    <tr>\n",
       "      <th>4</th>\n",
       "      <td>0.60</td>\n",
       "      <td>0.0</td>\n",
       "      <td>0.00</td>\n",
       "      <td>0.00</td>\n",
       "      <td>0.0</td>\n",
       "      <td>0.10</td>\n",
       "      <td>0.0</td>\n",
       "      <td>0.05</td>\n",
       "      <td>0.08</td>\n",
       "      <td>0.09</td>\n",
       "      <td>0.09</td>\n",
       "      <td>1.0</td>\n",
       "    </tr>\n",
       "    <tr>\n",
       "      <th>5</th>\n",
       "      <td>0.50</td>\n",
       "      <td>0.0</td>\n",
       "      <td>0.00</td>\n",
       "      <td>0.00</td>\n",
       "      <td>0.0</td>\n",
       "      <td>0.18</td>\n",
       "      <td>0.0</td>\n",
       "      <td>0.09</td>\n",
       "      <td>0.10</td>\n",
       "      <td>0.01</td>\n",
       "      <td>0.13</td>\n",
       "      <td>1.0</td>\n",
       "    </tr>\n",
       "    <tr>\n",
       "      <th>6</th>\n",
       "      <td>0.59</td>\n",
       "      <td>0.0</td>\n",
       "      <td>0.00</td>\n",
       "      <td>0.00</td>\n",
       "      <td>0.0</td>\n",
       "      <td>0.08</td>\n",
       "      <td>0.0</td>\n",
       "      <td>0.16</td>\n",
       "      <td>0.06</td>\n",
       "      <td>0.05</td>\n",
       "      <td>0.06</td>\n",
       "      <td>1.0</td>\n",
       "    </tr>\n",
       "    <tr>\n",
       "      <th>7</th>\n",
       "      <td>0.52</td>\n",
       "      <td>0.0</td>\n",
       "      <td>0.00</td>\n",
       "      <td>0.00</td>\n",
       "      <td>0.0</td>\n",
       "      <td>0.07</td>\n",
       "      <td>0.0</td>\n",
       "      <td>0.11</td>\n",
       "      <td>0.06</td>\n",
       "      <td>0.18</td>\n",
       "      <td>0.06</td>\n",
       "      <td>1.0</td>\n",
       "    </tr>\n",
       "    <tr>\n",
       "      <th>8</th>\n",
       "      <td>0.64</td>\n",
       "      <td>0.0</td>\n",
       "      <td>0.00</td>\n",
       "      <td>0.00</td>\n",
       "      <td>0.0</td>\n",
       "      <td>0.05</td>\n",
       "      <td>0.0</td>\n",
       "      <td>0.09</td>\n",
       "      <td>0.08</td>\n",
       "      <td>0.07</td>\n",
       "      <td>0.08</td>\n",
       "      <td>1.0</td>\n",
       "    </tr>\n",
       "    <tr>\n",
       "      <th>9</th>\n",
       "      <td>0.56</td>\n",
       "      <td>0.0</td>\n",
       "      <td>0.00</td>\n",
       "      <td>0.00</td>\n",
       "      <td>0.0</td>\n",
       "      <td>0.08</td>\n",
       "      <td>0.0</td>\n",
       "      <td>0.03</td>\n",
       "      <td>0.19</td>\n",
       "      <td>0.04</td>\n",
       "      <td>0.10</td>\n",
       "      <td>1.0</td>\n",
       "    </tr>\n",
       "    <tr>\n",
       "      <th>All</th>\n",
       "      <td>0.61</td>\n",
       "      <td>0.0</td>\n",
       "      <td>0.00</td>\n",
       "      <td>0.00</td>\n",
       "      <td>0.0</td>\n",
       "      <td>0.09</td>\n",
       "      <td>0.0</td>\n",
       "      <td>0.08</td>\n",
       "      <td>0.07</td>\n",
       "      <td>0.07</td>\n",
       "      <td>0.07</td>\n",
       "      <td>1.0</td>\n",
       "    </tr>\n",
       "  </tbody>\n",
       "</table>\n",
       "</div>"
      ],
      "text/plain": [
       "Discount     0.0  0.01  0.02  0.03  0.04  0.05  0.06   0.1  0.15   0.2  0.25  \\\n",
       "EmployeeId                                                                     \n",
       "1           0.61   0.0  0.01  0.01   0.0  0.12   0.0  0.08  0.04  0.07  0.06   \n",
       "2           0.68   0.0  0.00  0.00   0.0  0.07   0.0  0.07  0.07  0.07  0.04   \n",
       "3           0.68   0.0  0.00  0.00   0.0  0.05   0.0  0.08  0.06  0.06  0.07   \n",
       "4           0.60   0.0  0.00  0.00   0.0  0.10   0.0  0.05  0.08  0.09  0.09   \n",
       "5           0.50   0.0  0.00  0.00   0.0  0.18   0.0  0.09  0.10  0.01  0.13   \n",
       "6           0.59   0.0  0.00  0.00   0.0  0.08   0.0  0.16  0.06  0.05  0.06   \n",
       "7           0.52   0.0  0.00  0.00   0.0  0.07   0.0  0.11  0.06  0.18  0.06   \n",
       "8           0.64   0.0  0.00  0.00   0.0  0.05   0.0  0.09  0.08  0.07  0.08   \n",
       "9           0.56   0.0  0.00  0.00   0.0  0.08   0.0  0.03  0.19  0.04  0.10   \n",
       "All         0.61   0.0  0.00  0.00   0.0  0.09   0.0  0.08  0.07  0.07  0.07   \n",
       "\n",
       "Discount    All  \n",
       "EmployeeId       \n",
       "1           1.0  \n",
       "2           1.0  \n",
       "3           1.0  \n",
       "4           1.0  \n",
       "5           1.0  \n",
       "6           1.0  \n",
       "7           1.0  \n",
       "8           1.0  \n",
       "9           1.0  \n",
       "All         1.0  "
      ]
     },
     "execution_count": 238,
     "metadata": {},
     "output_type": "execute_result"
    }
   ],
   "source": [
    "# create a pivot table that counts discount instances by employee\n",
    "dis_counts = df2.pivot_table(values='OrderId', \n",
    "                             index='EmployeeId', \n",
    "                             columns='Discount', \n",
    "                             aggfunc= np.count_nonzero,\n",
    "                             margins=True,\n",
    "                             fill_value=0)\n",
    "\n",
    "# create a pivot table with the rates each employee uses each discount rate\n",
    "dis_count2 = round(dis_counts.div(dis_counts.iloc[:,-1], axis=0 ), 2)\n",
    "dis_count2"
   ]
  },
  {
   "cell_type": "code",
   "execution_count": 258,
   "metadata": {},
   "outputs": [
    {
     "data": {
      "image/png": "[encoded data removed]",
      "text/plain": [
       "<Figure size 1296x432 with 3 Axes>"
      ]
     },
     "metadata": {
      "needs_background": "light"
     },
     "output_type": "display_data"
    }
   ],
   "source": [
    "# set figure size and axes for two side-by-side plots\n",
    "plt.figure(figsize=(18,6))\n",
    "ax1 = plt.subplot(1,3,1)\n",
    "ax2 = plt.subplot(1,3,2)\n",
    "ax3 = plt.subplot(1,3,3)\n",
    "\n",
    "# plot the 25% discount use rate\n",
    "a = dis_count2[0.25].plot.bar(ax= ax1)\n",
    "a.axes.set_title('25% Discount Use Rate')\n",
    "a.axes.set_xlabel('EmployeeId')\n",
    "a.axes.set_ylabel('% of Sales')\n",
    "\n",
    "# plot the 20% discount rate\n",
    "b = dis_count2[0.2].plot.bar(ax= ax2)\n",
    "b.axes.set_title('20% Discount User Rate')\n",
    "b.axes.set_xlabel('EmployeeId')\n",
    "b.axes.set_ylabel('% of Sales')\n",
    "\n",
    "# plot the quantity sold for each employee\n",
    "c = sns.barplot(x=df2_pivot.index, y=df2_pivot['sum']['Quantity'], ax=ax3)\n",
    "c.axes.set_title('Total Quantity by Employee')\n",
    "c.axes.set_xlabel('EmployeeId')\n",
    "c.axes.set_ylabel('Total Quantity')\n",
    "\n",
    "plt.show()"
   ]
  },
  {
   "cell_type": "markdown",
   "metadata": {},
   "source": []
  }
 ],
 "metadata": {
  "kernelspec": {
   "display_name": "Python [conda env:learn-env] *",
   "language": "python",
   "name": "conda-env-learn-env-py"
  },
  "language_info": {
   "codemirror_mode": {
    "name": "ipython",
    "version": 3
   },
   "file_extension": ".py",
   "mimetype": "text/x-python",
   "name": "python",
   "nbconvert_exporter": "python",
   "pygments_lexer": "ipython3",
   "version": "3.6.6"
  },
  "varInspector": {
   "cols": {
    "lenName": 16,
    "lenType": 16,
    "lenVar": 40
   },
   "kernels_config": {
    "python": {
     "delete_cmd_postfix": "",
     "delete_cmd_prefix": "del ",
     "library": "var_list.py",
     "varRefreshCmd": "print(var_dic_list())"
    },
    "r": {
     "delete_cmd_postfix": ") ",
     "delete_cmd_prefix": "rm(",
     "library": "var_list.r",
     "varRefreshCmd": "cat(var_dic_list()) "
    }
   },
   "types_to_exclude": [
    "module",
    "function",
    "builtin_function_or_method",
    "instance",
    "_Feature"
   ],
   "window_display": false
  }
 },
 "nbformat": 4,
 "nbformat_minor": 2
}
